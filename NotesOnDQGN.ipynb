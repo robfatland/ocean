{
 "cells": [
  {
   "cell_type": "code",
   "execution_count": 1,
   "id": "d57e1bad-a907-4ea9-b0be-cf80dbe45f45",
   "metadata": {},
   "outputs": [],
   "source": [
    "# Some example code is given (commented out) to indicate related operations.\n",
    "#\n",
    "# Code to show the first five qc results flags for FDOM/CDOM: 29, as seen above as well. \n",
    "# D1.fluorometric_cdom_qc_results[0:5]\n",
    "# \n",
    "# Example of removing spike values using a threshold of 100; uses the .where() method.\n",
    "# Dprime = D1.where(D1.fdom > 100., drop=True)\n"
   ]
  },
  {
   "cell_type": "code",
   "execution_count": null,
   "id": "298d5f92-64a2-432b-aaca-50938a0e342d",
   "metadata": {},
   "outputs": [],
   "source": [
    "# Using list to focus on particular columns of a pandas dataframe\n",
    "#   Also addresses text truncation\n",
    "#   Note can select a single row using annot.iloc[22][etcetera]\n",
    "\n",
    "pd.set_option('display.max_colwidth', 0)\n",
    "print(annot[22:23][['subsite','annotation']])\n",
    "print(annot[29:30][['subsite','annotation']])"
   ]
  },
  {
   "cell_type": "code",
   "execution_count": null,
   "id": "85c5e641-9181-4812-802f-f19285852c61",
   "metadata": {},
   "outputs": [],
   "source": [
    "# Examine only a particular column of the annotation data frame\n",
    "annot['beginDate'][0:4]"
   ]
  },
  {
   "cell_type": "code",
   "execution_count": null,
   "id": "f4516137-1d44-4e95-9c8b-475e841fa83d",
   "metadata": {},
   "outputs": [],
   "source": [
    "# Use the dataframe name on a line by itself to inspect the full annotation table, as in:\n",
    "# annot\n",
    "#\n",
    "# Part 6 below uses data from June 14 2019, prior to annual maintenance. To further illustrate checking HITL annotations, here is an \n",
    "# annotation for later in 2019: June 24 -- July 12 by M.Vardaro.\n",
    "\n",
    "# ...I suspect this has not been verified...\n",
    "\n",
    "annot['annotation'][29]"
   ]
  },
  {
   "cell_type": "code",
   "execution_count": 2,
   "id": "d63fa766-310a-45da-9224-6f5be6596c5b",
   "metadata": {},
   "outputs": [],
   "source": [
    "# Not very illustrative charts of particulate and total backscatter removed.\n",
    "# Note use of 'passing along' the XArray plot result to the fig for further mods"
   ]
  },
  {
   "cell_type": "code",
   "execution_count": 4,
   "id": "1accfcd3-e2c8-418e-9201-5e55bb0eb4ff",
   "metadata": {},
   "outputs": [],
   "source": [
    "# fig=DB.particulate.plot(ylim=(0.0, 0.02))[0]\n",
    "# fig.set(color='black')"
   ]
  },
  {
   "cell_type": "code",
   "execution_count": null,
   "id": "ac759259-60aa-452b-ae44-779ca7b8c5c9",
   "metadata": {},
   "outputs": [],
   "source": [
    "# fig=DB.backscatter.plot(ylim=(0.0, 0.02))[0]\n",
    "# fig.set(color='blue')"
   ]
  },
  {
   "cell_type": "code",
   "execution_count": null,
   "id": "5dfc0722-a5e9-4448-8bcb-ab71b2339925",
   "metadata": {},
   "outputs": [],
   "source": [
    "# fig=DB.seawater_scattering_coefficient.plot()[0]\n",
    "# fig.set(color='red')"
   ]
  },
  {
   "cell_type": "code",
   "execution_count": null,
   "id": "b4bb7368-433b-410d-bce5-42b376bfec2d",
   "metadata": {},
   "outputs": [],
   "source": []
  },
  {
   "cell_type": "code",
   "execution_count": null,
   "id": "976fade7-609b-494b-ae74-3c2c6e88a9c6",
   "metadata": {},
   "outputs": [],
   "source": []
  }
 ],
 "metadata": {
  "kernelspec": {
   "display_name": "Python 3 (ipykernel)",
   "language": "python",
   "name": "python3"
  },
  "language_info": {
   "codemirror_mode": {
    "name": "ipython",
    "version": 3
   },
   "file_extension": ".py",
   "mimetype": "text/x-python",
   "name": "python",
   "nbconvert_exporter": "python",
   "pygments_lexer": "ipython3",
   "version": "3.9.12"
  }
 },
 "nbformat": 4,
 "nbformat_minor": 5
}
