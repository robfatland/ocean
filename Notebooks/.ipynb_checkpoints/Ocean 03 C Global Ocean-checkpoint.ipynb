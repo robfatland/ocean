{
 "cells": [
  {
   "cell_type": "markdown",
   "id": "259d73f3-c7e8-4a0a-9fbb-6af94369bbcb",
   "metadata": {},
   "source": [
    "## Global Ocean Data Analysis Project\n",
    "\n",
    "\n",
    "This notebook is a viewer: Five types of data organized as depth-sorted layers of the global ocean.\n",
    "\n",
    "\n",
    "The [GLODAP](https://en.wikipedia.org/wiki/Global_Ocean_Data_Analysis_Project) \n",
    "global ocean dataset compiles several decades of observation. It is a 'geological instant' snapshot of\n",
    "the state of the entire ocean, albeit downsampled a bit.\n",
    "\n",
    "\n",
    "Moving the sliders for each chart selects for depth, as shown at the bottom left.\n",
    "\n",
    "\n",
    "- To do: Reduce the datasets; see the oxygen example\n",
    "- To do: GLODAP data used here is the 2016 version; 2021 v2 available\n",
    "\n",
    "\n",
    "The cell below imports data from the internet. This data load-in helps keep the repository itself reasonably small.\n",
    "It typically takes up to two minutes to complete."
   ]
  },
  {
   "cell_type": "code",
   "execution_count": 1,
   "id": "eb4d356a",
   "metadata": {},
   "outputs": [
    {
     "name": "stdout",
     "output_type": "stream",
     "text": [
      "mkdir: cannot create directory ‘glodap’: File exists\n"
     ]
    }
   ],
   "source": [
    "I_need_to_get_the_data_files = True\n",
    "\n",
    "if I_need_to_get_the_data_files:\n",
    "    !mkdir glodap\n",
    "    !wget -q https://kilroybackup.s3.us-west-2.amazonaws.com/glodap/GLODAPv2.2016b.NO3.nc -O glodap/NO3.nc\n",
    "    !wget -q https://kilroybackup.s3.us-west-2.amazonaws.com/glodap/GLODAPv2.2016b.TCO2.nc -O glodap/TCO2.nc\n",
    "    !wget -q https://kilroybackup.s3.us-west-2.amazonaws.com/glodap/GLODAPv2.2016b.oxygen.nc -O glodap/oxygen.nc\n",
    "    !wget -q https://kilroybackup.s3.us-west-2.amazonaws.com/glodap/GLODAPv2.2016b.salinity.nc -O glodap/salinity.nc\n",
    "    !wget -q https://kilroybackup.s3.us-west-2.amazonaws.com/glodap/GLODAPv2.2016b.temperature.nc -O glodap/temperature.nc\n",
    "    \n",
    "the_data_files_are_in_the_glodap_subfolder = True\n",
    "\n",
    "if the_data_files_are_in_the_glodap_subfolder: ddir = './glodap/'\n",
    "else:                                          ddir = '../../data/glodap/'    # this is a location outside of the repository\n",
    "                                                                              # keeping the data here reduces the bulk of the repo  "
   ]
  },
  {
   "cell_type": "code",
   "execution_count": 2,
   "id": "c7610a02-89a2-4b82-8a02-57310f31d427",
   "metadata": {},
   "outputs": [],
   "source": [
    "import os, sys, time, glob, warnings, cmocean\n",
    "from IPython.display import clear_output\n",
    "warnings.filterwarnings('ignore')\n",
    "this_dir = os.getcwd()  \n",
    "\n",
    "from matplotlib import pyplot as plt\n",
    "from matplotlib import colors as mplcolors\n",
    "from matplotlib import animation, rc\n",
    "import numpy as np, pandas as pd, xarray as xr\n",
    "from numpy import datetime64 as dt64, timedelta64 as td64\n",
    "\n",
    "from ipywidgets import *\n",
    "from traitlets import dlink"
   ]
  },
  {
   "cell_type": "code",
   "execution_count": 7,
   "id": "98dce78e-511e-42f5-aa72-85709c9a2a67",
   "metadata": {},
   "outputs": [
    {
     "data": {
      "application/vnd.jupyter.widget-view+json": {
       "model_id": "4cf688cfc60a4128a421e6a154c79da8",
       "version_major": 2,
       "version_minor": 0
      },
      "text/plain": [
       "interactive(children=(IntSlider(value=0, continuous_update=False, description='depth', max=32), Output()), _do…"
      ]
     },
     "metadata": {},
     "output_type": "display_data"
    },
    {
     "data": {
      "application/vnd.jupyter.widget-view+json": {
       "model_id": "c18b0413a3d946389906055c880b0279",
       "version_major": 2,
       "version_minor": 0
      },
      "text/plain": [
       "interactive(children=(IntSlider(value=0, continuous_update=False, description='depth', max=32), Output()), _do…"
      ]
     },
     "metadata": {},
     "output_type": "display_data"
    },
    {
     "data": {
      "application/vnd.jupyter.widget-view+json": {
       "model_id": "760e7defcb194152acf49e1f56330578",
       "version_major": 2,
       "version_minor": 0
      },
      "text/plain": [
       "interactive(children=(IntSlider(value=0, continuous_update=False, description='depth', max=32), Output()), _do…"
      ]
     },
     "metadata": {},
     "output_type": "display_data"
    },
    {
     "data": {
      "application/vnd.jupyter.widget-view+json": {
       "model_id": "ace51caa9a9a446a84db9e3f3d2e625a",
       "version_major": 2,
       "version_minor": 0
      },
      "text/plain": [
       "interactive(children=(IntSlider(value=0, continuous_update=False, description='depth', max=32), Output()), _do…"
      ]
     },
     "metadata": {},
     "output_type": "display_data"
    },
    {
     "data": {
      "application/vnd.jupyter.widget-view+json": {
       "model_id": "021ee2f6fcca4c3e97e7f4fd3b90f75f",
       "version_major": 2,
       "version_minor": 0
      },
      "text/plain": [
       "interactive(children=(IntSlider(value=0, continuous_update=False, description='depth', max=32), Output()), _do…"
      ]
     },
     "metadata": {},
     "output_type": "display_data"
    },
    {
     "data": {
      "text/plain": [
       "<function __main__.glodap_pTCO2(depth_index)>"
      ]
     },
     "execution_count": 7,
     "metadata": {},
     "output_type": "execute_result"
    }
   ],
   "source": [
    "temperatureFnm = ddir + 'temperature.nc'\n",
    "salinityFnm    = ddir + 'salinity.nc'\n",
    "oxygenFnm      = ddir + 'oxygen.nc'\n",
    "NO3Fnm         = ddir + 'NO3.nc'\n",
    "TCO2Fnm        = ddir + 'TCO2.nc'\n",
    "\n",
    "dsSal  = xr.open_dataset(salinityFnm)\n",
    "dsTemp = xr.open_dataset(temperatureFnm)\n",
    "dsO2   = xr.open_dataset(oxygenFnm)\n",
    "dsNO3  = xr.open_dataset(NO3Fnm)\n",
    "dsTCO2 = xr.open_dataset(TCO2Fnm)\n",
    "\n",
    "# Example: For reducing data volume\n",
    "O2=dsO2[['oxygen', 'Depth']]          # save: O2.to_netcdf('O2.nc')\n",
    "                                      # also: note corresponding changes in glodap_pO2() below\n",
    "\n",
    "plt.rcParams.update({'font.size': 16})\n",
    "\n",
    "def glodap_pO2(depth_index):\n",
    "    O2['oxygen'].sel(depth_surface = depth_index).plot(figsize=(11, 7),cmap=cmocean.cm.oxy,vmin=150, vmax=350)\n",
    "    plt.ylabel(None); plt.xlabel(None)\n",
    "    if depth_index == 0: msg = 'This is for surface water'\n",
    "    else:                msg = 'This is for water at ' + str(int(O2['Depth'].values[depth_index])) + ' meters depth'\n",
    "    plt.text(25, -87, msg); plt.text(28, 50, 'oxygen dissolved in'); plt.text(28, 42, '     ocean water   ')\n",
    "\n",
    "def glodap_pSal(depth_index):\n",
    "    dsSal['salinity'].sel(depth_surface = depth_index).plot(figsize=(11, 7),cmap=cmocean.cm.haline,vmin=33, vmax=36)\n",
    "    plt.ylabel(None); plt.xlabel(None)\n",
    "    if depth_index == 0:msg = 'This is for surface water'\n",
    "    else: msg = 'This is for water at ' + str(int(dsSal['Depth'].values[depth_index])) + ' meters depth'\n",
    "    plt.text(25, -87, msg); plt.text(47, 50, 'salinity of'); plt.text(47, 42, 'ocean water')\n",
    "\n",
    "def glodap_pTemp(depth_index):\n",
    "    dsTemp['temperature'].sel(depth_surface = depth_index).plot(figsize=(11, 7),cmap=cmocean.cm.thermal,vmin=2., vmax=12.)\n",
    "    plt.ylabel(None); plt.xlabel(None)\n",
    "    if depth_index == 0: msg = 'This is for surface water'\n",
    "    else: msg = 'This is for water at ' + str(int(dsTemp['Depth'].values[depth_index])) + ' meters depth'\n",
    "    plt.text(25, -87, msg); plt.text(47, 50, 'temperature of'); plt.text(47, 42, 'ocean water')\n",
    "    \n",
    "def glodap_pNO3(depth_index):\n",
    "    dsNO3['NO3'].sel(depth_surface = depth_index).plot(figsize=(11, 7),cmap=cmocean.cm.algae,vmin=2., vmax=40.)\n",
    "    plt.ylabel(None); plt.xlabel(None)\n",
    "    if depth_index == 0: msg = 'This is for surface water'\n",
    "    else: msg = 'This is for water at ' + str(int(dsNO3['Depth'].values[depth_index])) + ' meters depth'\n",
    "    plt.text(25, -87, msg); plt.text(47, 50, 'nitrate in'); plt.text(47, 42, 'ocean water')\n",
    "\n",
    "def glodap_pTCO2(depth_index):\n",
    "    dsTCO2['TCO2'].sel(depth_surface = depth_index).plot(figsize=(11, 7), cmap=cmocean.cm.delta, vmin=2000., vmax=2500.)\n",
    "    plt.ylabel(None); plt.xlabel(None)\n",
    "    if depth_index == 0: msg = 'This is for surface water'\n",
    "    else: msg = 'This is for water at ' + str(int(dsTCO2['Depth'].values[depth_index])) + ' meters depth'\n",
    "    plt.text(25, -87, msg); plt.text(47, 50, 'carbon dioxide in'); plt.text(47, 42, 'ocean water')\n",
    "\n",
    "interact(glodap_pO2,   depth_index=widgets.IntSlider(min=0, max=32, step=1, value=0, continuous_update=False, description='depth'))\n",
    "interact(glodap_pSal,  depth_index=widgets.IntSlider(min=0, max=32, step=1, value=0, continuous_update=False, description='depth'))\n",
    "interact(glodap_pTemp, depth_index=widgets.IntSlider(min=0, max=32, step=1, value=0, continuous_update=False, description='depth'))\n",
    "interact(glodap_pNO3,  depth_index=widgets.IntSlider(min=0, max=32, step=1, value=0, continuous_update=False, description='depth'))\n",
    "interact(glodap_pTCO2, depth_index=widgets.IntSlider(min=0, max=32, step=1, value=0, continuous_update=False, description='depth'))"
   ]
  },
  {
   "cell_type": "markdown",
   "id": "0622f4ee",
   "metadata": {},
   "source": [
    "## Set the slider above to 28\n",
    "\n",
    "Compare with the mid-ocean ridges shown here.\n",
    "\n",
    "\n",
    "<BR>\n",
    "<img src=\"./../Images/charts/lithosphere_age.png\" style=\"float: left;\" alt=\"drawing\" width=\"800\"/>\n",
    "<div style=\"clear: left\"><BR>"
   ]
  }
 ],
 "metadata": {
  "kernelspec": {
   "display_name": "Python 3 (ipykernel)",
   "language": "python",
   "name": "python3"
  },
  "language_info": {
   "codemirror_mode": {
    "name": "ipython",
    "version": 3
   },
   "file_extension": ".py",
   "mimetype": "text/x-python",
   "name": "python",
   "nbconvert_exporter": "python",
   "pygments_lexer": "ipython3",
   "version": "3.9.12"
  }
 },
 "nbformat": 4,
 "nbformat_minor": 5
}
