{
 "cells": [
  {
   "cell_type": "markdown",
   "id": "915116a2-826a-4657-ad42-6b7ada03ced2",
   "metadata": {},
   "source": [
    "# Linear Algebra using Python's `numpy` library\n",
    "\n",
    "\n",
    "\n",
    "The purpose of this notebook is to develop a basic familiarity with Python's native linear algebra support.\n",
    "This is accomplished in two parts, the first being motivated by different types of matrix factorization and\n",
    "the second motivated by graph theory.\n",
    "\n",
    "\n",
    "\n",
    "* Part 1: Factoring matrices in six different ways (courtesy Gilbert Strang)\n",
    "* Part 2: Spectral graph theory, adapting a graph to matrix representation and then 'reading the eigenvalue tea leaves'\n",
    "\n",
    "\n",
    "\n",
    "> Is this notebook fully realized? No! Not by a long shot! It is under development. Here are some issues.\n",
    "> - reference versus value passing should be doped out: Make sure not breaking values\n",
    "> - same with mutable / immutable: should be clear\n",
    "> - use NetworkX representation of G?\n",
    "\n",
    "\n",
    "## Part 1: Matrix factorizations\n",
    "\n",
    "\n",
    "[According to our dear friend Gilbert Strang](https://youtu.be/YrHlHbtiSM0?si=MXanoTEHWOVHNUFX) \n",
    "there are five essential factorization plans for a given matrix $A$ as the basis, pardon\n",
    "the double entendre, for beginning linear algebra. Here the matrix $A$ consists of a rectangular \n",
    "array of numbers that corresponds to a linear transform operating on a vector space.\n",
    "\n",
    "\n",
    "Before listing the factorizations I will mention the above link is a five minute overview.\n",
    "The full on 'crash course hour-long lecture' on this topic by Professor Strang is \n",
    "[here](https://youtu.be/nTwRjQ4xqUc?si=k0Dui4Y_lC737F2y), highly recommended.\n",
    "\n",
    "\n",
    "Here are those five factorizations as a list of six. Because let's face it, \n",
    "six is equal to five for small values of six.\n",
    "\n",
    "\n",
    "1) $A = C \\cdot R$ where $rank(A) = r$ gets us to the $C$-matrix column space and the $R$-matrix row space, respectively $(m \\times r) \\; (r \\times n)$\n",
    "\n",
    "\n",
    "2) $A = LU$ where $A$ is typically square and $L$ and $U$ are respectively *lower* and *upper* triangular... sometimes a permutation matrix $P$ is introduced as well ($PA=LU$)\n",
    "\n",
    "\n",
    "3) $A = Q \\cdot R$ where the columns of $Q$ are orthogonal vectors\n",
    "\n",
    "\n",
    "4) $S = Q \\Lambda Q^T$ giving an eigendecomposition from $S q = \\lambda q$\n",
    "\n",
    "\n",
    "5) $A = X \\Lambda X^{-1}$ more eigen-development, $A x = \\lambda x$\n",
    "\n",
    "\n",
    "6) $A = U \\Sigma V^T$ for Singular Value Decomposition\n",
    "\n",
    "\n",
    "I will intersperse more extensive comments in the subsections that follow."
   ]
  },
  {
   "cell_type": "markdown",
   "id": "5d7025ae-fbab-444f-8b14-78fb65774f3b",
   "metadata": {},
   "source": [
    "### Part 1.0 Building a matrix A\n",
    "\n",
    "\n",
    "Using the Python `numpy` and `scipy` libraries (abbreviated `np` and `sp`) we have a \n",
    "drawer full of functions and attributes on hand. This includes an implicit \n",
    "format for matrix content based on the multidimensional array structure\n",
    "called `ndarray` in `numpy`. \n",
    "\n",
    "\n",
    "This section builds a test matrix $A$ which is subjected to factorization\n",
    "in subsequent sections. \n",
    "\n",
    "\n",
    "- Below is a non-trivial example of the construction syntax (from a list of lists). \n",
    "- There is a bias towards row-format...\n",
    "    - ...but the array has an *attribute* **`.T`**: The transpose of the ndarray\n",
    "- Another common attribute is **`.shape`**: The two dimensions (rows and columns) of the ndarray \n",
    "\n",
    "\n",
    "```\n",
    "import numpy as np\n",
    "\n",
    "row0 = [1, 2]\n",
    "row1 = [-1, 1]\n",
    "A = np.array([row0, row1])\n",
    "print(A, '\\n\\n', A.T)\n",
    "\n",
    "[[ 1  2]\n",
    " [-1  1]] \n",
    "\n",
    " [[ 1 -1]\n",
    " [ 2  1]]\n",
    "```"
   ]
  },
  {
   "cell_type": "code",
   "execution_count": 149,
   "id": "244a22b5-fce0-4ab2-91a7-9d3ce429b5ab",
   "metadata": {
    "tags": []
   },
   "outputs": [],
   "source": [
    "import numpy as np, scipy as sp\n",
    "from random import random, randint    # randint range is inclusive\n",
    "\n",
    "\n",
    "def generate_random_integer_valued_matrix(n, m, low_limit, high_limit):\n",
    "    matrix_list = []\n",
    "    for row_counter in range(n_rows):\n",
    "        matrix_list.append([randint(low_limit, high_limit) for i in range(m_cols)])\n",
    "    return np.array(matrix_list)\n"
   ]
  },
  {
   "cell_type": "code",
   "execution_count": 150,
   "id": "74a75a39-9855-418f-8981-412c3fbafba0",
   "metadata": {
    "tags": []
   },
   "outputs": [
    {
     "data": {
      "text/plain": [
       "array([[ 1, -3, -3,  0,  0],\n",
       "       [-1, -2, -3, -2, -1],\n",
       "       [ 2,  3,  3,  1, -1],\n",
       "       [-2, -3, -3, -2,  1],\n",
       "       [ 2,  2, -3, -2,  1]])"
      ]
     },
     "execution_count": 150,
     "metadata": {},
     "output_type": "execute_result"
    }
   ],
   "source": [
    "n_rows, m_cols = 5,5                # experiment with these!\n",
    "\n",
    "A = generate_random_integer_valued_matrix(n_rows, m_cols, -3, 3)\n",
    "\n",
    "A"
   ]
  },
  {
   "cell_type": "markdown",
   "id": "378c6ccb-9f7f-4e22-ae5d-2d182a543e37",
   "metadata": {
    "tags": []
   },
   "source": [
    "`A` is our matrix of interest; and technically in Python it is a **numpy.ndarray** with dimension 2. \n",
    "\n",
    "\n",
    "Again: `A.shape` is an *attribute* of the `A` object. In fact it is\n",
    "a 2-tuple with values `(n_rows, m_cols)`. These values can be used directly as `A.shape[0]` and `A.shape[1]`.\n",
    "\n",
    "\n",
    "An element of `A` can be indexed using a tuple-subscript or a multi-subscript: `A[0, 2]` or `A[0][2]`.\n",
    "The first value is row index, then column index.\n",
    "\n",
    "\n",
    "Often matrix operations produce goofy scientific notation results like `0.999999e+00` instead of `1`.\n",
    "I use the `round(a, b)` function to clean this up and make it more readable. "
   ]
  },
  {
   "cell_type": "code",
   "execution_count": 151,
   "id": "cf6471b8-bfb8-4093-8fa9-2f695516263e",
   "metadata": {
    "tags": []
   },
   "outputs": [
    {
     "name": "stdout",
     "output_type": "stream",
     "text": [
      "Check this indexing against the printout of A above: A[0,2] versus A[2][0]:  -3  versus  2\n"
     ]
    }
   ],
   "source": [
    "if not A.shape == (n_rows, m_cols): print(\"A.shape is bent outta shape!\")       # sanity check\n",
    "print('Check this indexing against the printout of A above: A[0,2] versus A[2][0]: ', A[0,2], ' versus ', A[2][0])"
   ]
  },
  {
   "cell_type": "markdown",
   "id": "c8eb0b46-73a0-48ca-9456-82a4b989f922",
   "metadata": {},
   "source": [
    "### Factorization 1: A = C R"
   ]
  },
  {
   "cell_type": "markdown",
   "id": "2f3b00cb-2f0b-48d3-b4f4-15e8bc4207f1",
   "metadata": {},
   "source": [
    "### Factorization 2: A = L U\n",
    "\n",
    "\n",
    "This is the bread and butter of solving $A x = b$ for unknown $x$. The idea is to produce lower- and upper-triangular matrices\n",
    "$L$ and $U$. Now we have $A x = b$ with $x$ what we are solving for. Substitute:\n",
    "\n",
    "\n",
    "$L U x = b$\n",
    "\n",
    "\n",
    "Since matrix multiplication is associative, $(AB)C = A(BC)$, we can write this as\n",
    "\n",
    "\n",
    "$L (U x) = b$\n",
    "\n",
    "\n",
    "Suppose $U x$ gives us a vector $c$: $U x = c$. Then $L c = b$. Since $L$ is lower-triangular it is quite easy to solve for this $c$ vector. \n",
    "Then we can proceed to solve for $x$ in $U x = c$ (because $c$ is now known and again 'triangular makes solving easy); and there we are at the solution. "
   ]
  },
  {
   "cell_type": "code",
   "execution_count": 153,
   "id": "59b9528c-92cf-4b99-a013-802b70c1e4e9",
   "metadata": {
    "tags": []
   },
   "outputs": [
    {
     "name": "stdout",
     "output_type": "stream",
     "text": [
      "matrix A:\n",
      "\n",
      " [[ 1 -3 -3  0  0]\n",
      " [-1 -2 -3 -2 -1]\n",
      " [ 2  3  3  1 -1]\n",
      " [-2 -3 -3 -2  1]\n",
      " [ 2  2 -3 -2  1]] \n",
      "\n",
      "\n",
      "permutation matrix P:\n",
      "\n",
      " [[0. 1. 0. 0. 0.]\n",
      " [0. 0. 0. 0. 1.]\n",
      " [1. 0. 0. 0. 0.]\n",
      " [0. 0. 0. 1. 0.]\n",
      " [0. 0. 1. 0. 0.]] \n",
      "\n",
      "\n",
      "L:\n",
      "\n",
      " [[ 1.     0.     0.     0.     0.   ]\n",
      " [ 0.5    1.     0.     0.     0.   ]\n",
      " [ 1.     0.222  1.     0.     0.   ]\n",
      " [-1.    -0.    -0.     1.     0.   ]\n",
      " [-0.5    0.111  0.2    0.867  1.   ]] \n",
      "\n",
      "\n",
      "U:\n",
      "\n",
      " [[ 2.     3.     3.     1.    -1.   ]\n",
      " [ 0.    -4.5   -4.5   -0.5    0.5  ]\n",
      " [ 0.     0.    -5.    -2.889  1.889]\n",
      " [ 0.     0.     0.    -1.     0.   ]\n",
      " [ 0.     0.     0.     0.    -1.933]] \n",
      "\n",
      "\n",
      "PLU - A: \n",
      "\n",
      " [[0. 0. 0. 0. 0.]\n",
      " [0. 0. 0. 0. 0.]\n",
      " [0. 0. 0. 0. 0.]\n",
      " [0. 0. 0. 0. 0.]\n",
      " [0. 0. 0. 0. 0.]] \n",
      "\n",
      "\n"
     ]
    }
   ],
   "source": [
    "np.set_printoptions(suppress=True)\n",
    "\n",
    "print('matrix A:\\n\\n', A, '\\n\\n')\n",
    "\n",
    "P, L, U = sp.linalg.lu(A)\n",
    "\n",
    "print('permutation matrix P:\\n\\n', P, '\\n\\n')\n",
    "print('L:\\n\\n', np.around(L, 3), '\\n\\n')\n",
    "print('U:\\n\\n', np.around(U, 3), '\\n\\n')\n",
    "\n",
    "PLU_recovered = np.matmul(P, np.matmul(L, U))\n",
    "\n",
    "print(\"PLU - A: \\n\\n\", PLU_recovered - A, '\\n\\n')"
   ]
  },
  {
   "cell_type": "markdown",
   "id": "f985a375-7c05-4679-b889-cf038ac408c2",
   "metadata": {},
   "source": [
    "### Factorization 3: A = Q R"
   ]
  },
  {
   "cell_type": "code",
   "execution_count": 154,
   "id": "aafe4f5e-a7eb-4d64-974c-f1d7ff54a400",
   "metadata": {
    "tags": []
   },
   "outputs": [
    {
     "name": "stdout",
     "output_type": "stream",
     "text": [
      "[[ 1 -3 -3  0  0]\n",
      " [-1 -2 -3 -2 -1]\n",
      " [ 2  3  3  1 -1]\n",
      " [-2 -3 -3 -2  1]\n",
      " [ 2  2 -3 -2  1]] \n",
      "\n",
      "\n",
      "[[-0.26726124 -0.93581047 -0.22236478  0.03054692 -0.04950738]\n",
      " [ 0.26726124 -0.21343046  0.3487084  -0.45820381  0.74261066]\n",
      " [-0.53452248  0.19701273 -0.27037535 -0.7697824  -0.09901475]\n",
      " [ 0.53452248 -0.19701273  0.27037535 -0.43376627 -0.6435959 ]\n",
      " [-0.53452248 -0.03283546  0.8262873   0.09164076 -0.14852213]] \n",
      "\n",
      "\n",
      "[[-3.74165739 -4.00891863 -1.60356745 -1.06904497  0.26726124]\n",
      " [ 0.          4.35069781  4.72830554  1.08357002 -0.21343046]\n",
      " [ 0.          0.         -4.48014488 -3.16111745  1.0183296 ]\n",
      " [ 0.          0.          0.          0.83087624  0.8858607 ]\n",
      " [ 0.          0.          0.          0.         -1.43571394]] \n",
      "\n",
      "\n",
      "[[ 1. -3. -3. -0. -0.]\n",
      " [-1. -2. -3. -2. -1.]\n",
      " [ 2.  3.  3.  1. -1.]\n",
      " [-2. -3. -3. -2.  1.]\n",
      " [ 2.  2. -3. -2.  1.]] \n",
      "\n",
      "\n"
     ]
    }
   ],
   "source": [
    "q_factor, r_factor = np.linalg.qr(A)\n",
    "A_recovered = np.matmul(q_factor, r_factor)\n",
    "print(A, '\\n\\n')\n",
    "print(q_factor, '\\n\\n')\n",
    "print(r_factor, '\\n\\n')\n",
    "print(A_recovered, '\\n\\n')"
   ]
  },
  {
   "cell_type": "markdown",
   "id": "47df18ab-9a19-4279-860d-df55839875da",
   "metadata": {},
   "source": [
    "### Factorization 4 / 5"
   ]
  },
  {
   "cell_type": "markdown",
   "id": "71a214ea-c0e1-4bc8-9d1d-2a339c22f909",
   "metadata": {},
   "source": [
    "### Factorization 6 SVD"
   ]
  },
  {
   "cell_type": "code",
   "execution_count": 83,
   "id": "5d83b1f7-4574-4e2b-8caa-f72026409236",
   "metadata": {
    "tags": []
   },
   "outputs": [
    {
     "name": "stdout",
     "output_type": "stream",
     "text": [
      "[[-1 -3 -1]\n",
      " [-3 -1  1]\n",
      " [-2 -3  1]] \n",
      "\n",
      "\n",
      "[[-5.17333201e-01  7.07106781e-01 -4.82043939e-01]\n",
      " [-5.17333201e-01 -7.07106781e-01 -4.82043939e-01]\n",
      " [-6.81713077e-01  6.69345352e-17  7.31619628e-01]] \n",
      "\n",
      "\n",
      "[[5.40161521 0.         0.        ]\n",
      " [0.         2.44948974 0.        ]\n",
      " [0.         0.         0.90694714]] \n",
      "\n",
      "\n",
      "[[ 0.63550601  0.76171143 -0.12620541]\n",
      " [ 0.57735027 -0.57735027 -0.57735027]\n",
      " [ 0.51263903 -0.29404484  0.80668387]] \n",
      "\n",
      "\n",
      "[[-1. -3. -1.]\n",
      " [-3. -1.  1.]\n",
      " [-2. -3.  1.]] \n",
      "\n",
      "\n"
     ]
    }
   ],
   "source": [
    "print(A, '\\n\\n')\n",
    "U, Sigma, VT = np.linalg.svd(A)\n",
    "print(U, '\\n\\n')\n",
    "print(np.diag(Sigma), '\\n\\n')\n",
    "print(VT, '\\n\\n')\n",
    "A_recovered = np.matmul(U, np.matmul(np.diag(Sigma), VT))\n",
    "print(A_recovered, '\\n\\n')"
   ]
  },
  {
   "cell_type": "markdown",
   "id": "20b20e97-e055-4d49-903f-e4948976abba",
   "metadata": {},
   "source": [
    "## Part 2: Laplacian eigenvalues from spectral graph theory\n",
    "\n",
    "\n",
    "\n",
    "Here the idea is to create matrices from graphs, of a particular form named after Laplace.\n",
    "Once we have such a matrix the resulting eigenvalues are associated with characteristics \n",
    "of the graph. Kind of magical! My reference is **Spectral Graph Theory** by Fan Chung.\n",
    "\n",
    "\n",
    "Incidentally the ideal way to proceed would be from the 'two set' idea for forming a graph.\n",
    "The first set $V$ has some number of unique elements and the second set $E$ consists of pairs\n",
    "of elements of $V$. Now Python has `set` as a *type* so at first glance maybe that is the way to go."
   ]
  },
  {
   "cell_type": "code",
   "execution_count": 96,
   "id": "482a9fe7-5496-4592-9f84-8818a7e2305a",
   "metadata": {
    "tags": []
   },
   "outputs": [
    {
     "name": "stdout",
     "output_type": "stream",
     "text": [
      "{0, 1, 2, 3, 4, 5, 6} \n",
      "\n",
      "\n",
      "{(0, 1), (1, 2), (3, 4), (0, 3), (1, 4), (0, 6), (2, 3), (4, 5), (2, 6), (5, 6), (3, 6), (1, 3)} \n",
      "\n",
      "\n",
      "There are 7 vertices and 12 edges.\n",
      "\n"
     ]
    }
   ],
   "source": [
    "# Let's start by constructing random graph G\n",
    "# The vertices n in number are simply identified by integers 0 ... n-1.\n",
    "# Two vertices are connected by an edge with probability p.\n",
    "# Setting p to 1/2 pretty much guarantees G is connected\n",
    "# Self-loops are not allowed.\n",
    "# A set in Python is immutable (I think)\n",
    "\n",
    "\n",
    "n = 7\n",
    "p = 0.5\n",
    "V = set(range(n))\n",
    "\n",
    "\n",
    "E = []\n",
    "for i in range(n-1):\n",
    "    for j in range(i+1, n):\n",
    "        if random() < p:\n",
    "            E.append((i, j))\n",
    "\n",
    "E = set(E)\n",
    "e = len(E)\n",
    "\n",
    "print(V, '\\n\\n')\n",
    "print(E, '\\n\\n')\n",
    "print('There are ' + str(n) + ' vertices and ' + str(e) + ' edges.\\n')\n"
   ]
  },
  {
   "cell_type": "code",
   "execution_count": 97,
   "id": "06136cc5-c05f-44b0-b3ff-cf0f2c1b0441",
   "metadata": {
    "tags": []
   },
   "outputs": [],
   "source": [
    "import networkx as nx"
   ]
  },
  {
   "cell_type": "markdown",
   "id": "62a55e23-50da-4be1-94b7-91b92bc77270",
   "metadata": {
    "tags": []
   },
   "source": [
    "### Section 2.0 Build a graph G\n",
    "\n",
    "\n",
    "Analogous to Section 1 where we build matrix A to be factored, here we want to build a graph G in the NetworkX library context. \n",
    "\n",
    "\n",
    "G = 1               # maybe upgrade this to a graph"
   ]
  },
  {
   "cell_type": "code",
   "execution_count": null,
   "id": "12ef2417-d3af-4dd0-ab56-06e9de958cf7",
   "metadata": {},
   "outputs": [],
   "source": []
  },
  {
   "cell_type": "code",
   "execution_count": null,
   "id": "bdc79357-57c1-4efc-addc-4278e1056060",
   "metadata": {},
   "outputs": [],
   "source": []
  },
  {
   "cell_type": "code",
   "execution_count": null,
   "id": "7546827e-bab6-4140-852c-38b0db0742ad",
   "metadata": {},
   "outputs": [],
   "source": []
  },
  {
   "cell_type": "code",
   "execution_count": null,
   "id": "a81d5c51-2f8a-4fa2-a503-b8a266bbb7de",
   "metadata": {},
   "outputs": [],
   "source": []
  },
  {
   "cell_type": "code",
   "execution_count": null,
   "id": "98f9d3a6-703a-4ef7-98b2-8337966b07b8",
   "metadata": {},
   "outputs": [],
   "source": []
  },
  {
   "cell_type": "code",
   "execution_count": null,
   "id": "25d02a36-d9e0-44f7-bc71-11a6bfc92b60",
   "metadata": {},
   "outputs": [],
   "source": []
  },
  {
   "cell_type": "code",
   "execution_count": null,
   "id": "04dd5a12-e2d8-4685-94f9-e7f3b33fd908",
   "metadata": {},
   "outputs": [],
   "source": []
  },
  {
   "cell_type": "code",
   "execution_count": null,
   "id": "8840ca4d-1a5b-4673-8d86-906da163d723",
   "metadata": {},
   "outputs": [],
   "source": []
  },
  {
   "cell_type": "code",
   "execution_count": 133,
   "id": "cb22eed3-da2f-4383-89f4-9522959b7c8c",
   "metadata": {
    "tags": []
   },
   "outputs": [
    {
     "ename": "AttributeError",
     "evalue": "'int' object has no attribute 'is_directed'",
     "output_type": "error",
     "traceback": [
      "\u001b[0;31m---------------------------------------------------------------------------\u001b[0m",
      "\u001b[0;31mAttributeError\u001b[0m                            Traceback (most recent call last)",
      "Cell \u001b[0;32mIn[133], line 1\u001b[0m\n\u001b[0;32m----> 1\u001b[0m L \u001b[38;5;241m=\u001b[39m nx\u001b[38;5;241m.\u001b[39mlaplacian_matrix(G)\n",
      "File \u001b[0;32m~/miniconda3/envs/argo-env2/lib/python3.11/site-packages/networkx/utils/decorators.py:766\u001b[0m, in \u001b[0;36margmap.__call__.<locals>.func\u001b[0;34m(_argmap__wrapper, *args, **kwargs)\u001b[0m\n\u001b[1;32m    765\u001b[0m \u001b[38;5;28;01mdef\u001b[39;00m \u001b[38;5;21mfunc\u001b[39m(\u001b[38;5;241m*\u001b[39margs, __wrapper\u001b[38;5;241m=\u001b[39m\u001b[38;5;28;01mNone\u001b[39;00m, \u001b[38;5;241m*\u001b[39m\u001b[38;5;241m*\u001b[39mkwargs):\n\u001b[0;32m--> 766\u001b[0m     \u001b[38;5;28;01mreturn\u001b[39;00m argmap\u001b[38;5;241m.\u001b[39m_lazy_compile(__wrapper)(\u001b[38;5;241m*\u001b[39margs, \u001b[38;5;241m*\u001b[39m\u001b[38;5;241m*\u001b[39mkwargs)\n",
      "File \u001b[0;32m<class 'networkx.utils.decorators.argmap'> compilation 4:3\u001b[0m, in \u001b[0;36margmap_laplacian_matrix_1\u001b[0;34m(G, nodelist, weight)\u001b[0m\n\u001b[1;32m      1\u001b[0m \u001b[38;5;28;01mimport\u001b[39;00m \u001b[38;5;21;01mbz2\u001b[39;00m\n\u001b[1;32m      2\u001b[0m \u001b[38;5;28;01mimport\u001b[39;00m \u001b[38;5;21;01mcollections\u001b[39;00m\n\u001b[0;32m----> 3\u001b[0m \u001b[38;5;28;01mimport\u001b[39;00m \u001b[38;5;21;01mgzip\u001b[39;00m\n\u001b[1;32m      4\u001b[0m \u001b[38;5;28;01mimport\u001b[39;00m \u001b[38;5;21;01minspect\u001b[39;00m\n\u001b[1;32m      5\u001b[0m \u001b[38;5;28;01mimport\u001b[39;00m \u001b[38;5;21;01mitertools\u001b[39;00m\n",
      "File \u001b[0;32m~/miniconda3/envs/argo-env2/lib/python3.11/site-packages/networkx/utils/decorators.py:84\u001b[0m, in \u001b[0;36mnot_implemented_for.<locals>._not_implemented_for\u001b[0;34m(g)\u001b[0m\n\u001b[1;32m     82\u001b[0m \u001b[38;5;28;01mdef\u001b[39;00m \u001b[38;5;21m_not_implemented_for\u001b[39m(g):\n\u001b[1;32m     83\u001b[0m     \u001b[38;5;28;01mif\u001b[39;00m (mval \u001b[38;5;129;01mis\u001b[39;00m \u001b[38;5;28;01mNone\u001b[39;00m \u001b[38;5;129;01mor\u001b[39;00m mval \u001b[38;5;241m==\u001b[39m g\u001b[38;5;241m.\u001b[39mis_multigraph()) \u001b[38;5;129;01mand\u001b[39;00m (\n\u001b[0;32m---> 84\u001b[0m         dval \u001b[38;5;129;01mis\u001b[39;00m \u001b[38;5;28;01mNone\u001b[39;00m \u001b[38;5;129;01mor\u001b[39;00m dval \u001b[38;5;241m==\u001b[39m g\u001b[38;5;241m.\u001b[39mis_directed()\n\u001b[1;32m     85\u001b[0m     ):\n\u001b[1;32m     86\u001b[0m         \u001b[38;5;28;01mraise\u001b[39;00m nx\u001b[38;5;241m.\u001b[39mNetworkXNotImplemented(errmsg)\n\u001b[1;32m     88\u001b[0m     \u001b[38;5;28;01mreturn\u001b[39;00m g\n",
      "\u001b[0;31mAttributeError\u001b[0m: 'int' object has no attribute 'is_directed'"
     ]
    }
   ],
   "source": [
    "L = nx.laplacian_matrix(G)"
   ]
  },
  {
   "cell_type": "code",
   "execution_count": null,
   "id": "98022f9e-3bed-4610-94ab-9a8b4d5e75cb",
   "metadata": {},
   "outputs": [],
   "source": []
  }
 ],
 "metadata": {
  "kernelspec": {
   "display_name": "Python 3 (ipykernel)",
   "language": "python",
   "name": "python3"
  },
  "language_info": {
   "codemirror_mode": {
    "name": "ipython",
    "version": 3
   },
   "file_extension": ".py",
   "mimetype": "text/x-python",
   "name": "python",
   "nbconvert_exporter": "python",
   "pygments_lexer": "ipython3",
   "version": "3.11.4"
  }
 },
 "nbformat": 4,
 "nbformat_minor": 5
}
