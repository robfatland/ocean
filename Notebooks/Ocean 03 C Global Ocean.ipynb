{
 "cells": [
  {
   "cell_type": "markdown",
   "id": "259d73f3-c7e8-4a0a-9fbb-6af94369bbcb",
   "metadata": {},
   "source": [
    "# content is under revision June 2022\n",
    "\n",
    "### What is needed here\n",
    "\n",
    "- Refresh the copy of GLODAP (currently the 2016 version; 2021 v2 available)\n",
    "- DONE: (temporary) Download the source data (five files)\n",
    "- DONE: Created a wget loader; seems to run in 15 seconds\n",
    "- DONE: Add cmocean as a dependency in binder/env.yml\n",
    "\n",
    "\n",
    "Problem: This works for Jupyter notebook but not Jupyterlab\n",
    "\n",
    "- For Jupyterlab: pip install ipympl (?)\n",
    "- Possibly also need what's below but the third line fails, argh\n",
    "\n",
    "```\n",
    "pip install nodejs\n",
    "pip install npm\n",
    "jupyter labextension install @jupyter-widgets/jupyterlab-manager\n",
    "jupyter labextension install jupyter-matplotlib\n",
    "```\n",
    "\n",
    "> ## Special alert!\n",
    "> ### Below: set **`I_need_to_get_the_data_files = True`** and run the cell (est < 1 minute).\n",
    "\n",
    "\n",
    "This is a data load that allows us to keep the repository small; and bring in the glodap\n",
    "data used in the interactive visualization below. "
   ]
  },
  {
   "cell_type": "code",
   "execution_count": 12,
   "id": "eb4d356a",
   "metadata": {},
   "outputs": [
    {
     "name": "stdout",
     "output_type": "stream",
     "text": [
      "mkdir: cannot create directory ‘glodap’: File exists\r\n"
     ]
    }
   ],
   "source": [
    "I_need_to_get_the_data_files = True\n",
    "\n",
    "if I_need_to_get_the_data_files:\n",
    "    !mkdir glodap\n",
    "    !wget -q https://kilroybackup.s3.us-west-2.amazonaws.com/glodap/GLODAPv2.2016b.NO3.nc -O glodap/NO3.nc\n",
    "    !wget -q https://kilroybackup.s3.us-west-2.amazonaws.com/glodap/GLODAPv2.2016b.TCO2.nc -O glodap/TCO2.nc\n",
    "    !wget -q https://kilroybackup.s3.us-west-2.amazonaws.com/glodap/GLODAPv2.2016b.oxygen.nc -O glodap/oxygen.nc\n",
    "    !wget -q https://kilroybackup.s3.us-west-2.amazonaws.com/glodap/GLODAPv2.2016b.salinity.nc -O glodap/salinity.nc\n",
    "    !wget -q https://kilroybackup.s3.us-west-2.amazonaws.com/glodap/GLODAPv2.2016b.temperature.nc -O glodap/temperature.nc\n",
    "    \n",
    "the_data_files_are_in_the_glodap_subfolder = True\n",
    "\n",
    "if the_data_files_are_in_the_glodap_subfolder: ddir = './glodap/'\n",
    "else: ddir = '../../data/glodap/'             # this is a location outside of the repository\n",
    "                                              # keeping the data here reduces the bulk of the repo  "
   ]
  },
  {
   "cell_type": "markdown",
   "id": "severe-church",
   "metadata": {},
   "source": [
    "# Global Ocean Data Analysis Project\n",
    "\n",
    "\n",
    "The objective for this notebook is to inspect layers of the global ocean by means of the GLODAP\n",
    "dataset. \n",
    "\n",
    "\n",
    "The [GLODAP](https://en.wikipedia.org/wiki/Global_Ocean_Data_Analysis_Project) \n",
    "global ocean dataset compiles several decades of observation. It is a geological instant snapshot of\n",
    "the state of the entire ocean, albeit downsampled a bit.\n",
    "\n",
    "\n",
    "Moving the sliders for each chart selects for depth, as shown at the bottom left."
   ]
  },
  {
   "cell_type": "code",
   "execution_count": 13,
   "id": "c7610a02-89a2-4b82-8a02-57310f31d427",
   "metadata": {},
   "outputs": [
    {
     "name": "stdout",
     "output_type": "stream",
     "text": [
      "\n",
      "Jupyter Notebook running Python 3\n"
     ]
    }
   ],
   "source": [
    "import os, sys, time, glob, warnings, cmocean\n",
    "\n",
    "# from IPython.display import clear_output             # use inside loop with clear_output(wait = True) followed by print(i)\n",
    "warnings.filterwarnings('ignore')\n",
    "\n",
    "this_dir = os.getcwd()\n",
    "data_dir = '/data/'                    # fix this\n",
    "\n",
    "from matplotlib import pyplot as plt\n",
    "from matplotlib import colors as mplcolors\n",
    "import numpy as np, pandas as pd, xarray as xr\n",
    "from ipywidgets import *\n",
    "from traitlets import dlink\n",
    "\n",
    "print('\\nJupyter Notebook running Python {}'.format(sys.version_info[0]))\n",
    "\n",
    "%matplotlib notebook"
   ]
  },
  {
   "cell_type": "code",
   "execution_count": 7,
   "id": "243e3697-a87a-44ab-b8f2-32152232dc97",
   "metadata": {},
   "outputs": [
    {
     "name": "stdout",
     "output_type": "stream",
     "text": [
      "Warning: Cannot change to a different GUI toolkit: widget. Using notebook instead.\n"
     ]
    }
   ],
   "source": [
    "# this is recommended for jupyterlab: %matplotlib widget"
   ]
  },
  {
   "cell_type": "code",
   "execution_count": 14,
   "id": "98dce78e-511e-42f5-aa72-85709c9a2a67",
   "metadata": {
    "scrolled": false
   },
   "outputs": [
    {
     "data": {
      "application/vnd.jupyter.widget-view+json": {
       "model_id": "816f3ba6f5974d32abb86dabf0452314",
       "version_major": 2,
       "version_minor": 0
      },
      "text/plain": [
       "interactive(children=(IntSlider(value=0, continuous_update=False, description='depth', max=32), Output()), _do…"
      ]
     },
     "metadata": {},
     "output_type": "display_data"
    },
    {
     "data": {
      "application/vnd.jupyter.widget-view+json": {
       "model_id": "90b2bd2a1b9e47fca804e7deee0dd2dc",
       "version_major": 2,
       "version_minor": 0
      },
      "text/plain": [
       "interactive(children=(IntSlider(value=0, continuous_update=False, description='depth', max=32), Output()), _do…"
      ]
     },
     "metadata": {},
     "output_type": "display_data"
    },
    {
     "data": {
      "application/vnd.jupyter.widget-view+json": {
       "model_id": "aff596dca77042a39a039466d6523920",
       "version_major": 2,
       "version_minor": 0
      },
      "text/plain": [
       "interactive(children=(IntSlider(value=0, continuous_update=False, description='depth', max=32), Output()), _do…"
      ]
     },
     "metadata": {},
     "output_type": "display_data"
    },
    {
     "data": {
      "application/vnd.jupyter.widget-view+json": {
       "model_id": "3be8920720e74108b04ea891d8a2f046",
       "version_major": 2,
       "version_minor": 0
      },
      "text/plain": [
       "interactive(children=(IntSlider(value=0, continuous_update=False, description='depth', max=32), Output()), _do…"
      ]
     },
     "metadata": {},
     "output_type": "display_data"
    },
    {
     "data": {
      "application/vnd.jupyter.widget-view+json": {
       "model_id": "c542e78e69494b27930b8ed96d412c86",
       "version_major": 2,
       "version_minor": 0
      },
      "text/plain": [
       "interactive(children=(IntSlider(value=0, continuous_update=False, description='depth', max=32), Output()), _do…"
      ]
     },
     "metadata": {},
     "output_type": "display_data"
    },
    {
     "data": {
      "text/plain": [
       "<function __main__.glodap_pTCO2(depth_index)>"
      ]
     },
     "execution_count": 14,
     "metadata": {},
     "output_type": "execute_result"
    }
   ],
   "source": [
    "temperatureFnm = ddir + 'temperature.nc'\n",
    "salinityFnm    = ddir + 'salinity.nc'\n",
    "oxygenFnm      = ddir + 'oxygen.nc'\n",
    "NO3Fnm         = ddir + 'NO3.nc'\n",
    "TCO2Fnm        = ddir + 'TCO2.nc'\n",
    "\n",
    "dsSal  = xr.open_dataset(salinityFnm)\n",
    "dsTemp = xr.open_dataset(temperatureFnm)\n",
    "dsO2   = xr.open_dataset(oxygenFnm)\n",
    "dsNO3  = xr.open_dataset(NO3Fnm)\n",
    "dsTCO2 = xr.open_dataset(TCO2Fnm)\n",
    "\n",
    "plt.rcParams.update({'font.size': 16})\n",
    "\n",
    "def glodap_pO2(depth_index):\n",
    "    dsO2['oxygen'].sel(depth_surface = depth_index).plot(figsize=(10.4, 6),cmap=cmocean.cm.oxy,vmin=150, vmax=350)\n",
    "    plt.ylabel(None); plt.xlabel(None)\n",
    "    if depth_index == 0: msg = 'This is for surface water'\n",
    "    else:                msg = 'This is for water at ' + str(int(dsO2['Depth'].values[depth_index])) + ' meters depth'\n",
    "    plt.text(25, -87, msg); plt.text(28, 50, 'oxygen dissolved in'); plt.text(28, 42, '     ocean water   ')\n",
    "\n",
    "def glodap_pSal(depth_index):\n",
    "    dsSal['salinity'].sel(depth_surface = depth_index).plot(figsize=(10.4, 6),cmap=cmocean.cm.haline,vmin=33, vmax=36)\n",
    "    plt.ylabel(None); plt.xlabel(None)\n",
    "    if depth_index == 0:msg = 'This is for surface water'\n",
    "    else: msg = 'This is for water at ' + str(int(dsSal['Depth'].values[depth_index])) + ' meters depth'\n",
    "    plt.text(25, -87, msg); plt.text(47, 50, 'salinity of'); plt.text(47, 42, 'ocean water')\n",
    "\n",
    "def glodap_pTemp(depth_index):\n",
    "    dsTemp['temperature'].sel(depth_surface = depth_index).plot(figsize=(10.4, 6),cmap=cmocean.cm.thermal,vmin=2., vmax=12.)\n",
    "    plt.ylabel(None); plt.xlabel(None)\n",
    "    if depth_index == 0: msg = 'This is for surface water'\n",
    "    else: msg = 'This is for water at ' + str(int(dsTemp['Depth'].values[depth_index])) + ' meters depth'\n",
    "    plt.text(25, -87, msg); plt.text(47, 50, 'temperature of'); plt.text(47, 42, 'ocean water')\n",
    "    \n",
    "def glodap_pNO3(depth_index):\n",
    "    dsNO3['NO3'].sel(depth_surface = depth_index).plot(figsize=(10.4, 6),cmap=cmocean.cm.algae,vmin=2., vmax=40.)\n",
    "    plt.ylabel(None); plt.xlabel(None)\n",
    "    if depth_index == 0: msg = 'This is for surface water'\n",
    "    else: msg = 'This is for water at ' + str(int(dsNO3['Depth'].values[depth_index])) + ' meters depth'\n",
    "    plt.text(25, -87, msg); plt.text(47, 50, 'nitrate in'); plt.text(47, 42, 'ocean water')\n",
    "\n",
    "def glodap_pTCO2(depth_index):\n",
    "    dsTCO2['TCO2'].sel(depth_surface = depth_index).plot(figsize=(10.4, 6), cmap=cmocean.cm.delta, vmin=2000., vmax=2500.)\n",
    "    plt.ylabel(None); plt.xlabel(None)\n",
    "    if depth_index == 0: msg = 'This is for surface water'\n",
    "    else: msg = 'This is for water at ' + str(int(dsTCO2['Depth'].values[depth_index])) + ' meters depth'\n",
    "    plt.text(25, -87, msg); plt.text(47, 50, 'carbon dioxide in'); plt.text(47, 42, 'ocean water')\n",
    "\n",
    "interact(glodap_pO2,   depth_index=widgets.IntSlider(min=0, max=32, step=1, value=0, continuous_update=False, description='depth'))\n",
    "interact(glodap_pSal,  depth_index=widgets.IntSlider(min=0, max=32, step=1, value=0, continuous_update=False, description='depth'))\n",
    "interact(glodap_pTemp, depth_index=widgets.IntSlider(min=0, max=32, step=1, value=0, continuous_update=False, description='depth'))\n",
    "interact(glodap_pNO3,  depth_index=widgets.IntSlider(min=0, max=32, step=1, value=0, continuous_update=False, description='depth'))\n",
    "interact(glodap_pTCO2, depth_index=widgets.IntSlider(min=0, max=32, step=1, value=0, continuous_update=False, description='depth'))"
   ]
  },
  {
   "cell_type": "markdown",
   "id": "0622f4ee",
   "metadata": {},
   "source": [
    "## Set the slider above to 28\n",
    "\n",
    "Compare with the mid-ocean ridges shown here.\n",
    "\n",
    "\n",
    "<BR>\n",
    "<img src=\"./../Images/charts/lithosphere_age.png\" style=\"float: left;\" alt=\"drawing\" width=\"800\"/>\n",
    "<div style=\"clear: left\"><BR>"
   ]
  },
  {
   "cell_type": "code",
   "execution_count": null,
   "id": "f73d9c25",
   "metadata": {},
   "outputs": [],
   "source": []
  }
 ],
 "metadata": {
  "kernelspec": {
   "display_name": "Python 3 (ipykernel)",
   "language": "python",
   "name": "python3"
  },
  "language_info": {
   "codemirror_mode": {
    "name": "ipython",
    "version": 3
   },
   "file_extension": ".py",
   "mimetype": "text/x-python",
   "name": "python",
   "nbconvert_exporter": "python",
   "pygments_lexer": "ipython3",
   "version": "3.8.5"
  }
 },
 "nbformat": 4,
 "nbformat_minor": 5
}
