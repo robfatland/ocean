{
 "cells": [
  {
   "cell_type": "code",
   "execution_count": 1,
   "id": "d191b89d-0932-4ac1-a2d1-e04e937781ca",
   "metadata": {},
   "outputs": [],
   "source": [
    "from NotebookModule import *"
   ]
  },
  {
   "cell_type": "code",
   "execution_count": null,
   "id": "c17ad3a5-95dd-4f15-a50d-dc52444c23e2",
   "metadata": {},
   "outputs": [],
   "source": []
  }
 ],
 "metadata": {
  "kernelspec": {
   "display_name": "Python 3 (ipykernel)",
   "language": "python",
   "name": "python3"
  },
  "language_info": {
   "codemirror_mode": {
    "name": "ipython",
    "version": 3
   },
   "file_extension": ".py",
   "mimetype": "text/x-python",
   "name": "python",
   "nbconvert_exporter": "python",
   "pygments_lexer": "ipython3",
   "version": "3.8.5"
  }
 },
 "nbformat": 4,
 "nbformat_minor": 5
}
