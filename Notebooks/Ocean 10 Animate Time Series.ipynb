{
 "cells": [
  {
   "cell_type": "code",
   "execution_count": 1,
   "id": "df2a3b8c",
   "metadata": {},
   "outputs": [
    {
     "name": "stdout",
     "output_type": "stream",
     "text": [
      "For 2021, month of January, we have...\n",
      "31 days or 279 possible profiles\n",
      "There were, over this time, in fact...\n",
      "256 profiles; 28 at local midnight and 29 at local noon\n"
     ]
    }
   ],
   "source": [
    "from NotebookModule import *"
   ]
  },
  {
   "cell_type": "markdown",
   "id": "5c5cb165",
   "metadata": {},
   "source": [
    "The goal here is to build the code that writes an animation like the one featured in the BioOptics notebook."
   ]
  },
  {
   "cell_type": "code",
   "execution_count": null,
   "id": "99d77c92",
   "metadata": {},
   "outputs": [],
   "source": []
  }
 ],
 "metadata": {
  "kernelspec": {
   "display_name": "Python 3 (ipykernel)",
   "language": "python",
   "name": "python3"
  },
  "language_info": {
   "codemirror_mode": {
    "name": "ipython",
    "version": 3
   },
   "file_extension": ".py",
   "mimetype": "text/x-python",
   "name": "python",
   "nbconvert_exporter": "python",
   "pygments_lexer": "ipython3",
   "version": "3.9.12"
  }
 },
 "nbformat": 4,
 "nbformat_minor": 5
}
