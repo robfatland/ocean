{
 "cells": [
  {
   "cell_type": "markdown",
   "id": "494664f7",
   "metadata": {},
   "source": [
    "## Foreward\n",
    "\n",
    "This notebook imports code from **`BioopticsModule.py`**. \n",
    "That helps keep this notebook simpler.\n",
    "Run these (Jupyter notebook) cells \n",
    "either with **shift + enter** or **ctrl + enter** \n",
    "(the latter for no focus advance; 'stay put').\n",
    "The following cell is for demonstration only (made-up data). "
   ]
  },
  {
   "cell_type": "code",
   "execution_count": null,
   "id": "2b9a3633",
   "metadata": {},
   "outputs": [],
   "source": [
    "from matplotlib import pyplot as plt\n",
    "fig, axs = plt.subplots(figsize=(5,6), tight_layout=True)\n",
    "axs.plot([7, 6, 2, 0, 5, 0, 0.5, 2], [1, 2, 3, 4, 5, 6, 7, 8], marker='.', markersize=12, color='black', markerfacecolor='red')\n",
    "axs.set_title('some artificial data delete this'); axs.set_ylabel('observation\\nnumber'); axs.set_xlabel('measurement'); plt.show()"
   ]
  },
  {
   "cell_type": "markdown",
   "id": "52dae8df",
   "metadata": {},
   "source": [
    "## Introduction: The OOI RCA Shallow Profiler\n",
    "\n",
    "\n",
    "This notebook examines physical and bio-optical data from the Ocean Observatories Initiative (***OOI***)\n",
    "Regional Cabled Array (***RCA***) *Shallow Profiler* (***SP***) shown in the photograph below. These\n",
    "platforms support a profusion of sensors; so this notebook is an introduction.\n",
    "\n",
    "\n",
    "The bulbous pod (Science Pod or SCIP) is attached to the rectangular \n",
    "platform by means of a cable. The profiler ascends and then descends through the upper 200 meters\n",
    "of the ocean water column nine times per day, relaying data from several sensors to a shore-based\n",
    "data system.\n",
    "\n",
    "\n",
    "<BR>\n",
    "<img src=\"./Images/rca/shallow%20profiler%20platform%201%20in%20situ.png\" style=\"float: left;\" alt=\"drawing\" width=\"400\"/>\n",
    "<div style=\"clear: left\"><BR>\n",
    "\n",
    "\n",
    "(Photo from the Remotely Operated Vehicle \"Ropos\", depth 200 meters, northeastern\n",
    "Pacific ocean)\n",
    "    \n",
    "    \n",
    "Shallow profilers are built and tested at the\n",
    "University of Washington.\n",
    "    \n",
    "    \n",
    "<BR>\n",
    "<img src=\"./Images/rca/shallow%20profiler%20platform%202%20OSB%20pool.png\" style=\"float: left;\" alt=\"drawing\" width=\"400\"/>\n",
    "<div style=\"clear: left\"><BR>   \n",
    "    \n",
    "    \n",
    "    \n",
    "This Regional Cabled Array in turn is one of seven arrays across \n",
    "the global ocean that combined form the Ocean Observatories Initiative. \n",
    "    \n",
    "<BR>\n",
    "<img src=\"./Images/charts/OOI_array_map.png\" style=\"float: left;\" alt=\"drawing\" width=\"700\"/>\n",
    "<div style=\"clear: left\"><BR>   "
   ]
  },
  {
   "cell_type": "code",
   "execution_count": null,
   "id": "649b85a1",
   "metadata": {},
   "outputs": [],
   "source": [
    "# Set up this notebook to use code from an accompanying Python module file\n",
    "from BioopticsModule import *\n",
    "print('\\nJupyter running Python {}'.format(sys.version_info[0]))"
   ]
  },
  {
   "cell_type": "markdown",
   "id": "4747751d",
   "metadata": {},
   "source": [
    "## Profiles\n",
    "\n",
    "Nine profiles are run daily, each requiring between two and three hours to complete. \n",
    "There are three SP installations or 'sites' within the RCA:  *Oregon Slope Base* \n",
    "abbreviated ***OSB***, *Oregon Offshore* and *Axial Base*. \n",
    "OSB is located at the base of the continental shelf west of Newport, Oregon.\n",
    "\n",
    "\n",
    "Shallow profilers transit vertically through the upper 200 meters of the ocean \n",
    "water column. However, at the Oregon Slope Base site the ocean depth is 3000 meters.\n",
    "The emphasis on the upper ocean corresponds to the region of available sunlight, \n",
    "the *photic zone*.\n",
    "\n",
    "\n",
    "This chart shows a daily profiling sequence: Depth of the profiler versus time."
   ]
  },
  {
   "cell_type": "code",
   "execution_count": null,
   "id": "3f300634",
   "metadata": {},
   "outputs": [],
   "source": [
    "ShallowProfilerDepthOneDay(T, '2021-03-01', '2021-03-02', 'Shallow Profiler depth: Over one day')"
   ]
  },
  {
   "cell_type": "markdown",
   "id": "a3cf0d16",
   "metadata": {},
   "source": [
    "## Data charts\n",
    "\n",
    "We begin charting two types of profiler sensor data: Dissolved oxygen (blue) and chlorophyll (green).\n",
    "The original sampling rate is ~1 sample per second. However these data have been downsampled to\n",
    "~1 sample per minute. At the typical ascent rate this sample corresponds to about 3 meters in depth,\n",
    "about 60 samples per profile."
   ]
  },
  {
   "cell_type": "code",
   "execution_count": null,
   "id": "7fbeb7e4",
   "metadata": {},
   "outputs": [],
   "source": [
    "# Dissolved oxygen and chlorophyll-a concentrationn for ascent, successive midnight and noon profiles\n",
    "pIndices = [506, 511]\n",
    "fig, axs = ChartAB(p, [(do_lo, do_hi), (chlora_lo, chlora_hi)], pIndices, O.doxygen, O.z, \\\n",
    "           'Oxygen', 'blue', A.chlora, A.z, 'Chlor-A', 'green', 8, 3.5)"
   ]
  },
  {
   "cell_type": "markdown",
   "id": "9f741a20-2424-4d0f-a672-fbda1fc15d72",
   "metadata": {},
   "source": [
    "### Interpretation\n",
    "\n",
    "\n",
    "The vertical axis is depth below\n",
    "the surface in meters. There are two horizontal axes for each\n",
    "plot corresponding to dissolved\n",
    "oxygen (blue) and chlorophyll (green) with depth. \n",
    "Chlorophyll concentration near the surface seems to vary over \n",
    "the course of the day. \n",
    "\n",
    "\n",
    "\n",
    "The data above are from profiler ascents. \n",
    "The instruments face upward at relatively undisturbed water as the profiler rises. \n",
    "\n",
    "\n",
    "- The chlorophyll transition is 25 to 75 meters depth\n",
    "- The oxygen transition is 50 to 130 meters\n",
    "\n",
    "\n",
    "## Extending the data view to six profiler sensors\n",
    "\n",
    "Below the water column profile is more complex: Added\n",
    "are data from temperature, salinity, fluorescence ('FDOM/CDOM'), \n",
    "and particulate backscatter ('bb700') sensors. \n",
    "The six sensor profiles *T / S / DO / CDOM / Chlor-A / bb700* are distributed across \n",
    "a row of three charts to help reduce visual clutter. Each row corresponds to a distinct\n",
    "profile, in this case local midnight and noon on March 1, 2021."
   ]
  },
  {
   "cell_type": "code",
   "execution_count": null,
   "id": "dba3eb98",
   "metadata": {},
   "outputs": [],
   "source": [
    "profile_indices = [506, 511]  \n",
    "fig, axs = SixSignalChartSequence(p, A, B, C, O, S, T, \\\n",
    "            [(temp_lo, temp_hi), (sal_lo, sal_hi), (do_lo, do_hi), (chlora_lo, chlora_hi), \\\n",
    "             (bb_lo, bb_hi), (cdom_lo, cdom_hi)], profile_indices)"
   ]
  },
  {
   "cell_type": "code",
   "execution_count": null,
   "id": "ef6b4f5f-030d-4ad8-8eac-c98703d0447a",
   "metadata": {
    "tags": []
   },
   "outputs": [],
   "source": [
    "# more midnight/noon profile indices: 515, 520, 524,529,533,538,542,547,551,556,560,565,569,574,578,583,587,592"
   ]
  },
  {
   "cell_type": "markdown",
   "id": "1fce342b",
   "metadata": {},
   "source": [
    "### Sensor list including single-letter keys\n",
    "\n",
    "\n",
    "| Sensor | Key Letter | Remarks |\n",
    "| --- | --- | :--------------------\n",
    "| Temperature | T | Charted above\n",
    "|salinity                       |S            |\"\n",
    "|dissolved oxygen               |O            |\"\n",
    "|Chlorophyll-A                  |A            |\"\n",
    "|backscatter ('bb700')          |B            |\"\n",
    "|fluorescence (FDOM)            |C           | Charted above; also note FDOM is sometimes referred to as CDOM\n",
    "|pCO2                           |R          |Carbon dioxide concentration: With pH this is measured on profiler *descent*, local noon and midnight profiles only\n",
    "|pH                             |H          |With pCO2 this is measured on profiler *descent*, local noon and midnight profiles only\n",
    "|nitrate                        |N          |Nitrate is measured (on ascent) on local noon and midnight profiles only\n",
    "|spectral irradiance            |I          |Spectrum spanned by 7 independent channels\n",
    "|PAR                            |P          |PAR: Photosynthetically Available Radiation\n",
    "|Velocity East + North + Up     |U V W      |Local current, 3-axis directional\n"
   ]
  },
  {
   "cell_type": "markdown",
   "id": "b81cd1a7",
   "metadata": {},
   "source": [
    "## Nitrate and PAR\n",
    "\n",
    "PAR (Photosynthetically Available Radiation) is measured continuously. \n",
    "Nitrate, pH and pCO2 are measured on only two of the nine daily profiles:\n",
    "At local noon and midnight. \n",
    "Nitrate is measured on *ascent* whereas \n",
    "pH and pCO2 are measured on *descent* while nitrate concentration is measured on ascent."
   ]
  },
  {
   "cell_type": "code",
   "execution_count": null,
   "id": "92124292",
   "metadata": {},
   "outputs": [],
   "source": [
    "pIndices = GenerateTimeWindowIndices(p, dt64_from_doy(2021, 67), dt64_from_doy(2021, 68), noon0, noon1)\n",
    "fig, axs = ChartAB(p, [(nitrate_lo, nitrate_hi), (par_lo, par_hi)], pIndices,\n",
    "                   N.nitrate, N.z, labelN, colorN,\n",
    "                   P.par, P.z, labelP, colorP,\n",
    "                   8, 3.5, -200, 0., \"ascent\", \"ascent\")"
   ]
  },
  {
   "cell_type": "code",
   "execution_count": null,
   "id": "9e48d62f",
   "metadata": {},
   "outputs": [],
   "source": [
    "pIdcs = GenerateTimeWindowIndices(p, dt64_from_doy(2021, 69), dt64_from_doy(2021, 70), noon0, noon1)\n",
    "fig, axs = ChartAB(p, [(pco2_lo, pco2_hi), (ph_lo, ph_hi)], pIdcs,         \\\n",
    "                   R.pco2, R.z, labelR, colorR,                            \\\n",
    "                   H.ph, H.z, labelH, colorH,                              \\\n",
    "                   8, 3.5, -200, 0., \"descent\", \"descent\")"
   ]
  },
  {
   "cell_type": "code",
   "execution_count": null,
   "id": "399f590a",
   "metadata": {},
   "outputs": [],
   "source": [
    "pIdcs = GenerateTimeWindowIndices(p, dt64_from_doy(2021, 69), dt64_from_doy(2021, 70), noon0, noon1)\n",
    "fig, axs = ChartAB(p, [(0., 10.), (0., .5)], pIdcs, I.si412, I.z, 'Sp.Irr.412', 'blue', \\\n",
    "                   I.si683, I.z, 'Sp.Irr.683', 'red', 8, 3.5, -80, 0)"
   ]
  },
  {
   "cell_type": "markdown",
   "id": "97faa2a9",
   "metadata": {},
   "source": [
    "### Current measurement\n",
    "\n",
    "From the [documentation](https://interactiveoceans.washington.edu/instruments/current-meter/): \n",
    "\n",
    "> The Shallow Profilers at Oregon Offshore, Slope Base, and the Axial Base sites \\[...\\] measure the mean speed and direction of water in two-dimensions (U & V) as it moves past the sensor\n",
    "\n",
    "We can interpret water column velocities as a current moving past\n",
    "the profiler plus a velocity component that changes with depth. This difference has\n",
    "magnitude $|\\vec{a}-\\vec{b}|$. The difference of horizontal velocities \n",
    "at two depths is *shear*.\n"
   ]
  },
  {
   "cell_type": "code",
   "execution_count": null,
   "id": "fbcb57a9",
   "metadata": {},
   "outputs": [],
   "source": [
    "xrng = [(veast_lo, veast_hi), (vnorth_lo, vnorth_hi)]\n",
    "pIdcs = GenerateTimeWindowIndices(p, dt64_from_doy(2021, 60), dt64_from_doy(2021, 61), noon0, noon1)\n",
    "fig, axs = ChartAB(p, xrng, pIdcs, U.veast, U.z, 'Velocity East', 'green', \\\n",
    "                   V.vnorth, V.z, 'Velocity North', 'orange', 8, 3.5)"
   ]
  },
  {
   "cell_type": "markdown",
   "id": "06f045c6",
   "metadata": {},
   "source": [
    "## Animating time-series sensor profiles\n",
    "\n",
    "This animation runs from March 1 2021 forward, nine frames per day. Playback speed control is at the lower right.\n",
    "To produce animations of this sort: Please see the **`Notebooks`** folder, **`Technical Guide.ipynb`**."
   ]
  },
  {
   "cell_type": "code",
   "execution_count": null,
   "id": "52511c57",
   "metadata": {},
   "outputs": [],
   "source": [
    "Video(os.getcwd() + '/Images/animations/multisensor_animation.mp4', embed=True)"
   ]
  },
  {
   "cell_type": "markdown",
   "id": "28fe3fe8",
   "metadata": {},
   "source": [
    "# Bundle Charts\n",
    "\n",
    "The time-series breakdowns above suggest: ***What is the distribution of profiles for March 2021?***"
   ]
  },
  {
   "cell_type": "code",
   "execution_count": null,
   "id": "4564ca45",
   "metadata": {},
   "outputs": [],
   "source": [
    "ShowStaticBundles()"
   ]
  },
  {
   "cell_type": "markdown",
   "id": "26472fe1",
   "metadata": {},
   "source": [
    "# Interactive bundle charts\n",
    "\n",
    "The bundle charts have some interesting structure... including some shallow 'excursions' for example in salinity.\n",
    "Perhaps we can isolate these by selecting sub-bundes. Take a look at bundle size = 80 and compare start = 123 with start = 133. For temperature, oxygen and salinity there ought to be a noticeable 'something new'.\n",
    "\n",
    "\n",
    "Set the following variable `i_am_fast` to `True` if you want the sliders to update continuously. This is `False` by\n",
    "default to avoid halting/slow visualizations on less powerful machines."
   ]
  },
  {
   "cell_type": "code",
   "execution_count": null,
   "id": "ea421cde",
   "metadata": {},
   "outputs": [],
   "source": [
    "i_am_fast = False"
   ]
  },
  {
   "cell_type": "code",
   "execution_count": null,
   "id": "ae318d9a",
   "metadata": {},
   "outputs": [],
   "source": [
    "Interactor(i_am_fast)"
   ]
  },
  {
   "cell_type": "markdown",
   "id": "3d1bc539",
   "metadata": {},
   "source": [
    "# Stagger chart\n",
    "\n",
    "\n",
    "The idea here is to fan out a time-evolution of nitrate profiles. \n",
    "Time and nitrate concentration are superimposed on the horizontal axis; vertical\n",
    "axis is depth. Each profile is treated as a \"moment\". These \"61\" profiles actually number 50 in practice."
   ]
  },
  {
   "cell_type": "code",
   "execution_count": null,
   "id": "55982561",
   "metadata": {},
   "outputs": [],
   "source": [
    "NitrateStaggerChart()"
   ]
  },
  {
   "cell_type": "code",
   "execution_count": null,
   "id": "abb6a08b-7917-43d3-8bd1-77fc99a25703",
   "metadata": {},
   "outputs": [],
   "source": []
  }
 ],
 "metadata": {
  "kernelspec": {
   "display_name": "Python 3 (ipykernel)",
   "language": "python",
   "name": "python3"
  },
  "language_info": {
   "codemirror_mode": {
    "name": "ipython",
    "version": 3
   },
   "file_extension": ".py",
   "mimetype": "text/x-python",
   "name": "python",
   "nbconvert_exporter": "python",
   "pygments_lexer": "ipython3",
   "version": "3.8.5"
  }
 },
 "nbformat": 4,
 "nbformat_minor": 5
}
