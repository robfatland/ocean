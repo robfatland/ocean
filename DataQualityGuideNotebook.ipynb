{
 "cells": [
  {
   "cell_type": "markdown",
   "id": "b0d09da5-6910-476f-9647-c56b62a6d0d0",
   "metadata": {},
   "source": [
    "# Introduction and Overview\n",
    "\n",
    "This notebook generates figures to accompany the OOI QC Data Guide, specifically\n",
    "for the biooptical sensors built into the fluorometer triplet ('flort'). It begins\n",
    "with a dataset for the Regional Cabled Array \"Oregon Slope Base\" shallow profiler, deployment 8. \n",
    "The time (Jan -- April 2021) is narrowed first to March 2021 and then to March 10, 2021. \n",
    "\n",
    "\n",
    "Circa 2022 the data download link is  \n",
    "[here (NetCDF file)](/thredds/fileServer/ooigoldcopy/public/RS01SBPS-SF01A-3A-FLORTD101-streamed-flort_d_data_record/deployment0008_RS01SBPS-SF01A-3A-FLORTD101-streamed-flort_d_data_record_20210123T120000.228181-20210414T115959.167518.nc).\n",
    "Alternatively, directions are given for finding the source full resolution data file under ***Data*** in the \n",
    "**`Notebooks/Ocean 05 A Programming Resources.ipynb`** of this repository. \n",
    "\n",
    "\n",
    "The full resolution source data file is over 500MB in size. As it does not fit in this repository,\n",
    "it is placed in a parallel folder with relative path `../data/rca/fluor/osb/2021`. \n",
    "\n",
    "\n",
    "This notebook uses some 'helper' Python found in the `DataQualityGuideModule.py` module in this folder.\n",
    "It is imported in the first Python cell below."
   ]
  },
  {
   "cell_type": "code",
   "execution_count": 24,
   "id": "f1bd5479-8c51-47f2-a117-0d8fb6c29abd",
   "metadata": {},
   "outputs": [
    {
     "name": "stdout",
     "output_type": "stream",
     "text": [
      "\n",
      "Jupyter running Python 3\n"
     ]
    }
   ],
   "source": [
    "# Set up this notebook to use code from an accompanying Python module file\n",
    "from DataQualityGuideModule import *\n",
    "print('\\nJupyter running Python {}'.format(sys.version_info[0]))"
   ]
  },
  {
   "cell_type": "markdown",
   "id": "095ca877-b771-4239-9b9d-3f9841607974",
   "metadata": {},
   "source": [
    "# Preparation\n",
    "\n",
    "\n",
    "The data within file `flort_fullres.nc` are assigned to the XArray Dataset variable `D`. It is then\n",
    "slightly modified \n",
    "and the contents are examined. "
   ]
  },
  {
   "cell_type": "code",
   "execution_count": 25,
   "id": "df294cb4-2617-4ce4-895d-1c8c963d63e0",
   "metadata": {},
   "outputs": [
    {
     "name": "stdout",
     "output_type": "stream",
     "text": [
      "Number of data values: after file is opened, before time range narrowed to March 2021:  5830998\n",
      "Number of data values: March 2021 only, compare to 'one per second' total of 2678400:  2231042\n",
      "D number of data values after dropping NaN values is the same:  2231042\n"
     ]
    },
    {
     "data": {
      "text/html": [
       "<div><svg style=\"position: absolute; width: 0; height: 0; overflow: hidden\">\n",
       "<defs>\n",
       "<symbol id=\"icon-database\" viewBox=\"0 0 32 32\">\n",
       "<path d=\"M16 0c-8.837 0-16 2.239-16 5v4c0 2.761 7.163 5 16 5s16-2.239 16-5v-4c0-2.761-7.163-5-16-5z\"></path>\n",
       "<path d=\"M16 17c-8.837 0-16-2.239-16-5v6c0 2.761 7.163 5 16 5s16-2.239 16-5v-6c0 2.761-7.163 5-16 5z\"></path>\n",
       "<path d=\"M16 26c-8.837 0-16-2.239-16-5v6c0 2.761 7.163 5 16 5s16-2.239 16-5v-6c0 2.761-7.163 5-16 5z\"></path>\n",
       "</symbol>\n",
       "<symbol id=\"icon-file-text2\" viewBox=\"0 0 32 32\">\n",
       "<path d=\"M28.681 7.159c-0.694-0.947-1.662-2.053-2.724-3.116s-2.169-2.030-3.116-2.724c-1.612-1.182-2.393-1.319-2.841-1.319h-15.5c-1.378 0-2.5 1.121-2.5 2.5v27c0 1.378 1.122 2.5 2.5 2.5h23c1.378 0 2.5-1.122 2.5-2.5v-19.5c0-0.448-0.137-1.23-1.319-2.841zM24.543 5.457c0.959 0.959 1.712 1.825 2.268 2.543h-4.811v-4.811c0.718 0.556 1.584 1.309 2.543 2.268zM28 29.5c0 0.271-0.229 0.5-0.5 0.5h-23c-0.271 0-0.5-0.229-0.5-0.5v-27c0-0.271 0.229-0.5 0.5-0.5 0 0 15.499-0 15.5 0v7c0 0.552 0.448 1 1 1h7v19.5z\"></path>\n",
       "<path d=\"M23 26h-14c-0.552 0-1-0.448-1-1s0.448-1 1-1h14c0.552 0 1 0.448 1 1s-0.448 1-1 1z\"></path>\n",
       "<path d=\"M23 22h-14c-0.552 0-1-0.448-1-1s0.448-1 1-1h14c0.552 0 1 0.448 1 1s-0.448 1-1 1z\"></path>\n",
       "<path d=\"M23 18h-14c-0.552 0-1-0.448-1-1s0.448-1 1-1h14c0.552 0 1 0.448 1 1s-0.448 1-1 1z\"></path>\n",
       "</symbol>\n",
       "</defs>\n",
       "</svg>\n",
       "<style>/* CSS stylesheet for displaying xarray objects in jupyterlab.\n",
       " *\n",
       " */\n",
       "\n",
       ":root {\n",
       "  --xr-font-color0: var(--jp-content-font-color0, rgba(0, 0, 0, 1));\n",
       "  --xr-font-color2: var(--jp-content-font-color2, rgba(0, 0, 0, 0.54));\n",
       "  --xr-font-color3: var(--jp-content-font-color3, rgba(0, 0, 0, 0.38));\n",
       "  --xr-border-color: var(--jp-border-color2, #e0e0e0);\n",
       "  --xr-disabled-color: var(--jp-layout-color3, #bdbdbd);\n",
       "  --xr-background-color: var(--jp-layout-color0, white);\n",
       "  --xr-background-color-row-even: var(--jp-layout-color1, white);\n",
       "  --xr-background-color-row-odd: var(--jp-layout-color2, #eeeeee);\n",
       "}\n",
       "\n",
       "html[theme=dark],\n",
       "body.vscode-dark {\n",
       "  --xr-font-color0: rgba(255, 255, 255, 1);\n",
       "  --xr-font-color2: rgba(255, 255, 255, 0.54);\n",
       "  --xr-font-color3: rgba(255, 255, 255, 0.38);\n",
       "  --xr-border-color: #1F1F1F;\n",
       "  --xr-disabled-color: #515151;\n",
       "  --xr-background-color: #111111;\n",
       "  --xr-background-color-row-even: #111111;\n",
       "  --xr-background-color-row-odd: #313131;\n",
       "}\n",
       "\n",
       ".xr-wrap {\n",
       "  display: block !important;\n",
       "  min-width: 300px;\n",
       "  max-width: 700px;\n",
       "}\n",
       "\n",
       ".xr-text-repr-fallback {\n",
       "  /* fallback to plain text repr when CSS is not injected (untrusted notebook) */\n",
       "  display: none;\n",
       "}\n",
       "\n",
       ".xr-header {\n",
       "  padding-top: 6px;\n",
       "  padding-bottom: 6px;\n",
       "  margin-bottom: 4px;\n",
       "  border-bottom: solid 1px var(--xr-border-color);\n",
       "}\n",
       "\n",
       ".xr-header > div,\n",
       ".xr-header > ul {\n",
       "  display: inline;\n",
       "  margin-top: 0;\n",
       "  margin-bottom: 0;\n",
       "}\n",
       "\n",
       ".xr-obj-type,\n",
       ".xr-array-name {\n",
       "  margin-left: 2px;\n",
       "  margin-right: 10px;\n",
       "}\n",
       "\n",
       ".xr-obj-type {\n",
       "  color: var(--xr-font-color2);\n",
       "}\n",
       "\n",
       ".xr-sections {\n",
       "  padding-left: 0 !important;\n",
       "  display: grid;\n",
       "  grid-template-columns: 150px auto auto 1fr 20px 20px;\n",
       "}\n",
       "\n",
       ".xr-section-item {\n",
       "  display: contents;\n",
       "}\n",
       "\n",
       ".xr-section-item input {\n",
       "  display: none;\n",
       "}\n",
       "\n",
       ".xr-section-item input + label {\n",
       "  color: var(--xr-disabled-color);\n",
       "}\n",
       "\n",
       ".xr-section-item input:enabled + label {\n",
       "  cursor: pointer;\n",
       "  color: var(--xr-font-color2);\n",
       "}\n",
       "\n",
       ".xr-section-item input:enabled + label:hover {\n",
       "  color: var(--xr-font-color0);\n",
       "}\n",
       "\n",
       ".xr-section-summary {\n",
       "  grid-column: 1;\n",
       "  color: var(--xr-font-color2);\n",
       "  font-weight: 500;\n",
       "}\n",
       "\n",
       ".xr-section-summary > span {\n",
       "  display: inline-block;\n",
       "  padding-left: 0.5em;\n",
       "}\n",
       "\n",
       ".xr-section-summary-in:disabled + label {\n",
       "  color: var(--xr-font-color2);\n",
       "}\n",
       "\n",
       ".xr-section-summary-in + label:before {\n",
       "  display: inline-block;\n",
       "  content: '►';\n",
       "  font-size: 11px;\n",
       "  width: 15px;\n",
       "  text-align: center;\n",
       "}\n",
       "\n",
       ".xr-section-summary-in:disabled + label:before {\n",
       "  color: var(--xr-disabled-color);\n",
       "}\n",
       "\n",
       ".xr-section-summary-in:checked + label:before {\n",
       "  content: '▼';\n",
       "}\n",
       "\n",
       ".xr-section-summary-in:checked + label > span {\n",
       "  display: none;\n",
       "}\n",
       "\n",
       ".xr-section-summary,\n",
       ".xr-section-inline-details {\n",
       "  padding-top: 4px;\n",
       "  padding-bottom: 4px;\n",
       "}\n",
       "\n",
       ".xr-section-inline-details {\n",
       "  grid-column: 2 / -1;\n",
       "}\n",
       "\n",
       ".xr-section-details {\n",
       "  display: none;\n",
       "  grid-column: 1 / -1;\n",
       "  margin-bottom: 5px;\n",
       "}\n",
       "\n",
       ".xr-section-summary-in:checked ~ .xr-section-details {\n",
       "  display: contents;\n",
       "}\n",
       "\n",
       ".xr-array-wrap {\n",
       "  grid-column: 1 / -1;\n",
       "  display: grid;\n",
       "  grid-template-columns: 20px auto;\n",
       "}\n",
       "\n",
       ".xr-array-wrap > label {\n",
       "  grid-column: 1;\n",
       "  vertical-align: top;\n",
       "}\n",
       "\n",
       ".xr-preview {\n",
       "  color: var(--xr-font-color3);\n",
       "}\n",
       "\n",
       ".xr-array-preview,\n",
       ".xr-array-data {\n",
       "  padding: 0 5px !important;\n",
       "  grid-column: 2;\n",
       "}\n",
       "\n",
       ".xr-array-data,\n",
       ".xr-array-in:checked ~ .xr-array-preview {\n",
       "  display: none;\n",
       "}\n",
       "\n",
       ".xr-array-in:checked ~ .xr-array-data,\n",
       ".xr-array-preview {\n",
       "  display: inline-block;\n",
       "}\n",
       "\n",
       ".xr-dim-list {\n",
       "  display: inline-block !important;\n",
       "  list-style: none;\n",
       "  padding: 0 !important;\n",
       "  margin: 0;\n",
       "}\n",
       "\n",
       ".xr-dim-list li {\n",
       "  display: inline-block;\n",
       "  padding: 0;\n",
       "  margin: 0;\n",
       "}\n",
       "\n",
       ".xr-dim-list:before {\n",
       "  content: '(';\n",
       "}\n",
       "\n",
       ".xr-dim-list:after {\n",
       "  content: ')';\n",
       "}\n",
       "\n",
       ".xr-dim-list li:not(:last-child):after {\n",
       "  content: ',';\n",
       "  padding-right: 5px;\n",
       "}\n",
       "\n",
       ".xr-has-index {\n",
       "  font-weight: bold;\n",
       "}\n",
       "\n",
       ".xr-var-list,\n",
       ".xr-var-item {\n",
       "  display: contents;\n",
       "}\n",
       "\n",
       ".xr-var-item > div,\n",
       ".xr-var-item label,\n",
       ".xr-var-item > .xr-var-name span {\n",
       "  background-color: var(--xr-background-color-row-even);\n",
       "  margin-bottom: 0;\n",
       "}\n",
       "\n",
       ".xr-var-item > .xr-var-name:hover span {\n",
       "  padding-right: 5px;\n",
       "}\n",
       "\n",
       ".xr-var-list > li:nth-child(odd) > div,\n",
       ".xr-var-list > li:nth-child(odd) > label,\n",
       ".xr-var-list > li:nth-child(odd) > .xr-var-name span {\n",
       "  background-color: var(--xr-background-color-row-odd);\n",
       "}\n",
       "\n",
       ".xr-var-name {\n",
       "  grid-column: 1;\n",
       "}\n",
       "\n",
       ".xr-var-dims {\n",
       "  grid-column: 2;\n",
       "}\n",
       "\n",
       ".xr-var-dtype {\n",
       "  grid-column: 3;\n",
       "  text-align: right;\n",
       "  color: var(--xr-font-color2);\n",
       "}\n",
       "\n",
       ".xr-var-preview {\n",
       "  grid-column: 4;\n",
       "}\n",
       "\n",
       ".xr-var-name,\n",
       ".xr-var-dims,\n",
       ".xr-var-dtype,\n",
       ".xr-preview,\n",
       ".xr-attrs dt {\n",
       "  white-space: nowrap;\n",
       "  overflow: hidden;\n",
       "  text-overflow: ellipsis;\n",
       "  padding-right: 10px;\n",
       "}\n",
       "\n",
       ".xr-var-name:hover,\n",
       ".xr-var-dims:hover,\n",
       ".xr-var-dtype:hover,\n",
       ".xr-attrs dt:hover {\n",
       "  overflow: visible;\n",
       "  width: auto;\n",
       "  z-index: 1;\n",
       "}\n",
       "\n",
       ".xr-var-attrs,\n",
       ".xr-var-data {\n",
       "  display: none;\n",
       "  background-color: var(--xr-background-color) !important;\n",
       "  padding-bottom: 5px !important;\n",
       "}\n",
       "\n",
       ".xr-var-attrs-in:checked ~ .xr-var-attrs,\n",
       ".xr-var-data-in:checked ~ .xr-var-data {\n",
       "  display: block;\n",
       "}\n",
       "\n",
       ".xr-var-data > table {\n",
       "  float: right;\n",
       "}\n",
       "\n",
       ".xr-var-name span,\n",
       ".xr-var-data,\n",
       ".xr-attrs {\n",
       "  padding-left: 25px !important;\n",
       "}\n",
       "\n",
       ".xr-attrs,\n",
       ".xr-var-attrs,\n",
       ".xr-var-data {\n",
       "  grid-column: 1 / -1;\n",
       "}\n",
       "\n",
       "dl.xr-attrs {\n",
       "  padding: 0;\n",
       "  margin: 0;\n",
       "  display: grid;\n",
       "  grid-template-columns: 125px auto;\n",
       "}\n",
       "\n",
       ".xr-attrs dt,\n",
       ".xr-attrs dd {\n",
       "  padding: 0;\n",
       "  margin: 0;\n",
       "  float: left;\n",
       "  padding-right: 10px;\n",
       "  width: auto;\n",
       "}\n",
       "\n",
       ".xr-attrs dt {\n",
       "  font-weight: normal;\n",
       "  grid-column: 1;\n",
       "}\n",
       "\n",
       ".xr-attrs dt:hover span {\n",
       "  display: inline-block;\n",
       "  background: var(--xr-background-color);\n",
       "  padding-right: 10px;\n",
       "}\n",
       "\n",
       ".xr-attrs dd {\n",
       "  grid-column: 2;\n",
       "  white-space: pre-wrap;\n",
       "  word-break: break-all;\n",
       "}\n",
       "\n",
       ".xr-icon-database,\n",
       ".xr-icon-file-text2 {\n",
       "  display: inline-block;\n",
       "  vertical-align: middle;\n",
       "  width: 1em;\n",
       "  height: 1.5em !important;\n",
       "  stroke-width: 0;\n",
       "  stroke: currentColor;\n",
       "  fill: currentColor;\n",
       "}\n",
       "</style><pre class='xr-text-repr-fallback'>&lt;xarray.Dataset&gt;\n",
       "Dimensions:                                          (time: 2231042)\n",
       "Coordinates:\n",
       "    obs                                              (time) int32 2627967 ......\n",
       "    lon                                              (time) float64 ...\n",
       "    lat                                              (time) float64 ...\n",
       "    depth                                            (time) float64 ...\n",
       "  * time                                             (time) datetime64[ns] 20...\n",
       "Data variables: (12/39)\n",
       "    practical_salinity                               (time) float64 33.87 ......\n",
       "    fluorometric_chlorophyll_a_qc_results            (time) uint8 12 12 ... 12\n",
       "    fdom                                             (time) float64 1.3 ... 1...\n",
       "    signal_3_offset                                  (time) float32 0.0 ... 0.0\n",
       "    fluorometric_cdom_qc_executed                    (time) uint8 29 29 ... 29\n",
       "    measurement_wavelength_cdom                      (time) float32 460.0 ......\n",
       "    ...                                               ...\n",
       "    total_volume_scattering_coefficient              (time) float64 9.269e-05...\n",
       "    signal_2_offset                                  (time) float32 0.0 ... 0.0\n",
       "    chlora                                           (time) float64 -0.0107 ....\n",
       "    raw_internal_temp                                (time) float32 549.0 ......\n",
       "    backscatter                                      (time) float64 0.0006074...\n",
       "    fluorometric_cdom_qc_results                     (time) uint8 29 29 ... 29\n",
       "Attributes: (12/68)\n",
       "    node:                               SF01A\n",
       "    comment:                            \n",
       "    publisher_email:                    \n",
       "    sourceUrl:                          http://oceanobservatories.org/\n",
       "    collection_method:                  streamed\n",
       "    stream:                             flort_d_data_record\n",
       "    ...                                 ...\n",
       "    geospatial_lon_max:                 -125.3896636\n",
       "    geospatial_lon_units:               degrees_east\n",
       "    geospatial_lon_resolution:          0.1\n",
       "    geospatial_vertical_units:          meters\n",
       "    geospatial_vertical_resolution:     0.1\n",
       "    geospatial_vertical_positive:       down</pre><div class='xr-wrap' style='display:none'><div class='xr-header'><div class='xr-obj-type'>xarray.Dataset</div></div><ul class='xr-sections'><li class='xr-section-item'><input id='section-6f3a1572-8caf-4f14-bd94-f0cd4b0abef4' class='xr-section-summary-in' type='checkbox' disabled ><label for='section-6f3a1572-8caf-4f14-bd94-f0cd4b0abef4' class='xr-section-summary'  title='Expand/collapse section'>Dimensions:</label><div class='xr-section-inline-details'><ul class='xr-dim-list'><li><span class='xr-has-index'>time</span>: 2231042</li></ul></div><div class='xr-section-details'></div></li><li class='xr-section-item'><input id='section-08998c44-250a-4b44-9377-23160703559d' class='xr-section-summary-in' type='checkbox'  checked><label for='section-08998c44-250a-4b44-9377-23160703559d' class='xr-section-summary' >Coordinates: <span>(5)</span></label><div class='xr-section-inline-details'></div><div class='xr-section-details'><ul class='xr-var-list'><li class='xr-var-item'><div class='xr-var-name'><span>obs</span></div><div class='xr-var-dims'>(time)</div><div class='xr-var-dtype'>int32</div><div class='xr-var-preview xr-preview'>2627967 2627968 ... 4859007 4859008</div><input id='attrs-3b3358da-60c7-4493-bf39-a72bbe41da78' class='xr-var-attrs-in' type='checkbox' disabled><label for='attrs-3b3358da-60c7-4493-bf39-a72bbe41da78' title='Show/Hide attributes'><svg class='icon xr-icon-file-text2'><use xlink:href='#icon-file-text2'></use></svg></label><input id='data-b556c26a-0b9f-43a8-afeb-828404dccf1a' class='xr-var-data-in' type='checkbox'><label for='data-b556c26a-0b9f-43a8-afeb-828404dccf1a' title='Show/Hide data repr'><svg class='icon xr-icon-database'><use xlink:href='#icon-database'></use></svg></label><div class='xr-var-attrs'><dl class='xr-attrs'></dl></div><div class='xr-var-data'><pre>array([2627967, 2627968, 2627969, ..., 4859006, 4859007, 4859008], dtype=int32)</pre></div></li><li class='xr-var-item'><div class='xr-var-name'><span>lon</span></div><div class='xr-var-dims'>(time)</div><div class='xr-var-dtype'>float64</div><div class='xr-var-preview xr-preview'>...</div><input id='attrs-faf3a438-8a4c-4082-9146-7f1292b6bd73' class='xr-var-attrs-in' type='checkbox' ><label for='attrs-faf3a438-8a4c-4082-9146-7f1292b6bd73' title='Show/Hide attributes'><svg class='icon xr-icon-file-text2'><use xlink:href='#icon-file-text2'></use></svg></label><input id='data-b6d9fd09-ad12-4aef-b294-929623233e7e' class='xr-var-data-in' type='checkbox'><label for='data-b6d9fd09-ad12-4aef-b294-929623233e7e' title='Show/Hide data repr'><svg class='icon xr-icon-database'><use xlink:href='#icon-database'></use></svg></label><div class='xr-var-attrs'><dl class='xr-attrs'><dt><span>units :</span></dt><dd>degrees_east</dd><dt><span>standard_name :</span></dt><dd>longitude</dd><dt><span>axis :</span></dt><dd>X</dd></dl></div><div class='xr-var-data'><pre>[2231042 values with dtype=float64]</pre></div></li><li class='xr-var-item'><div class='xr-var-name'><span>lat</span></div><div class='xr-var-dims'>(time)</div><div class='xr-var-dtype'>float64</div><div class='xr-var-preview xr-preview'>...</div><input id='attrs-6e71fd39-5c4c-4a81-aa4d-12cceff8147e' class='xr-var-attrs-in' type='checkbox' ><label for='attrs-6e71fd39-5c4c-4a81-aa4d-12cceff8147e' title='Show/Hide attributes'><svg class='icon xr-icon-file-text2'><use xlink:href='#icon-file-text2'></use></svg></label><input id='data-08287dd6-ffbb-4588-a620-5dab611e98f9' class='xr-var-data-in' type='checkbox'><label for='data-08287dd6-ffbb-4588-a620-5dab611e98f9' title='Show/Hide data repr'><svg class='icon xr-icon-database'><use xlink:href='#icon-database'></use></svg></label><div class='xr-var-attrs'><dl class='xr-attrs'><dt><span>units :</span></dt><dd>degrees_north</dd><dt><span>standard_name :</span></dt><dd>latitude</dd><dt><span>axis :</span></dt><dd>Y</dd></dl></div><div class='xr-var-data'><pre>[2231042 values with dtype=float64]</pre></div></li><li class='xr-var-item'><div class='xr-var-name'><span>depth</span></div><div class='xr-var-dims'>(time)</div><div class='xr-var-dtype'>float64</div><div class='xr-var-preview xr-preview'>...</div><input id='attrs-f834728d-f1e7-49f0-bc5b-6f656e4c3ef0' class='xr-var-attrs-in' type='checkbox' ><label for='attrs-f834728d-f1e7-49f0-bc5b-6f656e4c3ef0' title='Show/Hide attributes'><svg class='icon xr-icon-file-text2'><use xlink:href='#icon-file-text2'></use></svg></label><input id='data-f3222a91-805b-42a6-a668-aed56932b116' class='xr-var-data-in' type='checkbox'><label for='data-f3222a91-805b-42a6-a668-aed56932b116' title='Show/Hide data repr'><svg class='icon xr-icon-database'><use xlink:href='#icon-database'></use></svg></label><div class='xr-var-attrs'><dl class='xr-attrs'><dt><span>comment :</span></dt><dd>Depth (m) calculated from pressure (dbar) and latitude.</dd><dt><span>long_name :</span></dt><dd>Depth calculated from pressure</dd><dt><span>units :</span></dt><dd>m</dd><dt><span>precision :</span></dt><dd>3</dd><dt><span>instrument :</span></dt><dd>RS01SBPS-SF01A-2A-CTDPFA102</dd><dt><span>stream :</span></dt><dd>ctdpf_sbe43_sample</dd><dt><span>axis :</span></dt><dd>Z</dd></dl></div><div class='xr-var-data'><pre>[2231042 values with dtype=float64]</pre></div></li><li class='xr-var-item'><div class='xr-var-name'><span class='xr-has-index'>time</span></div><div class='xr-var-dims'>(time)</div><div class='xr-var-dtype'>datetime64[ns]</div><div class='xr-var-preview xr-preview'>2021-03-01T00:00:00.728539648 .....</div><input id='attrs-4dda0886-73ea-4074-915b-4a93c87dabd1' class='xr-var-attrs-in' type='checkbox' ><label for='attrs-4dda0886-73ea-4074-915b-4a93c87dabd1' title='Show/Hide attributes'><svg class='icon xr-icon-file-text2'><use xlink:href='#icon-file-text2'></use></svg></label><input id='data-d9289c2c-4d61-484d-83b0-078f6b0c3a54' class='xr-var-data-in' type='checkbox'><label for='data-d9289c2c-4d61-484d-83b0-078f6b0c3a54' title='Show/Hide data repr'><svg class='icon xr-icon-database'><use xlink:href='#icon-database'></use></svg></label><div class='xr-var-attrs'><dl class='xr-attrs'><dt><span>long_name :</span></dt><dd>time</dd><dt><span>standard_name :</span></dt><dd>time</dd><dt><span>axis :</span></dt><dd>T</dd></dl></div><div class='xr-var-data'><pre>array([&#x27;2021-03-01T00:00:00.728539648&#x27;, &#x27;2021-03-01T00:00:01.856399360&#x27;,\n",
       "       &#x27;2021-03-01T00:00:02.984257536&#x27;, ..., &#x27;2021-03-31T23:59:56.694360064&#x27;,\n",
       "       &#x27;2021-03-31T23:59:57.823038976&#x27;, &#x27;2021-03-31T23:59:58.951681024&#x27;],\n",
       "      dtype=&#x27;datetime64[ns]&#x27;)</pre></div></li></ul></div></li><li class='xr-section-item'><input id='section-906cf752-7b10-45c3-9aa7-3c458b90c60c' class='xr-section-summary-in' type='checkbox'  ><label for='section-906cf752-7b10-45c3-9aa7-3c458b90c60c' class='xr-section-summary' >Data variables: <span>(39)</span></label><div class='xr-section-inline-details'></div><div class='xr-section-details'><ul class='xr-var-list'><li class='xr-var-item'><div class='xr-var-name'><span>practical_salinity</span></div><div class='xr-var-dims'>(time)</div><div class='xr-var-dtype'>float64</div><div class='xr-var-preview xr-preview'>33.87 33.87 33.87 ... 33.96 33.96</div><input id='attrs-bf7b2182-fd11-4752-b984-eafc02fddeb3' class='xr-var-attrs-in' type='checkbox' ><label for='attrs-bf7b2182-fd11-4752-b984-eafc02fddeb3' title='Show/Hide attributes'><svg class='icon xr-icon-file-text2'><use xlink:href='#icon-file-text2'></use></svg></label><input id='data-459ba280-3a7f-4f1f-b2f7-baf90256414a' class='xr-var-data-in' type='checkbox'><label for='data-459ba280-3a7f-4f1f-b2f7-baf90256414a' title='Show/Hide data repr'><svg class='icon xr-icon-database'><use xlink:href='#icon-database'></use></svg></label><div class='xr-var-attrs'><dl class='xr-attrs'><dt><span>comment :</span></dt><dd>Salinity is generally defined as the concentration of dissolved salt in a parcel of seawater. Practical Salinity is a more specific unitless quantity calculated from the conductivity of seawater and adjusted for temperature and pressure. It is approximately equivalent to Absolute Salinity (the mass fraction of dissolved salt in seawater) but they are not interchangeable.</dd><dt><span>data_product_identifier :</span></dt><dd>PRACSAL_L2</dd><dt><span>precision :</span></dt><dd>4</dd><dt><span>long_name :</span></dt><dd>Practical Salinity</dd><dt><span>standard_name :</span></dt><dd>sea_water_practical_salinity</dd><dt><span>units :</span></dt><dd>1</dd><dt><span>instrument :</span></dt><dd>RS01SBPS-SF01A-2A-CTDPFA102</dd><dt><span>stream :</span></dt><dd>ctdpf_sbe43_sample</dd></dl></div><div class='xr-var-data'><pre>array([33.870997, 33.871021, 33.871127, ..., 33.961597, 33.961569, 33.961613])</pre></div></li><li class='xr-var-item'><div class='xr-var-name'><span>fluorometric_chlorophyll_a_qc_results</span></div><div class='xr-var-dims'>(time)</div><div class='xr-var-dtype'>uint8</div><div class='xr-var-preview xr-preview'>12 12 12 12 12 ... 12 12 13 12 12</div><input id='attrs-7983810e-74db-4ab2-a55f-0860b97e06eb' class='xr-var-attrs-in' type='checkbox' disabled><label for='attrs-7983810e-74db-4ab2-a55f-0860b97e06eb' title='Show/Hide attributes'><svg class='icon xr-icon-file-text2'><use xlink:href='#icon-file-text2'></use></svg></label><input id='data-560bf58c-0db6-4f0e-ac34-aa406caac001' class='xr-var-data-in' type='checkbox'><label for='data-560bf58c-0db6-4f0e-ac34-aa406caac001' title='Show/Hide data repr'><svg class='icon xr-icon-database'><use xlink:href='#icon-database'></use></svg></label><div class='xr-var-attrs'><dl class='xr-attrs'></dl></div><div class='xr-var-data'><pre>array([12, 12, 12, ..., 13, 12, 12], dtype=uint8)</pre></div></li><li class='xr-var-item'><div class='xr-var-name'><span>fdom</span></div><div class='xr-var-dims'>(time)</div><div class='xr-var-dtype'>float64</div><div class='xr-var-preview xr-preview'>1.3 1.227 1.3 ... 1.444 1.227 1.516</div><input id='attrs-feb1afc0-ef38-42a3-9142-689aef2190ea' class='xr-var-attrs-in' type='checkbox' ><label for='attrs-feb1afc0-ef38-42a3-9142-689aef2190ea' title='Show/Hide attributes'><svg class='icon xr-icon-file-text2'><use xlink:href='#icon-file-text2'></use></svg></label><input id='data-dc7817ce-f135-4daf-8496-ef009c268324' class='xr-var-data-in' type='checkbox'><label for='data-dc7817ce-f135-4daf-8496-ef009c268324' title='Show/Hide data repr'><svg class='icon xr-icon-database'><use xlink:href='#icon-database'></use></svg></label><div class='xr-var-attrs'><dl class='xr-attrs'><dt><span>comment :</span></dt><dd>Fluorometric CDOM Concentration is a measure of how much light has been re-emitted (fluoresced) from colored organic compounds found in the colored dissolved organic matter (CDOM) in seawater. Examples of CDOM include tannins (polyphenols that bind to proteins and other large molecules) or lignins (polymers of phenolic acids) from decaying plant material and byproducts from the decomposition of animals. It accounts for the tea-like color in seawater. CDOM is not particulate, but seawater can contain both CDOM and turbidity.</dd><dt><span>long_name :</span></dt><dd>CDOM Concentration</dd><dt><span>precision :</span></dt><dd>6</dd><dt><span>data_product_identifier :</span></dt><dd>CDOMFLO_L1</dd><dt><span>units :</span></dt><dd>ppb</dd><dt><span>ancillary_variables :</span></dt><dd>raw_signal_cdom</dd></dl></div><div class='xr-var-data'><pre>array([1.2996, 1.2274, 1.2996, ..., 1.444 , 1.2274, 1.5162])</pre></div></li><li class='xr-var-item'><div class='xr-var-name'><span>signal_3_offset</span></div><div class='xr-var-dims'>(time)</div><div class='xr-var-dtype'>float32</div><div class='xr-var-preview xr-preview'>0.0 0.0 0.0 0.0 ... 0.0 0.0 0.0 0.0</div><input id='attrs-0f31e946-adbd-4206-8a0a-1b9662071786' class='xr-var-attrs-in' type='checkbox' ><label for='attrs-0f31e946-adbd-4206-8a0a-1b9662071786' title='Show/Hide attributes'><svg class='icon xr-icon-file-text2'><use xlink:href='#icon-file-text2'></use></svg></label><input id='data-541a7761-d821-4c8f-90bc-3ee031ffc0df' class='xr-var-data-in' type='checkbox'><label for='data-541a7761-d821-4c8f-90bc-3ee031ffc0df' title='Show/Hide data repr'><svg class='icon xr-icon-database'><use xlink:href='#icon-database'></use></svg></label><div class='xr-var-attrs'><dl class='xr-attrs'><dt><span>units :</span></dt><dd>counts</dd><dt><span>long_name :</span></dt><dd>Signal 3 (CDOM) Offset</dd></dl></div><div class='xr-var-data'><pre>array([0., 0., 0., ..., 0., 0., 0.], dtype=float32)</pre></div></li><li class='xr-var-item'><div class='xr-var-name'><span>fluorometric_cdom_qc_executed</span></div><div class='xr-var-dims'>(time)</div><div class='xr-var-dtype'>uint8</div><div class='xr-var-preview xr-preview'>29 29 29 29 29 ... 29 29 29 29 29</div><input id='attrs-aa21ee01-e93f-4a38-8aca-c814c1218ccc' class='xr-var-attrs-in' type='checkbox' disabled><label for='attrs-aa21ee01-e93f-4a38-8aca-c814c1218ccc' title='Show/Hide attributes'><svg class='icon xr-icon-file-text2'><use xlink:href='#icon-file-text2'></use></svg></label><input id='data-b672c1f9-be47-4cfe-a4ee-c9759c177948' class='xr-var-data-in' type='checkbox'><label for='data-b672c1f9-be47-4cfe-a4ee-c9759c177948' title='Show/Hide data repr'><svg class='icon xr-icon-database'><use xlink:href='#icon-database'></use></svg></label><div class='xr-var-attrs'><dl class='xr-attrs'></dl></div><div class='xr-var-data'><pre>array([29, 29, 29, ..., 29, 29, 29], dtype=uint8)</pre></div></li><li class='xr-var-item'><div class='xr-var-name'><span>measurement_wavelength_cdom</span></div><div class='xr-var-dims'>(time)</div><div class='xr-var-dtype'>float32</div><div class='xr-var-preview xr-preview'>460.0 460.0 460.0 ... 460.0 460.0</div><input id='attrs-c962b010-5fd6-47a6-931b-ca2df9345490' class='xr-var-attrs-in' type='checkbox' ><label for='attrs-c962b010-5fd6-47a6-931b-ca2df9345490' title='Show/Hide attributes'><svg class='icon xr-icon-file-text2'><use xlink:href='#icon-file-text2'></use></svg></label><input id='data-b26aa1db-e759-4f6c-bcfe-1c011eb5e594' class='xr-var-data-in' type='checkbox'><label for='data-b26aa1db-e759-4f6c-bcfe-1c011eb5e594' title='Show/Hide data repr'><svg class='icon xr-icon-database'><use xlink:href='#icon-database'></use></svg></label><div class='xr-var-attrs'><dl class='xr-attrs'><dt><span>comment :</span></dt><dd>Wavelength used by sensor for its cdom measurement.</dd><dt><span>units :</span></dt><dd>nm</dd><dt><span>long_name :</span></dt><dd>Measurement Wavelength, CDOM</dd></dl></div><div class='xr-var-data'><pre>array([460., 460., 460., ..., 460., 460., 460.], dtype=float32)</pre></div></li><li class='xr-var-item'><div class='xr-var-name'><span>total_volume_scattering_coefficient_qc_executed</span></div><div class='xr-var-dims'>(time)</div><div class='xr-var-dtype'>uint8</div><div class='xr-var-preview xr-preview'>29 29 29 29 29 ... 29 29 29 29 29</div><input id='attrs-e0477426-d68c-4df5-811d-1d35b2419b7e' class='xr-var-attrs-in' type='checkbox' disabled><label for='attrs-e0477426-d68c-4df5-811d-1d35b2419b7e' title='Show/Hide attributes'><svg class='icon xr-icon-file-text2'><use xlink:href='#icon-file-text2'></use></svg></label><input id='data-f3b5a30a-4236-4768-9d38-422fb79a024b' class='xr-var-data-in' type='checkbox'><label for='data-f3b5a30a-4236-4768-9d38-422fb79a024b' title='Show/Hide data repr'><svg class='icon xr-icon-database'><use xlink:href='#icon-database'></use></svg></label><div class='xr-var-attrs'><dl class='xr-attrs'></dl></div><div class='xr-var-data'><pre>array([29, 29, 29, ..., 29, 29, 29], dtype=uint8)</pre></div></li><li class='xr-var-item'><div class='xr-var-name'><span>driver_timestamp</span></div><div class='xr-var-dims'>(time)</div><div class='xr-var-dtype'>datetime64[ns]</div><div class='xr-var-preview xr-preview'>2021-03-01T00:00:00.838394368 .....</div><input id='attrs-a1750a61-b1f0-4bfe-80a6-829de3bca48b' class='xr-var-attrs-in' type='checkbox' ><label for='attrs-a1750a61-b1f0-4bfe-80a6-829de3bca48b' title='Show/Hide attributes'><svg class='icon xr-icon-file-text2'><use xlink:href='#icon-file-text2'></use></svg></label><input id='data-485dc91b-5f6a-495a-9596-f48dcc848c65' class='xr-var-data-in' type='checkbox'><label for='data-485dc91b-5f6a-495a-9596-f48dcc848c65' title='Show/Hide data repr'><svg class='icon xr-icon-database'><use xlink:href='#icon-database'></use></svg></label><div class='xr-var-attrs'><dl class='xr-attrs'><dt><span>comment :</span></dt><dd>Driver timestamp, UTC</dd><dt><span>long_name :</span></dt><dd>Driver Timestamp, UTC</dd></dl></div><div class='xr-var-data'><pre>array([&#x27;2021-03-01T00:00:00.838394368&#x27;, &#x27;2021-03-01T00:00:01.941340672&#x27;,\n",
       "       &#x27;2021-03-01T00:00:03.144965120&#x27;, ..., &#x27;2021-03-31T23:59:56.770181632&#x27;,\n",
       "       &#x27;2021-03-31T23:59:57.973696512&#x27;, &#x27;2021-03-31T23:59:59.077465088&#x27;],\n",
       "      dtype=&#x27;datetime64[ns]&#x27;)</pre></div></li><li class='xr-var-item'><div class='xr-var-name'><span>id</span></div><div class='xr-var-dims'>(time)</div><div class='xr-var-dtype'>|S36</div><div class='xr-var-preview xr-preview'>b&#x27;387277bb-b9f5-4e3c-8797-27cd9d...</div><input id='attrs-46aef5c8-ea42-43fe-a6a8-f2a3adcd56f2' class='xr-var-attrs-in' type='checkbox' ><label for='attrs-46aef5c8-ea42-43fe-a6a8-f2a3adcd56f2' title='Show/Hide attributes'><svg class='icon xr-icon-file-text2'><use xlink:href='#icon-file-text2'></use></svg></label><input id='data-72ad1f35-81ca-40ea-9ea7-b1f9af1ca101' class='xr-var-data-in' type='checkbox'><label for='data-72ad1f35-81ca-40ea-9ea7-b1f9af1ca101' title='Show/Hide data repr'><svg class='icon xr-icon-database'><use xlink:href='#icon-database'></use></svg></label><div class='xr-var-attrs'><dl class='xr-attrs'><dt><span>name :</span></dt><dd>id</dd></dl></div><div class='xr-var-data'><pre>array([b&#x27;387277bb-b9f5-4e3c-8797-27cd9d07a805&#x27;,\n",
       "       b&#x27;362120c3-f83d-4429-b945-ec8d0ab4f3c5&#x27;,\n",
       "       b&#x27;e8833e54-ad26-4b8b-a49f-4288118de1ab&#x27;, ...,\n",
       "       b&#x27;2c3dcd4d-7937-41a3-b198-64b184befff4&#x27;,\n",
       "       b&#x27;753cb810-8635-4838-91aa-07e64e7b78bf&#x27;,\n",
       "       b&#x27;c8cdceac-7405-414f-846e-38ba6569ea16&#x27;], dtype=&#x27;|S36&#x27;)</pre></div></li><li class='xr-var-item'><div class='xr-var-name'><span>raw_signal_cdom</span></div><div class='xr-var-dims'>(time)</div><div class='xr-var-dtype'>float32</div><div class='xr-var-preview xr-preview'>67.0 66.0 67.0 ... 69.0 66.0 70.0</div><input id='attrs-df0d6b2b-edea-4d91-b019-45fd60aa8376' class='xr-var-attrs-in' type='checkbox' ><label for='attrs-df0d6b2b-edea-4d91-b019-45fd60aa8376' title='Show/Hide attributes'><svg class='icon xr-icon-file-text2'><use xlink:href='#icon-file-text2'></use></svg></label><input id='data-0fa66afc-b506-4cae-89cb-1ea73c30e7f2' class='xr-var-data-in' type='checkbox'><label for='data-0fa66afc-b506-4cae-89cb-1ea73c30e7f2' title='Show/Hide data repr'><svg class='icon xr-icon-database'><use xlink:href='#icon-database'></use></svg></label><div class='xr-var-attrs'><dl class='xr-attrs'><dt><span>comment :</span></dt><dd>Fluorometric CDOM unprocessed measurement output from the sensor.</dd><dt><span>long_name :</span></dt><dd>CDOM Measurement</dd><dt><span>data_product_identifier :</span></dt><dd>CDOMFLO_L0</dd><dt><span>units :</span></dt><dd>counts</dd></dl></div><div class='xr-var-data'><pre>array([67., 66., 67., ..., 69., 66., 70.], dtype=float32)</pre></div></li><li class='xr-var-item'><div class='xr-var-name'><span>signal_2_scale_factor</span></div><div class='xr-var-dims'>(time)</div><div class='xr-var-dtype'>float32</div><div class='xr-var-preview xr-preview'>0.0 0.0 0.0 0.0 ... 0.0 0.0 0.0 0.0</div><input id='attrs-64a50a8b-aab4-4e87-859c-049871418566' class='xr-var-attrs-in' type='checkbox' ><label for='attrs-64a50a8b-aab4-4e87-859c-049871418566' title='Show/Hide attributes'><svg class='icon xr-icon-file-text2'><use xlink:href='#icon-file-text2'></use></svg></label><input id='data-ab92010d-bae7-4284-87d3-3195138c834a' class='xr-var-data-in' type='checkbox'><label for='data-ab92010d-bae7-4284-87d3-3195138c834a' title='Show/Hide data repr'><svg class='icon xr-icon-database'><use xlink:href='#icon-database'></use></svg></label><div class='xr-var-attrs'><dl class='xr-attrs'><dt><span>units :</span></dt><dd>ug L-1 counts-1</dd><dt><span>precision :</span></dt><dd>2</dd><dt><span>long_name :</span></dt><dd>Signal 2 (Chlorophyll) Scale Factor</dd></dl></div><div class='xr-var-data'><pre>array([0., 0., 0., ..., 0., 0., 0.], dtype=float32)</pre></div></li><li class='xr-var-item'><div class='xr-var-name'><span>measurement_wavelength_beta</span></div><div class='xr-var-dims'>(time)</div><div class='xr-var-dtype'>float32</div><div class='xr-var-preview xr-preview'>700.0 700.0 700.0 ... 700.0 700.0</div><input id='attrs-632365cf-cce7-4739-b89a-b518e74a5787' class='xr-var-attrs-in' type='checkbox' ><label for='attrs-632365cf-cce7-4739-b89a-b518e74a5787' title='Show/Hide attributes'><svg class='icon xr-icon-file-text2'><use xlink:href='#icon-file-text2'></use></svg></label><input id='data-d34c1dcb-ae33-4087-890e-5d5d055d75da' class='xr-var-data-in' type='checkbox'><label for='data-d34c1dcb-ae33-4087-890e-5d5d055d75da' title='Show/Hide data repr'><svg class='icon xr-icon-database'><use xlink:href='#icon-database'></use></svg></label><div class='xr-var-attrs'><dl class='xr-attrs'><dt><span>comment :</span></dt><dd>Wavelength used by sensor for its scattering measurement.</dd><dt><span>units :</span></dt><dd>nm</dd><dt><span>long_name :</span></dt><dd>Measurement Wavelength, Scattering</dd></dl></div><div class='xr-var-data'><pre>array([700., 700., 700., ..., 700., 700., 700.], dtype=float32)</pre></div></li><li class='xr-var-item'><div class='xr-var-name'><span>provenance</span></div><div class='xr-var-dims'>(time)</div><div class='xr-var-dtype'>|S36</div><div class='xr-var-preview xr-preview'>b&#x27;c4011cf6-bf45-458d-a9f1-4f5131...</div><input id='attrs-f8c01afb-9dc2-4893-8b36-08abccade4d6' class='xr-var-attrs-in' type='checkbox' ><label for='attrs-f8c01afb-9dc2-4893-8b36-08abccade4d6' title='Show/Hide attributes'><svg class='icon xr-icon-file-text2'><use xlink:href='#icon-file-text2'></use></svg></label><input id='data-e7905bef-5ed9-40c6-a003-ba7dd373d54e' class='xr-var-data-in' type='checkbox'><label for='data-e7905bef-5ed9-40c6-a003-ba7dd373d54e' title='Show/Hide data repr'><svg class='icon xr-icon-database'><use xlink:href='#icon-database'></use></svg></label><div class='xr-var-attrs'><dl class='xr-attrs'><dt><span>name :</span></dt><dd>provenance</dd></dl></div><div class='xr-var-data'><pre>array([b&#x27;c4011cf6-bf45-458d-a9f1-4f51313fb74d&#x27;,\n",
       "       b&#x27;c4011cf6-bf45-458d-a9f1-4f51313fb74d&#x27;,\n",
       "       b&#x27;c4011cf6-bf45-458d-a9f1-4f51313fb74d&#x27;, ...,\n",
       "       b&#x27;207246d8-3fda-40e5-9e82-978ac82be712&#x27;,\n",
       "       b&#x27;207246d8-3fda-40e5-9e82-978ac82be712&#x27;,\n",
       "       b&#x27;db049357-fc56-4370-9b4c-5fc3a55d95ca&#x27;], dtype=&#x27;|S36&#x27;)</pre></div></li><li class='xr-var-item'><div class='xr-var-name'><span>signal_3_scale_factor</span></div><div class='xr-var-dims'>(time)</div><div class='xr-var-dtype'>float32</div><div class='xr-var-preview xr-preview'>0.0 0.0 0.0 0.0 ... 0.0 0.0 0.0 0.0</div><input id='attrs-2a1d7df9-35f1-4bb1-996c-5c3639534538' class='xr-var-attrs-in' type='checkbox' ><label for='attrs-2a1d7df9-35f1-4bb1-996c-5c3639534538' title='Show/Hide attributes'><svg class='icon xr-icon-file-text2'><use xlink:href='#icon-file-text2'></use></svg></label><input id='data-beee81b2-36bd-48be-bbbc-2637371cad00' class='xr-var-data-in' type='checkbox'><label for='data-beee81b2-36bd-48be-bbbc-2637371cad00' title='Show/Hide data repr'><svg class='icon xr-icon-database'><use xlink:href='#icon-database'></use></svg></label><div class='xr-var-attrs'><dl class='xr-attrs'><dt><span>units :</span></dt><dd>ppb counts-1</dd><dt><span>precision :</span></dt><dd>2</dd><dt><span>long_name :</span></dt><dd>Signal 3 (CDOM) Scale Factor</dd></dl></div><div class='xr-var-data'><pre>array([0., 0., 0., ..., 0., 0., 0.], dtype=float32)</pre></div></li><li class='xr-var-item'><div class='xr-var-name'><span>time_string</span></div><div class='xr-var-dims'>(time)</div><div class='xr-var-dtype'>object</div><div class='xr-var-preview xr-preview'>b&#x27;empty&#x27; b&#x27;empty&#x27; ... b&#x27;empty&#x27;</div><input id='attrs-17eea1df-b1cc-4b48-b495-230949efcfa5' class='xr-var-attrs-in' type='checkbox' ><label for='attrs-17eea1df-b1cc-4b48-b495-230949efcfa5' title='Show/Hide attributes'><svg class='icon xr-icon-file-text2'><use xlink:href='#icon-file-text2'></use></svg></label><input id='data-f1768ec8-c2d8-42dc-a500-6bf439a608a7' class='xr-var-data-in' type='checkbox'><label for='data-f1768ec8-c2d8-42dc-a500-6bf439a608a7' title='Show/Hide data repr'><svg class='icon xr-icon-database'><use xlink:href='#icon-database'></use></svg></label><div class='xr-var-attrs'><dl class='xr-attrs'><dt><span>comment :</span></dt><dd>Measurement time in string format</dd><dt><span>units :</span></dt><dd>1</dd><dt><span>long_name :</span></dt><dd>Measurement Time, UTC</dd></dl></div><div class='xr-var-data'><pre>array([b&#x27;empty&#x27;, b&#x27;empty&#x27;, b&#x27;empty&#x27;, ..., b&#x27;empty&#x27;, b&#x27;empty&#x27;, b&#x27;empty&#x27;],\n",
       "      dtype=object)</pre></div></li><li class='xr-var-item'><div class='xr-var-name'><span>internal_timestamp</span></div><div class='xr-var-dims'>(time)</div><div class='xr-var-dtype'>datetime64[ns]</div><div class='xr-var-preview xr-preview'>2021-02-28T23:56:18 ... 2021-03-...</div><input id='attrs-3e8f39e4-c5a8-4cfa-87f9-4a868260dc9b' class='xr-var-attrs-in' type='checkbox' ><label for='attrs-3e8f39e4-c5a8-4cfa-87f9-4a868260dc9b' title='Show/Hide attributes'><svg class='icon xr-icon-file-text2'><use xlink:href='#icon-file-text2'></use></svg></label><input id='data-41c68da3-436e-4975-8f52-2b621de97427' class='xr-var-data-in' type='checkbox'><label for='data-41c68da3-436e-4975-8f52-2b621de97427' title='Show/Hide data repr'><svg class='icon xr-icon-database'><use xlink:href='#icon-database'></use></svg></label><div class='xr-var-attrs'><dl class='xr-attrs'><dt><span>comment :</span></dt><dd>Internal timestamp, UTC</dd><dt><span>long_name :</span></dt><dd>Internal Timestamp, UTC</dd></dl></div><div class='xr-var-data'><pre>array([&#x27;2021-02-28T23:56:18.000000000&#x27;, &#x27;2021-02-28T23:56:19.000000000&#x27;,\n",
       "       &#x27;2021-02-28T23:56:20.000000000&#x27;, ..., &#x27;2021-03-31T23:55:42.000000000&#x27;,\n",
       "       &#x27;2021-03-31T23:55:43.000000000&#x27;, &#x27;2021-03-31T23:55:44.000000000&#x27;],\n",
       "      dtype=&#x27;datetime64[ns]&#x27;)</pre></div></li><li class='xr-var-item'><div class='xr-var-name'><span>measurement_wavelength_chl</span></div><div class='xr-var-dims'>(time)</div><div class='xr-var-dtype'>float32</div><div class='xr-var-preview xr-preview'>695.0 695.0 695.0 ... 695.0 695.0</div><input id='attrs-f9cd9b39-d645-4c42-9021-7daa910150e1' class='xr-var-attrs-in' type='checkbox' ><label for='attrs-f9cd9b39-d645-4c42-9021-7daa910150e1' title='Show/Hide attributes'><svg class='icon xr-icon-file-text2'><use xlink:href='#icon-file-text2'></use></svg></label><input id='data-2291bb95-0e3b-4097-a7c9-40cf7bab813a' class='xr-var-data-in' type='checkbox'><label for='data-2291bb95-0e3b-4097-a7c9-40cf7bab813a' title='Show/Hide data repr'><svg class='icon xr-icon-database'><use xlink:href='#icon-database'></use></svg></label><div class='xr-var-attrs'><dl class='xr-attrs'><dt><span>comment :</span></dt><dd>Wavelength used by sensor for its chlorophyll measurement .</dd><dt><span>units :</span></dt><dd>nm</dd><dt><span>long_name :</span></dt><dd>Measurement Wavelength, Chlorophyll</dd></dl></div><div class='xr-var-data'><pre>array([695., 695., 695., ..., 695., 695., 695.], dtype=float32)</pre></div></li><li class='xr-var-item'><div class='xr-var-name'><span>optical_backscatter_qc_executed</span></div><div class='xr-var-dims'>(time)</div><div class='xr-var-dtype'>uint8</div><div class='xr-var-preview xr-preview'>29 29 29 29 29 ... 29 29 29 29 29</div><input id='attrs-bd2ef10f-74d4-478d-a9b9-b0a884548943' class='xr-var-attrs-in' type='checkbox' disabled><label for='attrs-bd2ef10f-74d4-478d-a9b9-b0a884548943' title='Show/Hide attributes'><svg class='icon xr-icon-file-text2'><use xlink:href='#icon-file-text2'></use></svg></label><input id='data-d83a7ed5-e9b8-48d1-8aac-40c3d276fb76' class='xr-var-data-in' type='checkbox'><label for='data-d83a7ed5-e9b8-48d1-8aac-40c3d276fb76' title='Show/Hide data repr'><svg class='icon xr-icon-database'><use xlink:href='#icon-database'></use></svg></label><div class='xr-var-attrs'><dl class='xr-attrs'></dl></div><div class='xr-var-data'><pre>array([29, 29, 29, ..., 29, 29, 29], dtype=uint8)</pre></div></li><li class='xr-var-item'><div class='xr-var-name'><span>date_string</span></div><div class='xr-var-dims'>(time)</div><div class='xr-var-dtype'>object</div><div class='xr-var-preview xr-preview'>b&#x27;empty&#x27; b&#x27;empty&#x27; ... b&#x27;empty&#x27;</div><input id='attrs-a77d5245-0c22-467c-8948-eb4eb62974b4' class='xr-var-attrs-in' type='checkbox' ><label for='attrs-a77d5245-0c22-467c-8948-eb4eb62974b4' title='Show/Hide attributes'><svg class='icon xr-icon-file-text2'><use xlink:href='#icon-file-text2'></use></svg></label><input id='data-7fccc330-1402-49e7-8d89-56e166ca006c' class='xr-var-data-in' type='checkbox'><label for='data-7fccc330-1402-49e7-8d89-56e166ca006c' title='Show/Hide data repr'><svg class='icon xr-icon-database'><use xlink:href='#icon-database'></use></svg></label><div class='xr-var-attrs'><dl class='xr-attrs'><dt><span>comment :</span></dt><dd>Measurement date in string format.</dd><dt><span>units :</span></dt><dd>1</dd><dt><span>long_name :</span></dt><dd>Measurement Date, UTC</dd></dl></div><div class='xr-var-data'><pre>array([b&#x27;empty&#x27;, b&#x27;empty&#x27;, b&#x27;empty&#x27;, ..., b&#x27;empty&#x27;, b&#x27;empty&#x27;, b&#x27;empty&#x27;],\n",
       "      dtype=object)</pre></div></li><li class='xr-var-item'><div class='xr-var-name'><span>fluorometric_chlorophyll_a_qc_executed</span></div><div class='xr-var-dims'>(time)</div><div class='xr-var-dtype'>uint8</div><div class='xr-var-preview xr-preview'>29 29 29 29 29 ... 29 29 29 29 29</div><input id='attrs-db1e9730-d7df-43ab-af2e-b94a15003f08' class='xr-var-attrs-in' type='checkbox' disabled><label for='attrs-db1e9730-d7df-43ab-af2e-b94a15003f08' title='Show/Hide attributes'><svg class='icon xr-icon-file-text2'><use xlink:href='#icon-file-text2'></use></svg></label><input id='data-78803dca-7136-475b-961c-53614bddaa46' class='xr-var-data-in' type='checkbox'><label for='data-78803dca-7136-475b-961c-53614bddaa46' title='Show/Hide data repr'><svg class='icon xr-icon-database'><use xlink:href='#icon-database'></use></svg></label><div class='xr-var-attrs'><dl class='xr-attrs'></dl></div><div class='xr-var-data'><pre>array([29, 29, 29, ..., 29, 29, 29], dtype=uint8)</pre></div></li><li class='xr-var-item'><div class='xr-var-name'><span>seawater_scattering_coefficient</span></div><div class='xr-var-dims'>(time)</div><div class='xr-var-dtype'>float64</div><div class='xr-var-preview xr-preview'>0.0006395 0.0006395 ... 0.0006397</div><input id='attrs-f2444e37-a677-44fc-9e76-1b1f78a89a35' class='xr-var-attrs-in' type='checkbox' ><label for='attrs-f2444e37-a677-44fc-9e76-1b1f78a89a35' title='Show/Hide attributes'><svg class='icon xr-icon-file-text2'><use xlink:href='#icon-file-text2'></use></svg></label><input id='data-ce61f6c9-7657-401d-9e2f-ca429c1ce36e' class='xr-var-data-in' type='checkbox'><label for='data-ce61f6c9-7657-401d-9e2f-ca429c1ce36e' title='Show/Hide data repr'><svg class='icon xr-icon-database'><use xlink:href='#icon-database'></use></svg></label><div class='xr-var-attrs'><dl class='xr-attrs'><dt><span>comment :</span></dt><dd>Total scattering coefficient of pure seawater.</dd><dt><span>precision :</span></dt><dd>4</dd><dt><span>long_name :</span></dt><dd>Total Scattering Coefficient of Pure Seawater</dd><dt><span>units :</span></dt><dd>m-1</dd><dt><span>ancillary_variables :</span></dt><dd>seawater_temperature practical_salinity</dd></dl></div><div class='xr-var-data'><pre>array([0.000639, 0.000639, 0.000639, ..., 0.00064 , 0.00064 , 0.00064 ])</pre></div></li><li class='xr-var-item'><div class='xr-var-name'><span>raw_signal_beta</span></div><div class='xr-var-dims'>(time)</div><div class='xr-var-dtype'>float32</div><div class='xr-var-preview xr-preview'>91.0 97.0 106.0 ... 104.0 98.0</div><input id='attrs-94282c7e-7069-4c26-91b2-80b9ad6afbe4' class='xr-var-attrs-in' type='checkbox' ><label for='attrs-94282c7e-7069-4c26-91b2-80b9ad6afbe4' title='Show/Hide attributes'><svg class='icon xr-icon-file-text2'><use xlink:href='#icon-file-text2'></use></svg></label><input id='data-2c2b88fb-7abf-4ac3-b82b-178f344fd286' class='xr-var-data-in' type='checkbox'><label for='data-2c2b88fb-7abf-4ac3-b82b-178f344fd286' title='Show/Hide data repr'><svg class='icon xr-icon-database'><use xlink:href='#icon-database'></use></svg></label><div class='xr-var-attrs'><dl class='xr-attrs'><dt><span>comment :</span></dt><dd>Optical backscatter unprocessed measurement output from the sensor.</dd><dt><span>long_name :</span></dt><dd>Optical Backscatter Measurement</dd><dt><span>data_product_identifier :</span></dt><dd>FLUBSCT_L0</dd><dt><span>units :</span></dt><dd>counts</dd></dl></div><div class='xr-var-data'><pre>array([ 91.,  97., 106., ..., 109., 104.,  98.], dtype=float32)</pre></div></li><li class='xr-var-item'><div class='xr-var-name'><span>optical_backscatter_qc_results</span></div><div class='xr-var-dims'>(time)</div><div class='xr-var-dtype'>uint8</div><div class='xr-var-preview xr-preview'>13 13 13 13 13 ... 13 13 13 13 13</div><input id='attrs-5f42c8c2-02ef-49d1-a9f8-5d6ed8cbeaff' class='xr-var-attrs-in' type='checkbox' disabled><label for='attrs-5f42c8c2-02ef-49d1-a9f8-5d6ed8cbeaff' title='Show/Hide attributes'><svg class='icon xr-icon-file-text2'><use xlink:href='#icon-file-text2'></use></svg></label><input id='data-3d5cbdd2-40f7-4014-bd1a-7608d07d251c' class='xr-var-data-in' type='checkbox'><label for='data-3d5cbdd2-40f7-4014-bd1a-7608d07d251c' title='Show/Hide data repr'><svg class='icon xr-icon-database'><use xlink:href='#icon-database'></use></svg></label><div class='xr-var-attrs'><dl class='xr-attrs'></dl></div><div class='xr-var-data'><pre>array([13, 13, 13, ..., 13, 13, 13], dtype=uint8)</pre></div></li><li class='xr-var-item'><div class='xr-var-name'><span>seawater_temperature</span></div><div class='xr-var-dims'>(time)</div><div class='xr-var-dtype'>float64</div><div class='xr-var-preview xr-preview'>7.737 7.737 7.737 ... 7.768 7.768</div><input id='attrs-489b0cfa-d634-49ec-8729-79e7102f3408' class='xr-var-attrs-in' type='checkbox' ><label for='attrs-489b0cfa-d634-49ec-8729-79e7102f3408' title='Show/Hide attributes'><svg class='icon xr-icon-file-text2'><use xlink:href='#icon-file-text2'></use></svg></label><input id='data-192446ad-b1ed-4b98-bce2-7090cf022d82' class='xr-var-data-in' type='checkbox'><label for='data-192446ad-b1ed-4b98-bce2-7090cf022d82' title='Show/Hide data repr'><svg class='icon xr-icon-database'><use xlink:href='#icon-database'></use></svg></label><div class='xr-var-attrs'><dl class='xr-attrs'><dt><span>comment :</span></dt><dd>Seawater temperature near the sensor.</dd><dt><span>data_product_identifier :</span></dt><dd>TEMPWAT_L1</dd><dt><span>precision :</span></dt><dd>4</dd><dt><span>long_name :</span></dt><dd>Seawater Temperature</dd><dt><span>standard_name :</span></dt><dd>sea_water_temperature</dd><dt><span>units :</span></dt><dd>ºC</dd><dt><span>instrument :</span></dt><dd>RS01SBPS-SF01A-2A-CTDPFA102</dd><dt><span>stream :</span></dt><dd>ctdpf_sbe43_sample</dd></dl></div><div class='xr-var-data'><pre>array([7.736717, 7.736913, 7.736994, ..., 7.76834 , 7.768392, 7.76834 ])</pre></div></li><li class='xr-var-item'><div class='xr-var-name'><span>ingestion_timestamp</span></div><div class='xr-var-dims'>(time)</div><div class='xr-var-dtype'>datetime64[ns]</div><div class='xr-var-preview xr-preview'>2021-03-01T00:00:01.614000128 .....</div><input id='attrs-fcf61dd3-992a-4b93-bb5e-42a79e17b2b6' class='xr-var-attrs-in' type='checkbox' ><label for='attrs-fcf61dd3-992a-4b93-bb5e-42a79e17b2b6' title='Show/Hide attributes'><svg class='icon xr-icon-file-text2'><use xlink:href='#icon-file-text2'></use></svg></label><input id='data-183cbf08-ba5f-4ea5-b28e-f89536ac1514' class='xr-var-data-in' type='checkbox'><label for='data-183cbf08-ba5f-4ea5-b28e-f89536ac1514' title='Show/Hide data repr'><svg class='icon xr-icon-database'><use xlink:href='#icon-database'></use></svg></label><div class='xr-var-attrs'><dl class='xr-attrs'><dt><span>comment :</span></dt><dd>The NTP Timestamp for when the granule was ingested</dd><dt><span>long_name :</span></dt><dd>Ingestion Timestamp, UTC</dd></dl></div><div class='xr-var-data'><pre>array([&#x27;2021-03-01T00:00:01.614000128&#x27;, &#x27;2021-03-01T00:00:07.203999744&#x27;,\n",
       "       &#x27;2021-03-01T00:00:07.203999744&#x27;, ..., &#x27;2021-03-31T23:59:58.588000256&#x27;,\n",
       "       &#x27;2021-03-31T23:59:58.588999680&#x27;, &#x27;2021-04-01T00:00:03.461000192&#x27;],\n",
       "      dtype=&#x27;datetime64[ns]&#x27;)</pre></div></li><li class='xr-var-item'><div class='xr-var-name'><span>port_timestamp</span></div><div class='xr-var-dims'>(time)</div><div class='xr-var-dtype'>datetime64[ns]</div><div class='xr-var-preview xr-preview'>2021-03-01T00:00:00.728539648 .....</div><input id='attrs-31c67cb7-2861-4660-933a-8f950f6530a4' class='xr-var-attrs-in' type='checkbox' ><label for='attrs-31c67cb7-2861-4660-933a-8f950f6530a4' title='Show/Hide attributes'><svg class='icon xr-icon-file-text2'><use xlink:href='#icon-file-text2'></use></svg></label><input id='data-337ab87b-d9cf-47ed-a4b5-b135a42c0fbd' class='xr-var-data-in' type='checkbox'><label for='data-337ab87b-d9cf-47ed-a4b5-b135a42c0fbd' title='Show/Hide data repr'><svg class='icon xr-icon-database'><use xlink:href='#icon-database'></use></svg></label><div class='xr-var-attrs'><dl class='xr-attrs'><dt><span>comment :</span></dt><dd>Port timestamp, UTC</dd><dt><span>long_name :</span></dt><dd>Port Timestamp, UTC</dd></dl></div><div class='xr-var-data'><pre>array([&#x27;2021-03-01T00:00:00.728539648&#x27;, &#x27;2021-03-01T00:00:01.856399360&#x27;,\n",
       "       &#x27;2021-03-01T00:00:02.984257536&#x27;, ..., &#x27;2021-03-31T23:59:56.694360064&#x27;,\n",
       "       &#x27;2021-03-31T23:59:57.823038976&#x27;, &#x27;2021-03-31T23:59:58.951681024&#x27;],\n",
       "      dtype=&#x27;datetime64[ns]&#x27;)</pre></div></li><li class='xr-var-item'><div class='xr-var-name'><span>raw_signal_chl</span></div><div class='xr-var-dims'>(time)</div><div class='xr-var-dtype'>float32</div><div class='xr-var-preview xr-preview'>53.0 52.0 50.0 ... 54.0 52.0 52.0</div><input id='attrs-e3333ed4-815f-47d4-9cbb-fbb6d81ce1cb' class='xr-var-attrs-in' type='checkbox' ><label for='attrs-e3333ed4-815f-47d4-9cbb-fbb6d81ce1cb' title='Show/Hide attributes'><svg class='icon xr-icon-file-text2'><use xlink:href='#icon-file-text2'></use></svg></label><input id='data-256a6dc5-43d3-475b-a2c6-b7ebeed1f02a' class='xr-var-data-in' type='checkbox'><label for='data-256a6dc5-43d3-475b-a2c6-b7ebeed1f02a' title='Show/Hide data repr'><svg class='icon xr-icon-database'><use xlink:href='#icon-database'></use></svg></label><div class='xr-var-attrs'><dl class='xr-attrs'><dt><span>comment :</span></dt><dd>Fluorometric chlorophyll-a unprocessed measurement output from the sensor.</dd><dt><span>long_name :</span></dt><dd>Chlorophyll-a Measurement</dd><dt><span>data_product_identifier :</span></dt><dd>CHLAFLO_L0</dd><dt><span>units :</span></dt><dd>counts</dd></dl></div><div class='xr-var-data'><pre>array([53., 52., 50., ..., 54., 52., 52.], dtype=float32)</pre></div></li><li class='xr-var-item'><div class='xr-var-name'><span>total_volume_scattering_coefficient_qc_results</span></div><div class='xr-var-dims'>(time)</div><div class='xr-var-dtype'>uint8</div><div class='xr-var-preview xr-preview'>13 13 13 13 13 ... 13 13 13 13 13</div><input id='attrs-acc7f7d9-3a78-409e-b6af-cf266f4bac6b' class='xr-var-attrs-in' type='checkbox' disabled><label for='attrs-acc7f7d9-3a78-409e-b6af-cf266f4bac6b' title='Show/Hide attributes'><svg class='icon xr-icon-file-text2'><use xlink:href='#icon-file-text2'></use></svg></label><input id='data-04496954-e501-472e-ad68-e6d400d6f94b' class='xr-var-data-in' type='checkbox'><label for='data-04496954-e501-472e-ad68-e6d400d6f94b' title='Show/Hide data repr'><svg class='icon xr-icon-database'><use xlink:href='#icon-database'></use></svg></label><div class='xr-var-attrs'><dl class='xr-attrs'></dl></div><div class='xr-var-data'><pre>array([13, 13, 13, ..., 13, 13, 13], dtype=uint8)</pre></div></li><li class='xr-var-item'><div class='xr-var-name'><span>signal_1_scale_factor</span></div><div class='xr-var-dims'>(time)</div><div class='xr-var-dtype'>float32</div><div class='xr-var-preview xr-preview'>0.0 0.0 0.0 0.0 ... 0.0 0.0 0.0 0.0</div><input id='attrs-bbb97829-9221-4446-bdc7-6dfd4eb23b72' class='xr-var-attrs-in' type='checkbox' ><label for='attrs-bbb97829-9221-4446-bdc7-6dfd4eb23b72' title='Show/Hide attributes'><svg class='icon xr-icon-file-text2'><use xlink:href='#icon-file-text2'></use></svg></label><input id='data-6470e736-b203-48ac-b292-659c075c5eda' class='xr-var-data-in' type='checkbox'><label for='data-6470e736-b203-48ac-b292-659c075c5eda' title='Show/Hide data repr'><svg class='icon xr-icon-database'><use xlink:href='#icon-database'></use></svg></label><div class='xr-var-attrs'><dl class='xr-attrs'><dt><span>units :</span></dt><dd>m-1 sr-1 counts-1</dd><dt><span>precision :</span></dt><dd>2</dd><dt><span>long_name :</span></dt><dd>Signal 1 (Scattering) Scale Factor</dd></dl></div><div class='xr-var-data'><pre>array([0., 0., 0., ..., 0., 0., 0.], dtype=float32)</pre></div></li><li class='xr-var-item'><div class='xr-var-name'><span>deployment</span></div><div class='xr-var-dims'>(time)</div><div class='xr-var-dtype'>int32</div><div class='xr-var-preview xr-preview'>8 8 8 8 8 8 8 8 ... 8 8 8 8 8 8 8 8</div><input id='attrs-49d026e9-f432-4f72-8d67-b611743a8a78' class='xr-var-attrs-in' type='checkbox' ><label for='attrs-49d026e9-f432-4f72-8d67-b611743a8a78' title='Show/Hide attributes'><svg class='icon xr-icon-file-text2'><use xlink:href='#icon-file-text2'></use></svg></label><input id='data-92c89030-58f7-41b1-a12d-faf2e470b991' class='xr-var-data-in' type='checkbox'><label for='data-92c89030-58f7-41b1-a12d-faf2e470b991' title='Show/Hide data repr'><svg class='icon xr-icon-database'><use xlink:href='#icon-database'></use></svg></label><div class='xr-var-attrs'><dl class='xr-attrs'><dt><span>name :</span></dt><dd>deployment</dd></dl></div><div class='xr-var-data'><pre>array([8, 8, 8, ..., 8, 8, 8], dtype=int32)</pre></div></li><li class='xr-var-item'><div class='xr-var-name'><span>signal_1_offset</span></div><div class='xr-var-dims'>(time)</div><div class='xr-var-dtype'>float32</div><div class='xr-var-preview xr-preview'>0.0 0.0 0.0 0.0 ... 0.0 0.0 0.0 0.0</div><input id='attrs-062e4241-89a2-4af9-803d-041dd6c360c1' class='xr-var-attrs-in' type='checkbox' ><label for='attrs-062e4241-89a2-4af9-803d-041dd6c360c1' title='Show/Hide attributes'><svg class='icon xr-icon-file-text2'><use xlink:href='#icon-file-text2'></use></svg></label><input id='data-510ce0f1-939c-42c0-aa0c-b6d0e3170ec3' class='xr-var-data-in' type='checkbox'><label for='data-510ce0f1-939c-42c0-aa0c-b6d0e3170ec3' title='Show/Hide data repr'><svg class='icon xr-icon-database'><use xlink:href='#icon-database'></use></svg></label><div class='xr-var-attrs'><dl class='xr-attrs'><dt><span>units :</span></dt><dd>counts</dd><dt><span>long_name :</span></dt><dd>Signal 1 (Scattering) Offset</dd></dl></div><div class='xr-var-data'><pre>array([0., 0., 0., ..., 0., 0., 0.], dtype=float32)</pre></div></li><li class='xr-var-item'><div class='xr-var-name'><span>int_ctd_pressure</span></div><div class='xr-var-dims'>(time)</div><div class='xr-var-dtype'>float64</div><div class='xr-var-preview xr-preview'>191.1 191.1 191.1 ... 191.8 191.8</div><input id='attrs-40e1931b-7482-43d9-8638-1c8f21921724' class='xr-var-attrs-in' type='checkbox' ><label for='attrs-40e1931b-7482-43d9-8638-1c8f21921724' title='Show/Hide attributes'><svg class='icon xr-icon-file-text2'><use xlink:href='#icon-file-text2'></use></svg></label><input id='data-7018496e-52be-4b44-97b2-d006d284e455' class='xr-var-data-in' type='checkbox'><label for='data-7018496e-52be-4b44-97b2-d006d284e455' title='Show/Hide data repr'><svg class='icon xr-icon-database'><use xlink:href='#icon-database'></use></svg></label><div class='xr-var-attrs'><dl class='xr-attrs'><dt><span>comment :</span></dt><dd>Seawater Pressure refers to the pressure exerted on a sensor in situ by the weight of the column of seawater above it. It is calculated by subtracting one standard atmosphere from the absolute pressure at the sensor to remove the weight of the atmosphere on top of the water column. The pressure at a sensor in situ provides a metric of the depth of that sensor.</dd><dt><span>data_product_identifier :</span></dt><dd>PRESWAT_L1</dd><dt><span>precision :</span></dt><dd>3</dd><dt><span>long_name :</span></dt><dd>Seawater Pressure</dd><dt><span>standard_name :</span></dt><dd>sea_water_pressure</dd><dt><span>units :</span></dt><dd>dbar</dd></dl></div><div class='xr-var-data'><pre>array([191.051661, 191.052701, 191.056725, ..., 191.806332, 191.800285,\n",
       "       191.795122])</pre></div></li><li class='xr-var-item'><div class='xr-var-name'><span>preferred_timestamp</span></div><div class='xr-var-dims'>(time)</div><div class='xr-var-dtype'>object</div><div class='xr-var-preview xr-preview'>b&#x27;port_timestamp&#x27; ... b&#x27;port_tim...</div><input id='attrs-ad5a94a9-cdb4-4081-9929-dc97d8ba4c33' class='xr-var-attrs-in' type='checkbox' ><label for='attrs-ad5a94a9-cdb4-4081-9929-dc97d8ba4c33' title='Show/Hide attributes'><svg class='icon xr-icon-file-text2'><use xlink:href='#icon-file-text2'></use></svg></label><input id='data-40c86faf-6637-4f56-8d24-be9ee04b55c5' class='xr-var-data-in' type='checkbox'><label for='data-40c86faf-6637-4f56-8d24-be9ee04b55c5' title='Show/Hide data repr'><svg class='icon xr-icon-database'><use xlink:href='#icon-database'></use></svg></label><div class='xr-var-attrs'><dl class='xr-attrs'><dt><span>comment :</span></dt><dd>Timestamp preferred as official record.</dd><dt><span>units :</span></dt><dd>1</dd><dt><span>long_name :</span></dt><dd>Preferred Timestamp</dd></dl></div><div class='xr-var-data'><pre>array([b&#x27;port_timestamp&#x27;, b&#x27;port_timestamp&#x27;, b&#x27;port_timestamp&#x27;, ...,\n",
       "       b&#x27;port_timestamp&#x27;, b&#x27;port_timestamp&#x27;, b&#x27;port_timestamp&#x27;], dtype=object)</pre></div></li><li class='xr-var-item'><div class='xr-var-name'><span>total_volume_scattering_coefficient</span></div><div class='xr-var-dims'>(time)</div><div class='xr-var-dtype'>float64</div><div class='xr-var-preview xr-preview'>9.269e-05 0.0001059 ... 0.0001081</div><input id='attrs-0d5e6d75-3e93-4b8d-a37e-9080b6ad7445' class='xr-var-attrs-in' type='checkbox' ><label for='attrs-0d5e6d75-3e93-4b8d-a37e-9080b6ad7445' title='Show/Hide attributes'><svg class='icon xr-icon-file-text2'><use xlink:href='#icon-file-text2'></use></svg></label><input id='data-69fec2e4-7004-4d7e-9a1a-bd83822fa962' class='xr-var-data-in' type='checkbox'><label for='data-69fec2e4-7004-4d7e-9a1a-bd83822fa962' title='Show/Hide data repr'><svg class='icon xr-icon-database'><use xlink:href='#icon-database'></use></svg></label><div class='xr-var-attrs'><dl class='xr-attrs'><dt><span>comment :</span></dt><dd>Total Volume Scattering Coefficient values represent the volume scattering from particles and the molecular scattering from water at a given wavelength of light and the default angle of 117 degrees for the ECO meter.</dd><dt><span>long_name :</span></dt><dd>Total Volume Scattering Coefficient</dd><dt><span>precision :</span></dt><dd>6</dd><dt><span>data_product_identifier :</span></dt><dd>FLUBSCT_L1</dd><dt><span>units :</span></dt><dd>m-1 sr-1</dd><dt><span>ancillary_variables :</span></dt><dd>raw_signal_beta</dd></dl></div><div class='xr-var-data'><pre>array([9.26940e-05, 1.05936e-04, 1.25799e-04, ..., 1.32420e-04, 1.21385e-04,\n",
       "       1.08143e-04])</pre></div></li><li class='xr-var-item'><div class='xr-var-name'><span>signal_2_offset</span></div><div class='xr-var-dims'>(time)</div><div class='xr-var-dtype'>float32</div><div class='xr-var-preview xr-preview'>0.0 0.0 0.0 0.0 ... 0.0 0.0 0.0 0.0</div><input id='attrs-59eb9789-5791-4eee-8e64-5990de1a04f2' class='xr-var-attrs-in' type='checkbox' ><label for='attrs-59eb9789-5791-4eee-8e64-5990de1a04f2' title='Show/Hide attributes'><svg class='icon xr-icon-file-text2'><use xlink:href='#icon-file-text2'></use></svg></label><input id='data-285d7fe4-1d93-4c75-b36d-b41011c71db5' class='xr-var-data-in' type='checkbox'><label for='data-285d7fe4-1d93-4c75-b36d-b41011c71db5' title='Show/Hide data repr'><svg class='icon xr-icon-database'><use xlink:href='#icon-database'></use></svg></label><div class='xr-var-attrs'><dl class='xr-attrs'><dt><span>units :</span></dt><dd>counts</dd><dt><span>long_name :</span></dt><dd>Signal 2 (Chlorophyll) Offset</dd></dl></div><div class='xr-var-data'><pre>array([0., 0., 0., ..., 0., 0., 0.], dtype=float32)</pre></div></li><li class='xr-var-item'><div class='xr-var-name'><span>chlora</span></div><div class='xr-var-dims'>(time)</div><div class='xr-var-dtype'>float64</div><div class='xr-var-preview xr-preview'>-0.0107 -0.0214 ... -0.0214 -0.0214</div><input id='attrs-b675878c-5c53-46cf-8df0-c0507aafdae2' class='xr-var-attrs-in' type='checkbox' ><label for='attrs-b675878c-5c53-46cf-8df0-c0507aafdae2' title='Show/Hide attributes'><svg class='icon xr-icon-file-text2'><use xlink:href='#icon-file-text2'></use></svg></label><input id='data-0694b6d9-b58d-424a-b94c-9b46cf9a5a50' class='xr-var-data-in' type='checkbox'><label for='data-0694b6d9-b58d-424a-b94c-9b46cf9a5a50' title='Show/Hide data repr'><svg class='icon xr-icon-database'><use xlink:href='#icon-database'></use></svg></label><div class='xr-var-attrs'><dl class='xr-attrs'><dt><span>comment :</span></dt><dd>Fluorometric Chlorophyll-a Concentration is an estimate of phytoplankton biomass using fluorescence. The fluorometer emits light at a specific wavelength that is absorbed by chlorophyll and re-emitted as light at a different wavelength. By measuring the intensity of the re-emitted wavelength of light the chlorophyll-a concentration in the surrounding seawater can be estimated. Chlorophyll-a concentrations can be used as a proxy for phytoplankton biomass as it is a dominant photosynthetic pigment.</dd><dt><span>long_name :</span></dt><dd>Chlorophyll-a Concentration</dd><dt><span>precision :</span></dt><dd>6</dd><dt><span>data_product_identifier :</span></dt><dd>CHLAFLO_L1</dd><dt><span>standard_name :</span></dt><dd>mass_concentration_of_chlorophyll_a_in_sea_water</dd><dt><span>units :</span></dt><dd>µg L-1</dd><dt><span>ancillary_variables :</span></dt><dd>raw_signal_chl</dd></dl></div><div class='xr-var-data'><pre>array([-0.0107, -0.0214, -0.0428, ...,  0.    , -0.0214, -0.0214])</pre></div></li><li class='xr-var-item'><div class='xr-var-name'><span>raw_internal_temp</span></div><div class='xr-var-dims'>(time)</div><div class='xr-var-dtype'>float32</div><div class='xr-var-preview xr-preview'>549.0 549.0 549.0 ... 548.0 548.0</div><input id='attrs-66e7d994-c817-4056-add2-77e540f98520' class='xr-var-attrs-in' type='checkbox' ><label for='attrs-66e7d994-c817-4056-add2-77e540f98520' title='Show/Hide attributes'><svg class='icon xr-icon-file-text2'><use xlink:href='#icon-file-text2'></use></svg></label><input id='data-bc206e7e-4ba9-4354-9900-d5c983f10402' class='xr-var-data-in' type='checkbox'><label for='data-bc206e7e-4ba9-4354-9900-d5c983f10402' title='Show/Hide data repr'><svg class='icon xr-icon-database'><use xlink:href='#icon-database'></use></svg></label><div class='xr-var-attrs'><dl class='xr-attrs'><dt><span>comment :</span></dt><dd>Raw internal instrument thermistor signal output.</dd><dt><span>units :</span></dt><dd>counts</dd><dt><span>long_name :</span></dt><dd>Raw Internal Temperature</dd></dl></div><div class='xr-var-data'><pre>array([549., 549., 549., ..., 548., 548., 548.], dtype=float32)</pre></div></li><li class='xr-var-item'><div class='xr-var-name'><span>backscatter</span></div><div class='xr-var-dims'>(time)</div><div class='xr-var-dtype'>float64</div><div class='xr-var-preview xr-preview'>0.0006074 0.0006969 ... 0.0007118</div><input id='attrs-a72ff00b-f47a-43a6-bee7-ed08db472aad' class='xr-var-attrs-in' type='checkbox' ><label for='attrs-a72ff00b-f47a-43a6-bee7-ed08db472aad' title='Show/Hide attributes'><svg class='icon xr-icon-file-text2'><use xlink:href='#icon-file-text2'></use></svg></label><input id='data-c4809852-dcf8-460e-899f-2456b893b887' class='xr-var-data-in' type='checkbox'><label for='data-c4809852-dcf8-460e-899f-2456b893b887' title='Show/Hide data repr'><svg class='icon xr-icon-database'><use xlink:href='#icon-database'></use></svg></label><div class='xr-var-attrs'><dl class='xr-attrs'><dt><span>comment :</span></dt><dd>Optical Backscatter (Red Wavelengths) is a measure of the amount of red light (630-740 nm wavelengths) scattered in the backward direction due to suspended matter within seawater, providing a proxy for turbidity and suspended solids.</dd><dt><span>long_name :</span></dt><dd>Optical Backscatter</dd><dt><span>precision :</span></dt><dd>4</dd><dt><span>data_product_identifier :</span></dt><dd>FLUBSCT_L2</dd><dt><span>units :</span></dt><dd>m-1</dd><dt><span>ancillary_variables :</span></dt><dd>total_volume_scattering_coefficient seawater_temperature practical_salinity</dd></dl></div><div class='xr-var-data'><pre>array([0.000607, 0.000697, 0.000831, ..., 0.000876, 0.000801, 0.000712])</pre></div></li><li class='xr-var-item'><div class='xr-var-name'><span>fluorometric_cdom_qc_results</span></div><div class='xr-var-dims'>(time)</div><div class='xr-var-dtype'>uint8</div><div class='xr-var-preview xr-preview'>29 29 29 29 29 ... 29 29 29 29 29</div><input id='attrs-6033413f-1892-4e79-ba26-1b9783f7fff3' class='xr-var-attrs-in' type='checkbox' disabled><label for='attrs-6033413f-1892-4e79-ba26-1b9783f7fff3' title='Show/Hide attributes'><svg class='icon xr-icon-file-text2'><use xlink:href='#icon-file-text2'></use></svg></label><input id='data-5782b6dc-6e4e-4770-9919-ed05886a2d71' class='xr-var-data-in' type='checkbox'><label for='data-5782b6dc-6e4e-4770-9919-ed05886a2d71' title='Show/Hide data repr'><svg class='icon xr-icon-database'><use xlink:href='#icon-database'></use></svg></label><div class='xr-var-attrs'><dl class='xr-attrs'></dl></div><div class='xr-var-data'><pre>array([29, 29, 29, ..., 29, 29, 29], dtype=uint8)</pre></div></li></ul></div></li><li class='xr-section-item'><input id='section-922677d4-6802-406a-9c8f-8ec03e2b463f' class='xr-section-summary-in' type='checkbox'  ><label for='section-922677d4-6802-406a-9c8f-8ec03e2b463f' class='xr-section-summary' >Attributes: <span>(68)</span></label><div class='xr-section-inline-details'></div><div class='xr-section-details'><dl class='xr-attrs'><dt><span>node :</span></dt><dd>SF01A</dd><dt><span>comment :</span></dt><dd></dd><dt><span>publisher_email :</span></dt><dd></dd><dt><span>sourceUrl :</span></dt><dd>http://oceanobservatories.org/</dd><dt><span>collection_method :</span></dt><dd>streamed</dd><dt><span>stream :</span></dt><dd>flort_d_data_record</dd><dt><span>featureType :</span></dt><dd>point</dd><dt><span>creator_email :</span></dt><dd></dd><dt><span>publisher_name :</span></dt><dd>Ocean Observatories Initiative</dd><dt><span>date_modified :</span></dt><dd>2021-07-26T16:57:38.049177</dd><dt><span>keywords :</span></dt><dd></dd><dt><span>cdm_data_type :</span></dt><dd>Point</dd><dt><span>references :</span></dt><dd>More information can be found at http://oceanobservatories.org/</dd><dt><span>Metadata_Conventions :</span></dt><dd>Unidata Dataset Discovery v1.0</dd><dt><span>date_created :</span></dt><dd>2021-07-26T16:57:38.049175</dd><dt><span>id :</span></dt><dd>RS01SBPS-SF01A-3A-FLORTD101-streamed-flort_d_data_record</dd><dt><span>requestUUID :</span></dt><dd>6d5aedaa-2f70-48c6-a8f1-a5048804922f</dd><dt><span>contributor_role :</span></dt><dd></dd><dt><span>summary :</span></dt><dd>Dataset Generated by Stream Engine from Ocean Observatories Initiative</dd><dt><span>keywords_vocabulary :</span></dt><dd></dd><dt><span>institution :</span></dt><dd>Ocean Observatories Initiative</dd><dt><span>naming_authority :</span></dt><dd>org.oceanobservatories</dd><dt><span>feature_Type :</span></dt><dd>point</dd><dt><span>infoUrl :</span></dt><dd>http://oceanobservatories.org/</dd><dt><span>license :</span></dt><dd></dd><dt><span>contributor_name :</span></dt><dd></dd><dt><span>uuid :</span></dt><dd>6d5aedaa-2f70-48c6-a8f1-a5048804922f</dd><dt><span>creator_name :</span></dt><dd>Ocean Observatories Initiative</dd><dt><span>title :</span></dt><dd>Data produced by Stream Engine version 1.18.0 for RS01SBPS-SF01A-3A-FLORTD101-streamed-flort_d_data_record</dd><dt><span>sensor :</span></dt><dd>3A-FLORTD101</dd><dt><span>standard_name_vocabulary :</span></dt><dd>NetCDF Climate and Forecast (CF) Metadata Convention Standard Name Table 29</dd><dt><span>acknowledgement :</span></dt><dd></dd><dt><span>Conventions :</span></dt><dd>CF-1.6</dd><dt><span>project :</span></dt><dd>Ocean Observatories Initiative</dd><dt><span>source :</span></dt><dd>RS01SBPS-SF01A-3A-FLORTD101-streamed-flort_d_data_record</dd><dt><span>publisher_url :</span></dt><dd>http://oceanobservatories.org/</dd><dt><span>creator_url :</span></dt><dd>http://oceanobservatories.org/</dd><dt><span>nodc_template_version :</span></dt><dd>NODC_NetCDF_TimeSeries_Orthogonal_Template_v1.1</dd><dt><span>subsite :</span></dt><dd>RS01SBPS</dd><dt><span>processing_level :</span></dt><dd>L2</dd><dt><span>history :</span></dt><dd>2021-07-26T16:57:38.049133 generated from Stream Engine</dd><dt><span>Manufacturer :</span></dt><dd>WET Labs</dd><dt><span>ModelNumber :</span></dt><dd>ECO Triplet-w</dd><dt><span>SerialNumber :</span></dt><dd>1130</dd><dt><span>Description :</span></dt><dd>3-Wavelength Fluorometer: FLORT Series D</dd><dt><span>FirmwareVersion :</span></dt><dd>Not specified.</dd><dt><span>SoftwareVersion :</span></dt><dd>Not specified.</dd><dt><span>AssetUniqueID :</span></dt><dd>ATAPL-58322-00003</dd><dt><span>Notes :</span></dt><dd>Not specified.</dd><dt><span>Owner :</span></dt><dd>University of Washington</dd><dt><span>RemoteResources :</span></dt><dd>[]</dd><dt><span>ShelfLifeExpirationDate :</span></dt><dd>Not specified.</dd><dt><span>Mobile :</span></dt><dd>False</dd><dt><span>AssetManagementRecordLastModified :</span></dt><dd>2021-07-23T11:39:11.989000</dd><dt><span>time_coverage_start :</span></dt><dd>2021-01-23T12:00:00.228181</dd><dt><span>time_coverage_end :</span></dt><dd>2021-04-14T11:59:59.167518</dd><dt><span>time_coverage_resolution :</span></dt><dd>P1.20S</dd><dt><span>geospatial_lat_min :</span></dt><dd>44.52894899</dd><dt><span>geospatial_lat_max :</span></dt><dd>44.52894899</dd><dt><span>geospatial_lat_units :</span></dt><dd>degrees_north</dd><dt><span>geospatial_lat_resolution :</span></dt><dd>0.1</dd><dt><span>geospatial_lon_min :</span></dt><dd>-125.3896636</dd><dt><span>geospatial_lon_max :</span></dt><dd>-125.3896636</dd><dt><span>geospatial_lon_units :</span></dt><dd>degrees_east</dd><dt><span>geospatial_lon_resolution :</span></dt><dd>0.1</dd><dt><span>geospatial_vertical_units :</span></dt><dd>meters</dd><dt><span>geospatial_vertical_resolution :</span></dt><dd>0.1</dd><dt><span>geospatial_vertical_positive :</span></dt><dd>down</dd></dl></div></li></ul></div></div>"
      ],
      "text/plain": [
       "<xarray.Dataset>\n",
       "Dimensions:                                          (time: 2231042)\n",
       "Coordinates:\n",
       "    obs                                              (time) int32 2627967 ......\n",
       "    lon                                              (time) float64 ...\n",
       "    lat                                              (time) float64 ...\n",
       "    depth                                            (time) float64 ...\n",
       "  * time                                             (time) datetime64[ns] 20...\n",
       "Data variables: (12/39)\n",
       "    practical_salinity                               (time) float64 33.87 ......\n",
       "    fluorometric_chlorophyll_a_qc_results            (time) uint8 12 12 ... 12\n",
       "    fdom                                             (time) float64 1.3 ... 1...\n",
       "    signal_3_offset                                  (time) float32 0.0 ... 0.0\n",
       "    fluorometric_cdom_qc_executed                    (time) uint8 29 29 ... 29\n",
       "    measurement_wavelength_cdom                      (time) float32 460.0 ......\n",
       "    ...                                               ...\n",
       "    total_volume_scattering_coefficient              (time) float64 9.269e-05...\n",
       "    signal_2_offset                                  (time) float32 0.0 ... 0.0\n",
       "    chlora                                           (time) float64 -0.0107 ....\n",
       "    raw_internal_temp                                (time) float32 549.0 ......\n",
       "    backscatter                                      (time) float64 0.0006074...\n",
       "    fluorometric_cdom_qc_results                     (time) uint8 29 29 ... 29\n",
       "Attributes: (12/68)\n",
       "    node:                               SF01A\n",
       "    comment:                            \n",
       "    publisher_email:                    \n",
       "    sourceUrl:                          http://oceanobservatories.org/\n",
       "    collection_method:                  streamed\n",
       "    stream:                             flort_d_data_record\n",
       "    ...                                 ...\n",
       "    geospatial_lon_max:                 -125.3896636\n",
       "    geospatial_lon_units:               degrees_east\n",
       "    geospatial_lon_resolution:          0.1\n",
       "    geospatial_vertical_units:          meters\n",
       "    geospatial_vertical_resolution:     0.1\n",
       "    geospatial_vertical_positive:       down"
      ]
     },
     "execution_count": 25,
     "metadata": {},
     "output_type": "execute_result"
    }
   ],
   "source": [
    "# open the dataset (chlor-a, fdom/cdom and backscatter) as variable 'D'\n",
    "D = xr.open_dataset('../data/rca/fluor/osb/2021/flort_fullres.nc')\n",
    "\n",
    "# substitute time for 'observation number' as the primary dimension\n",
    "D = D.swap_dims({'obs':'time'})\n",
    "\n",
    "# diagnostic: how many data values present\n",
    "print('Number of data values: after file is opened, before time range narrowed to March 2021: ', len(D.time))\n",
    "\n",
    "# narrow the time range to March 2021 (31 days, 86400 seconds per day: 2678400 samples\n",
    "D = D.sel(time=slice(dt64('2021-03-01'), dt64('2021-04-01')))\n",
    "\n",
    "# diagnostic: Number of data values after time window applied\n",
    "print(\"Number of data values: March 2021 only, compare to 'one per second' total of 2678400: \", len(D.time))\n",
    "\n",
    "# drop NaN values\n",
    "D = D.dropna('time')\n",
    "\n",
    "# diagnostic: Number of data values: after dropping NaNs\n",
    "print('D number of data values after dropping NaN values is the same: ', len(D.time))\n",
    "\n",
    "# rename the three sensor data streams; easier to read\n",
    "D = D.rename( {'fluorometric_cdom':          'fdom',\n",
    "               'fluorometric_chlorophyll_a': 'chlora',\n",
    "               'optical_backscatter':        'backscatter'})\n",
    "\n",
    "\n",
    "# reference D to produce a printout of its structure in terms of dimensions, coordinates, data values and attributes\n",
    "# Dimensions: time only\n",
    "# Coordinates: five; but time and depth (for the profiler) are the important ones. \n",
    "# Data variables: 39 total; where the three fluorometer channels will be renamed in the following cell\n",
    "# Attributes: 68 total; ancillary metadata such as fluormeter model and manufacturer\n",
    "D"
   ]
  },
  {
   "cell_type": "markdown",
   "id": "f4f17e39-ec4f-4447-b099-69480495273b",
   "metadata": {},
   "source": [
    "### Remark on QC flags\n",
    "\n",
    "OOI provides a [web guide to QC flags](https://oceanobservatories.org/knowledgebase/interpreting-qc-variables-and-results/)\n",
    "to help with their interpretation. Below we examine the first qc flag value for `fluorometric_cdom_qc_executed`\n",
    "This integer value (29) is interpreted as a series of binary flags (right to left) that tell which tests have been \n",
    "applied to the stream data.\n"
   ]
  },
  {
   "cell_type": "code",
   "execution_count": 26,
   "id": "a2ad241d-8df8-4a9d-9c27-b50b513737fd",
   "metadata": {},
   "outputs": [
    {
     "data": {
      "text/plain": [
       "'0b11101'"
      ]
     },
     "execution_count": 26,
     "metadata": {},
     "output_type": "execute_result"
    }
   ],
   "source": [
    "# The very first 'cdom_qc_executed' flag in the dataset time series, in binary\n",
    "bin(int(D.fluorometric_cdom_qc_executed[0]))"
   ]
  },
  {
   "cell_type": "markdown",
   "id": "1daa900a-46f7-4663-b044-4ecab1909e4c",
   "metadata": {},
   "source": [
    "Reading bits right to left: This indicates that tests 1, 3, 4 and 5 were completed. \n",
    "From the above web page these are respectively\n",
    "\n",
    "```\n",
    "1. global_range_test\n",
    "2. dataqc_localrangetest: Not completed\n",
    "3. dataqc_spiketest\n",
    "4. dataqc_polytrendtest\n",
    "5. dataqc_stuckvaluetest\n",
    "6. dataqc_gradienttest: Not completed\n",
    "```\n",
    "\n",
    "\n",
    "As we will see, there are two extraneous data spikes in the FDOM/CDOM signal during March 2021. We would need to \n",
    "examine `fluorometric_cdom_qc_results` to see if these were picked up by the above qc tests. "
   ]
  },
  {
   "cell_type": "markdown",
   "id": "a15ee13f-cb46-4296-b523-871df998c1d6",
   "metadata": {},
   "source": [
    "# Figure 1: Examine data\n",
    "\n",
    "We begin with the simple plot function built into XArray DataArrays. The data time range was narrowed above to March 2021.\n",
    "Some aberrant spikes are apparent in the FDOM (second chart)."
   ]
  },
  {
   "cell_type": "code",
   "execution_count": 27,
   "id": "1acd8bb6-326b-4346-a37c-9c3293ad3e64",
   "metadata": {},
   "outputs": [
    {
     "data": {
      "text/plain": [
       "[<matplotlib.lines.Line2D at 0x7f80c7b47df0>]"
      ]
     },
     "execution_count": 27,
     "metadata": {},
     "output_type": "execute_result"
    },
    {
     "data": {
      "image/png": "[encoded data removed]",
      "text/plain": [
       "<Figure size 432x288 with 1 Axes>"
      ]
     },
     "metadata": {
      "needs_background": "light"
     },
     "output_type": "display_data"
    }
   ],
   "source": [
    "D.chlora.plot()              # Chlorophyll-A looks reasonable (with a few negative values apparent, however)"
   ]
  },
  {
   "cell_type": "code",
   "execution_count": 28,
   "id": "1d558498-8984-44d0-813e-2bb8066346f4",
   "metadata": {},
   "outputs": [
    {
     "data": {
      "text/plain": [
       "[<matplotlib.lines.Line2D at 0x7f80e6244d60>]"
      ]
     },
     "execution_count": 28,
     "metadata": {},
     "output_type": "execute_result"
    },
    {
     "data": {
      "image/png": "[encoded data removed]",
      "text/plain": [
       "<Figure size 432x288 with 1 Axes>"
      ]
     },
     "metadata": {
      "needs_background": "light"
     },
     "output_type": "display_data"
    }
   ],
   "source": [
    "D.backscatter.plot()"
   ]
  },
  {
   "cell_type": "code",
   "execution_count": 29,
   "id": "53da2696-3349-4cb7-b003-2b2e14b334eb",
   "metadata": {},
   "outputs": [
    {
     "data": {
      "text/plain": [
       "[<matplotlib.lines.Line2D at 0x7f80e6202dc0>]"
      ]
     },
     "execution_count": 29,
     "metadata": {},
     "output_type": "execute_result"
    },
    {
     "data": {
      "image/png": "[encoded data removed]",
      "text/plain": [
       "<Figure size 432x288 with 1 Axes>"
      ]
     },
     "metadata": {
      "needs_background": "light"
     },
     "output_type": "display_data"
    }
   ],
   "source": [
    "D.fdom.plot()               # FDOM/CDOM: Two clear spikes outside the typical data range"
   ]
  },
  {
   "cell_type": "markdown",
   "id": "7b077560-e621-4622-a4ff-5e07ce3734bf",
   "metadata": {},
   "source": [
    "The FDOM/CDOM spikes in the third chart are clearly out of range. We now use the qc_result Data Variable for FDOM/CDOM to remove those data.\n",
    "In particular, we will use the global_range_test qc flag (lowest order bit) as the discard criterion.\n",
    "For this task we also select out a single day (March 10) at full resolution. At 1.2 samples per second this comes\n",
    "to 72000 samples for one day. The `.sel` method is used to select out one day of data; and the `.where()` method\n",
    "is used to drop data values where the global_range_test result is 0. (Time is UTC.)"
   ]
  },
  {
   "cell_type": "code",
   "execution_count": 30,
   "id": "628150a2-f335-4846-81ad-b8f82283d565",
   "metadata": {},
   "outputs": [
    {
     "name": "stdout",
     "output_type": "stream",
     "text": [
      "March 10 number of data values:  71998  compared to 72000 per day at 1.2 seconds per sample.\n"
     ]
    },
    {
     "data": {
      "text/plain": [
       "[<matplotlib.lines.Line2D at 0x7f80e61f4ca0>]"
      ]
     },
     "execution_count": 30,
     "metadata": {},
     "output_type": "execute_result"
    },
    {
     "data": {
      "image/png": "[encoded data removed]",
      "text/plain": [
       "<Figure size 432x288 with 1 Axes>"
      ]
     },
     "metadata": {
      "needs_background": "light"
     },
     "output_type": "display_data"
    }
   ],
   "source": [
    "# Select out March 10 data to a new Dataset 'DMar10'\n",
    "DMar10 = D.sel(time=slice(dt64('2021-03-10'), dt64('2021-03-11')))\n",
    "print('March 10 number of data values: ', len(DMar10.time), ' compared to 72000 per day at 1.2 seconds per sample.')\n",
    "\n",
    "# verify the spike is still present\n",
    "DMar10.fdom.plot()"
   ]
  },
  {
   "cell_type": "markdown",
   "id": "a5f6394d-6da6-46e9-860a-21023832c09e",
   "metadata": {},
   "source": [
    "# Part 2: Drop data that did not pass the global range test"
   ]
  },
  {
   "cell_type": "code",
   "execution_count": 31,
   "id": "56fbcf80-07dc-47cd-91ce-4a18097715b7",
   "metadata": {},
   "outputs": [
    {
     "name": "stdout",
     "output_type": "stream",
     "text": [
      "Data sizes for source data and discards for chlora, backscatter and fdom: 71998 30445 71998 71987\n"
     ]
    }
   ],
   "source": [
    "# Some example code is given (commented out) to indicate related operations.\n",
    "#\n",
    "# Code to show the first five qc results flags for FDOM/CDOM: 29, as seen above as well. \n",
    "# DMar10.fluorometric_cdom_qc_results[0:5]\n",
    "# \n",
    "# Example of removing spike values using a threshold of 100; uses the .where() method.\n",
    "# Dprime = DMar10.where(DMar10.fdom > 100., drop=True)\n",
    "\n",
    "# Produce data subsets for March 10 that discard data where global_range_test is False.\n",
    "DA = DMar10.where(DMar10.fluorometric_chlorophyll_a_qc_results % 2, drop=True)\n",
    "DB = DMar10.where(DMar10.optical_backscatter_qc_results % 2,        drop=True)\n",
    "DC = DMar10.where(DMar10.fluorometric_cdom_qc_results % 2,          drop=True)\n",
    "print('Data sizes for source data and discards for chlora, backscatter and fdom:', len(DMar10.time), len(DA.time), len(DB.time), len(DC.time))"
   ]
  },
  {
   "cell_type": "markdown",
   "id": "4c2f29f1-619a-4477-80d1-0df3f0f53d7c",
   "metadata": {},
   "source": [
    "The other qc tests (higher order bits in the `_qc_results` flag) are considered 'of interest' at this time, but not grounds for \n",
    "dropping data. "
   ]
  },
  {
   "cell_type": "code",
   "execution_count": 32,
   "id": "5adc4005-bb52-4069-acd2-f30c62858e07",
   "metadata": {},
   "outputs": [
    {
     "data": {
      "text/plain": [
       "[<matplotlib.lines.Line2D at 0x7f80e3f438e0>]"
      ]
     },
     "execution_count": 32,
     "metadata": {},
     "output_type": "execute_result"
    },
    {
     "data": {
      "image/png": "[encoded data removed]",
      "text/plain": [
       "<Figure size 432x288 with 1 Axes>"
      ]
     },
     "metadata": {
      "needs_background": "light"
     },
     "output_type": "display_data"
    }
   ],
   "source": [
    "# Continuing with just March 10 2021: Chlor-A\n",
    "DA.chlora.plot()"
   ]
  },
  {
   "cell_type": "markdown",
   "id": "e27f0d2f-a316-45bf-a95b-47f1fbc42444",
   "metadata": {},
   "source": [
    "The scalloped appearance of this data is due to the nine daily ascent/descent cycles of the shallow profiler. It begins \n",
    "at a depth of about 200 meters and ascends to about 10 meters, then returns."
   ]
  },
  {
   "cell_type": "code",
   "execution_count": 33,
   "id": "4a5d19d9-8692-4dcf-93b9-b67d75fde187",
   "metadata": {},
   "outputs": [
    {
     "data": {
      "text/plain": [
       "[<matplotlib.lines.Line2D at 0x7f80de508e50>]"
      ]
     },
     "execution_count": 33,
     "metadata": {},
     "output_type": "execute_result"
    },
    {
     "data": {
      "image/png": "[encoded data removed]",
      "text/plain": [
       "<Figure size 432x288 with 1 Axes>"
      ]
     },
     "metadata": {
      "needs_background": "light"
     },
     "output_type": "display_data"
    }
   ],
   "source": [
    "# Backscatter\n",
    "DB.backscatter.plot()"
   ]
  },
  {
   "cell_type": "code",
   "execution_count": 34,
   "id": "e1f0a369-64a4-4869-8537-3ec8ebb7a50b",
   "metadata": {},
   "outputs": [
    {
     "data": {
      "text/plain": [
       "[<matplotlib.lines.Line2D at 0x7f80de47c6d0>]"
      ]
     },
     "execution_count": 34,
     "metadata": {},
     "output_type": "execute_result"
    },
    {
     "data": {
      "image/png": "[encoded data removed]",
      "text/plain": [
       "<Figure size 432x288 with 1 Axes>"
      ]
     },
     "metadata": {
      "needs_background": "light"
     },
     "output_type": "display_data"
    }
   ],
   "source": [
    "# FDOM/CDOM\n",
    "DC.fdom.plot()"
   ]
  },
  {
   "cell_type": "markdown",
   "id": "fc245007-092c-4f0f-b2f9-ad9a36cd4cf2",
   "metadata": {},
   "source": [
    "## Remark on sample timing\n",
    "\n",
    "\n",
    "The 'observation' coordinate is a simple counter. The 'time' coordinate consists of timestamps.\n",
    "The chart below shows sample time (vertical axis) versus observation number (horizontal axis)."
   ]
  },
  {
   "cell_type": "code",
   "execution_count": 35,
   "id": "dc72050c-07ae-4859-b5a7-55317d08ac3d",
   "metadata": {},
   "outputs": [
    {
     "data": {
      "text/plain": [
       "[<matplotlib.lines.Line2D at 0x7f80de45c370>]"
      ]
     },
     "execution_count": 35,
     "metadata": {},
     "output_type": "execute_result"
    },
    {
     "data": {
      "image/png": "[encoded data removed]",
      "text/plain": [
       "<Figure size 360x360 with 1 Axes>"
      ]
     },
     "metadata": {
      "needs_background": "light"
     },
     "output_type": "display_data"
    }
   ],
   "source": [
    "fig, axs = plt.subplots(figsize=(5, 5), tight_layout=True)\n",
    "axs.plot(DA.obs, DA.time, color='k')"
   ]
  },
  {
   "cell_type": "code",
   "execution_count": null,
   "id": "312adc8b-d6ea-408c-a76b-2211a3b4ea27",
   "metadata": {},
   "outputs": [],
   "source": []
  },
  {
   "cell_type": "code",
   "execution_count": null,
   "id": "5af96d96-88ce-4877-aa66-ddae0649f3f1",
   "metadata": {},
   "outputs": [],
   "source": []
  },
  {
   "cell_type": "code",
   "execution_count": null,
   "id": "b8d0d46f-9e73-4b0c-b2d4-4036a1f8bd04",
   "metadata": {},
   "outputs": [],
   "source": []
  },
  {
   "cell_type": "code",
   "execution_count": null,
   "id": "abbfa5e8-2e02-44a9-a4b8-e5c55eef4c9b",
   "metadata": {},
   "outputs": [],
   "source": []
  },
  {
   "cell_type": "code",
   "execution_count": null,
   "id": "7ef86ccc-3b0c-45ac-83d8-109e589184b1",
   "metadata": {},
   "outputs": [],
   "source": []
  },
  {
   "cell_type": "markdown",
   "id": "3b729e71-c688-4703-a6b4-4d7ba959c702",
   "metadata": {},
   "source": [
    "# Figure 3: Examine data"
   ]
  },
  {
   "cell_type": "code",
   "execution_count": null,
   "id": "9f3cd75c-9e85-4808-9cfa-36cfd3bcfc4a",
   "metadata": {},
   "outputs": [],
   "source": []
  },
  {
   "cell_type": "code",
   "execution_count": null,
   "id": "4024ed45-0db8-47d4-8700-53ecbd306529",
   "metadata": {},
   "outputs": [],
   "source": []
  },
  {
   "cell_type": "code",
   "execution_count": null,
   "id": "1ed7b673-e7bf-4b18-990c-b4899a2c6bae",
   "metadata": {},
   "outputs": [],
   "source": []
  },
  {
   "cell_type": "markdown",
   "id": "090efc81-a253-431e-8071-866cf76a942b",
   "metadata": {},
   "source": [
    "# Figure 4: Examine data"
   ]
  },
  {
   "cell_type": "code",
   "execution_count": null,
   "id": "17bba3ce-70de-4d51-b512-4e11fada0009",
   "metadata": {},
   "outputs": [],
   "source": []
  },
  {
   "cell_type": "code",
   "execution_count": null,
   "id": "7a69da63-03fd-490b-be11-7ca879816f66",
   "metadata": {},
   "outputs": [],
   "source": []
  },
  {
   "cell_type": "code",
   "execution_count": null,
   "id": "ce3cab82-f276-4a40-b01c-dfc10e5c2613",
   "metadata": {},
   "outputs": [],
   "source": []
  },
  {
   "cell_type": "markdown",
   "id": "ab73e758-7223-4d85-b7a0-a826fe29a7c6",
   "metadata": {},
   "source": [
    "# Figure 5: Examine data"
   ]
  },
  {
   "cell_type": "code",
   "execution_count": null,
   "id": "d70a1b4b-4d60-4363-a9e5-f2b2ca93de5a",
   "metadata": {},
   "outputs": [],
   "source": []
  },
  {
   "cell_type": "code",
   "execution_count": null,
   "id": "ea8e79d8-79ab-42f7-98a4-553f95b8e5ec",
   "metadata": {},
   "outputs": [],
   "source": []
  },
  {
   "cell_type": "code",
   "execution_count": null,
   "id": "3e494650-e787-447d-9bc9-90a11ddff573",
   "metadata": {},
   "outputs": [],
   "source": []
  },
  {
   "cell_type": "markdown",
   "id": "d4a58221-50db-45ff-90fb-b869c86b0a32",
   "metadata": {},
   "source": [
    "# Figure 6: Examine data"
   ]
  },
  {
   "cell_type": "code",
   "execution_count": null,
   "id": "4bca4de7-0d80-469c-bb99-b8eb9f8143fa",
   "metadata": {},
   "outputs": [],
   "source": []
  },
  {
   "cell_type": "code",
   "execution_count": null,
   "id": "8ef84d5c-4b57-4587-a371-1ce89e08bff5",
   "metadata": {},
   "outputs": [],
   "source": []
  },
  {
   "cell_type": "code",
   "execution_count": null,
   "id": "6241f776-70e0-45ec-b912-652e883ad3fd",
   "metadata": {},
   "outputs": [],
   "source": []
  },
  {
   "cell_type": "markdown",
   "id": "b0f859de-9ad2-4285-a1db-94a65cd10926",
   "metadata": {},
   "source": []
  }
 ],
 "metadata": {
  "kernelspec": {
   "display_name": "Python 3 (ipykernel)",
   "language": "python",
   "name": "python3"
  },
  "language_info": {
   "codemirror_mode": {
    "name": "ipython",
    "version": 3
   },
   "file_extension": ".py",
   "mimetype": "text/x-python",
   "name": "python",
   "nbconvert_exporter": "python",
   "pygments_lexer": "ipython3",
   "version": "3.9.12"
  }
 },
 "nbformat": 4,
 "nbformat_minor": 5
}
