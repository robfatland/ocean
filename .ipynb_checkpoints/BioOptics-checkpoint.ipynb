{
 "cells": [
  {
   "cell_type": "markdown",
   "id": "494664f7",
   "metadata": {},
   "source": [
    "## Before we get started...\n",
    "\n",
    "This notebook is fairly light on code: The heavy lifting is done by additional code located in the companion \n",
    "file **`BioOpticsModule.py`**. \n",
    "\n",
    "\n",
    "This text resides in a box or *cell* devoted to markdown-style readable content. \n",
    "The cell below this is in contrast a `code cell` containing four lines of somewhat arcane\n",
    "Python. It can be *run* to produce a chart. It can also be modified and run again,\n",
    "a principal feature of Jupyter notebooks like this one.\n",
    "\n",
    "\n",
    "Code and markdown cells may be run individually. First, choose a cell (left-click) so that\n",
    "a vertical bar appears on the left. Run the cell by holding down **shift + enter**. The\n",
    "focus automatically advances to the next cell. \n",
    "Hold down **ctrl + enter** to run a cell without advancing the focus.\n",
    "Run *all* of the cells in this notebook from the **Run** dropdown menu at the upper left:\n",
    "***Run All Cells***."
   ]
  },
  {
   "cell_type": "code",
   "execution_count": null,
   "id": "2b9a3633",
   "metadata": {},
   "outputs": [],
   "source": [
    "from matplotlib import pyplot as plt\n",
    "fig, axs = plt.subplots(figsize=(5,6), tight_layout=True)\n",
    "axs.plot([7, 6, 2, 0, 5, 0, 0.5, 2], [1, 2, 3, 4, 5, 6, 7, 8], marker='.', markersize=12, color='black', markerfacecolor='red')\n",
    "axs.set_title('some artificial data delete this'); axs.set_ylabel('observation\\nnumber'); axs.set_xlabel('measurement'); plt.show()"
   ]
  },
  {
   "cell_type": "markdown",
   "id": "52dae8df",
   "metadata": {},
   "source": [
    "## Shallow Profiler context\n",
    "\n",
    "\n",
    "This notebook examines physical and bio-optical data from the Ocean Observatories Initiative (***OOI***)\n",
    "'Shallow Profiler' system, shown below. Notice the bulbous pod attached to the rectangular \n",
    "platform by means of a cable. The profiler ascends and then descends through the upper 200 meters\n",
    "of the ocean water column nine times per day, gathering data from several sensors in the process.\n",
    "\n",
    "\n",
    "<BR>\n",
    "<img src=\"./Images/rca/shallow%20profiler%20platform%201%20in%20situ.png\" style=\"float: left;\" alt=\"drawing\" width=\"400\"/>\n",
    "<div style=\"clear: left\"><BR>\n",
    "\n",
    "\n",
    "Above: Photo from the Remotely Operated Vehicle \"Ropos\", depth 200 meters, northeastern\n",
    "Pacific ocean.\n",
    "    \n",
    "The shallow profilers are one part of the Regional Cabled Array or ***RCA***. \n",
    "They are built and tested at the\n",
    "University of Washington.\n",
    "    \n",
    "<BR>\n",
    "<img src=\"./Images/rca/shallow%20profiler%20platform%202%20OSB%20pool.png\" style=\"float: left;\" alt=\"drawing\" width=\"400\"/>\n",
    "<div style=\"clear: left\"><BR>   \n",
    "    \n",
    "    \n",
    "    \n",
    "This Regional Cabled Array in turn is one of seven arrays across \n",
    "the global ocean that combined form the Ocean Observatories Initiative. \n",
    "    \n",
    "<BR>\n",
    "<img src=\"./Images/charts/OOI_array_map.png\" style=\"float: left;\" alt=\"drawing\" width=\"700\"/>\n",
    "<div style=\"clear: left\"><BR>   "
   ]
  },
  {
   "cell_type": "code",
   "execution_count": 1,
   "id": "649b85a1",
   "metadata": {},
   "outputs": [
    {
     "name": "stdout",
     "output_type": "stream",
     "text": [
      "For 2021, month of January, we have...\n",
      "31 days or 279 possible profiles\n",
      "There were, over this time, in fact...\n",
      "256 profiles; 28 at local midnight and 29 at local noon\n",
      "\n",
      "Jupyter Notebook running Python 3\n"
     ]
    }
   ],
   "source": [
    "# Set up this notebook to use code from an accompanying Python module file\n",
    "from BioOpticsModule import *\n",
    "print('\\nJupyter Notebook running Python {}'.format(sys.version_info[0]))"
   ]
  },
  {
   "cell_type": "markdown",
   "id": "4747751d",
   "metadata": {},
   "source": [
    "## Profile parameters\n",
    "\n",
    "Nine profiles are run daily. \n",
    "The site of the data shown here is ***Oregon Slope Base***. \n",
    "It is located at the base of the continental shelf off the coast of Oregon.\n",
    "It is part of the Regional Cabled Array, one of seven arrays that comprise the Ocean Observatories Initiative.\n",
    "\n",
    "\n",
    "To avoid a point of confusion: These profiles span the upper 200 meters of the ocean water column. However,\n",
    "at the Oregon Slope Base site the ocean depth is 3000 meters.\n",
    "The emphasis on the upper ocean corresponds to the region of available sunlight.\n",
    "\n",
    "\n",
    "This chart shows a daily profiling sequence: Depth of the profiler versus time."
   ]
  },
  {
   "cell_type": "code",
   "execution_count": null,
   "id": "3f300634",
   "metadata": {},
   "outputs": [],
   "source": [
    "ShallowProfilerDepthOneDay(dsT, '2021-03-01', '2021-03-02', 'Shallow Profiler depth: Over one day')"
   ]
  },
  {
   "cell_type": "markdown",
   "id": "a3cf0d16",
   "metadata": {},
   "source": [
    "## Data charts\n",
    "\n",
    "We begin charting two types of profiler sensor data: Dissolved oxygen (blue) and chlorophyll (green). "
   ]
  },
  {
   "cell_type": "code",
   "execution_count": null,
   "id": "7fbeb7e4",
   "metadata": {},
   "outputs": [],
   "source": [
    "# Dissolved oxygen and chlorophyll-a concentrationn for successive midnight and noon profiles\n",
    "pIdcs = [506, 511] # , 515, 520, 524, 529, 533, 538, 542, 547, 551, 556, 560, 565, 569, 574, 578, 583, 587, 592] \n",
    "fig, axs = ChartAB(pDf21, [(do_lo, do_hi), (chlora_lo, chlora_hi)], pIdcs, dsO.doxygen, dsO.z, \\\n",
    "           'Oxygen', 'blue', dsA.chlora, dsA.z, 'Chlor-A', 'green', 8, 3.5)"
   ]
  },
  {
   "cell_type": "markdown",
   "id": "9f741a20-2424-4d0f-a672-fbda1fc15d72",
   "metadata": {},
   "source": [
    "### Interpretation\n",
    "\n",
    "\n",
    "The above charts suggests that ocean water considered vertically from the\n",
    "surface to a depth of 200 meters has a kind of complicated structure. \n",
    "The vertical axis of each plot is depth below\n",
    "the surface in (negative) meters. There are two horizontal axes for each\n",
    "plot corresponding to dissolved\n",
    "oxygen (blue) and chlorophyll (green) concentration with depth. Both \n",
    "begin to drop sharply at depths in the range of 25 to 50 meters. The charts also\n",
    "suggest that chlorophyll concentration near the surface might vary over \n",
    "the course of a day. To investigate this further one could modify \n",
    "the above cell for a longer list of consecutive profiles, for example: \n",
    "\n",
    "\n",
    "```\n",
    "pIdcs = range(506, 524)             # enumerates profiles 506, 507, ..., 523\n",
    "fig, axs = ChartAB(pDf21, [(do_lo, do_hi), (chlora_lo, chlora_hi)], pIdcs, dsO.doxygen, dsO.z, 'Oxygen', 'blue', dsA.chlora, dsA.z, 'Chlor-A', 'green', 8, 3.5)\n",
    "```\n",
    "\n",
    "\n",
    "The data above are from profiler ascents. The instruments face upward at relatively undisturbed water as the profiler rises. \n",
    "\n",
    "\n",
    "- Oxygen profiles are fairly consistent in structure\n",
    "- Chlorophyll seems to have more variability near the surface\n",
    "- The transition from upper to lower stable values for chlorophyll runs 25 to 75 meters depth\n",
    "- The corresponding transition for oxygen runs 50 to 130 meters\n",
    "\n",
    "\n",
    "## Extending the data view to six profiler sensors\n",
    "\n",
    "\n",
    "We expand profiler ascent data beyond oxygen and chlorophyll to include \n",
    "temperature, salinity, fluorescence ('FDOM'), \n",
    "and particulate backscatter ('bb700'). \n",
    "The six sensor profiles *T / S / DO / CDOM / Chlor-A / bb700* are distributed across \n",
    "a row of three charts to reduce visual clutter. Each row corresponds to a distinct\n",
    "profile, in this case local midnight and noon on March 1, 2021."
   ]
  },
  {
   "cell_type": "code",
   "execution_count": null,
   "id": "dba3eb98",
   "metadata": {},
   "outputs": [],
   "source": [
    "profile_indices = [506, 511]  # , 515, 520, 524,529,533,538,542,547,551,556,560,565,569,574,578,583,587,592] \n",
    "fig, axs = SixSignalChartSequence(pDf21, dsA, dsB, dsC, dsO, dsS, dsT, \\\n",
    "            [(temp_lo, temp_hi), (sal_lo, sal_hi), (do_lo, do_hi), (chlora_lo, chlora_hi), \\\n",
    "             (bb_lo, bb_hi), (cdom_lo, cdom_hi)], profile_indices)"
   ]
  },
  {
   "cell_type": "code",
   "execution_count": null,
   "id": "ef6b4f5f-030d-4ad8-8eac-c98703d0447a",
   "metadata": {
    "tags": []
   },
   "outputs": [],
   "source": [
    "%%html\n",
    "<style>table {float:left}</style>"
   ]
  },
  {
   "cell_type": "markdown",
   "id": "1fce342b",
   "metadata": {},
   "source": [
    "### Sensor list including single-letter keys\n",
    "\n",
    "\n",
    "| Sensor | Key Letter | Remarks |\n",
    "| --- | --- | :--------------------\n",
    "| Temperature | T | Charted above\n",
    "|salinity                       |S            |\"\n",
    "|dissolved oxygen               |O            |\"\n",
    "|Chlorophyll-A                  |A            |\"\n",
    "|backscatter ('bb700')          |B            |\"\n",
    "|fluorescence (FDOM)            |C           | Charted above; also note FDOM is sometimes referred to as CDOM\n",
    "|pCO2                           |R          |Carbon dioxide concentration: With pH this is measured on profiler *descent*, local noon and midnight profiles only\n",
    "|pH                             |H          |With pCO2 this is measured on profiler *descent*, local noon and midnight profiles only\n",
    "|nitrate                        |N          |Nitrate is measured (on ascent) on local noon and midnight profiles only\n",
    "|spectral irradiance            |I          |Spectrum spanned by 7 independent channels\n",
    "|PAR                            |P          |PAR: Photosynthetically Available Radiation\n",
    "|Velocity East + North + Up     |U V W      |Local current, 3-axis directional\n"
   ]
  },
  {
   "cell_type": "markdown",
   "id": "b81cd1a7",
   "metadata": {},
   "source": [
    "## Nitrate and PAR\n",
    "\n",
    "PAR (Photosynthetically Active Radiation) is measured continuously. Nitrate, pH and pCO2 are measured only\n",
    "on noon and midnight profiles; not the other seven per day.\n",
    "pH and pCO2 are measured on ***descent*** while nitrate concentration is measured on ascent.\n"
   ]
  },
  {
   "cell_type": "code",
   "execution_count": null,
   "id": "92124292",
   "metadata": {},
   "outputs": [],
   "source": [
    "pIdcs = GenerateTimeWindowIndices(pDf21, dt64_from_doy(2021, 67), dt64_from_doy(2021, 68), noon0, noon1)\n",
    "fig, axs = ChartAB(pDf21, [(nitrate_lo, nitrate_hi), (par_lo, par_hi)], pIdcs, \\\n",
    "                   dsN.nitrate, dsN.z, labelN, colorN,                                  \\\n",
    "                   dsP.par, dsP.z, labelP, colorP,                                       \\\n",
    "                   8, 3.5, -200, 0., \"ascent\", \"ascent\")"
   ]
  },
  {
   "cell_type": "code",
   "execution_count": null,
   "id": "9e48d62f",
   "metadata": {},
   "outputs": [],
   "source": [
    "pIdcs = GenerateTimeWindowIndices(pDf21, dt64_from_doy(2021, 69), dt64_from_doy(2021, 70), noon0, noon1)\n",
    "fig, axs = ChartAB(pDf21, [(pco2_lo, pco2_hi), (ph_lo, ph_hi)], pIdcs, \\\n",
    "                   dsR.pco2, dsR.z, labelR, colorR,                            \\\n",
    "                   dsH.ph, dsH.z, labelH, colorH,                              \\\n",
    "                   8, 3.5, -200, 0., \"descent\", \"descent\")"
   ]
  },
  {
   "cell_type": "code",
   "execution_count": null,
   "id": "399f590a",
   "metadata": {},
   "outputs": [],
   "source": [
    "pIdcs = GenerateTimeWindowIndices(pDf21, dt64_from_doy(2021, 69), dt64_from_doy(2021, 70), noon0, noon1)\n",
    "fig, axs = ChartAB(pDf21, [(0., 10.), (0., .5)], pIdcs, dsI.si412, dsI.z, 'Sp.Irr.412', 'blue', \\\n",
    "                   dsI.si683, dsI.z, 'Sp.Irr.683', 'red', 8, 3.5, -80, 0)"
   ]
  },
  {
   "cell_type": "markdown",
   "id": "97faa2a9",
   "metadata": {},
   "source": [
    "### Current measurement\n",
    "\n",
    "From the [documentation](https://interactiveoceans.washington.edu/instruments/current-meter/): \n",
    "\n",
    "> The Shallow Profilers at Oregon Offshore, Slope Base, and the Axial Base sites \\[...\\] measure the mean speed and direction of water in two-dimensions (U & V) as it moves past the sensor\n",
    "\n",
    "We can interpret water column velocities as a current moving past\n",
    "the profiler plus a velocity component that changes with depth. This difference has\n",
    "magnitude $|\\vec{a}-\\vec{b}|$. The difference of horizontal velocities \n",
    "at two depths is *shear*.\n"
   ]
  },
  {
   "cell_type": "code",
   "execution_count": null,
   "id": "fbcb57a9",
   "metadata": {},
   "outputs": [],
   "source": [
    "xrng = [(veast_lo, veast_hi), (vnorth_lo, vnorth_hi)]\n",
    "pIdcs = GenerateTimeWindowIndices(pDf21, dt64_from_doy(2021, 60), dt64_from_doy(2021, 61), noon0, noon1)\n",
    "fig, axs = ChartAB(pDf21, xrng, pIdcs, dsU.veast, dsU.z, 'Velocity East', 'green', \\\n",
    "                   dsV.vnorth, dsV.z, 'Velocity North', 'orange', 8, 3.5)"
   ]
  },
  {
   "cell_type": "markdown",
   "id": "06f045c6",
   "metadata": {},
   "source": [
    "## Animating time-series sensor profiles\n",
    "\n",
    "This animation runs from March 1 2021 forward, nine frames per day. Playback speed control is at the lower right.\n",
    "To produce animations of this sort: Please see the **`Notebooks`** folder, **`Ocean 10 Animation.ipynb`**."
   ]
  },
  {
   "cell_type": "code",
   "execution_count": null,
   "id": "52511c57",
   "metadata": {},
   "outputs": [],
   "source": [
    "Video(os.getcwd() + '/Images/animations/multisensor_animation.mp4', embed=True)"
   ]
  },
  {
   "cell_type": "markdown",
   "id": "28fe3fe8",
   "metadata": {},
   "source": [
    "# Bundle Charts\n",
    "\n",
    "The time-series breakdowns above suggest: ***What is the distribution of profiles for March 2021?***"
   ]
  },
  {
   "cell_type": "code",
   "execution_count": null,
   "id": "4564ca45",
   "metadata": {},
   "outputs": [],
   "source": [
    "ShowStaticBundles()"
   ]
  },
  {
   "cell_type": "markdown",
   "id": "26472fe1",
   "metadata": {},
   "source": [
    "# Interactive bundle charts\n",
    "\n",
    "The bundle charts have some interesting structure... including some shallow 'excursions' for example in salinity.\n",
    "Perhaps we can isolate these by selecting sub-bundes. Take a look at bundle size = 80 and compare start = 123 with start = 133. For temperature, oxygen and salinity there ought to be a noticeable 'something new'.\n",
    "\n",
    "\n",
    "Set the following variable `i_am_fast` to `True` if you want the sliders to update continuously. This is `False` by\n",
    "default to avoid halting/slow visualizations on less powerful machines."
   ]
  },
  {
   "cell_type": "code",
   "execution_count": 2,
   "id": "ea421cde",
   "metadata": {},
   "outputs": [],
   "source": [
    "i_am_fast = False"
   ]
  },
  {
   "cell_type": "code",
   "execution_count": 3,
   "id": "ae318d9a",
   "metadata": {},
   "outputs": [
    {
     "data": {
      "application/vnd.jupyter.widget-view+json": {
       "model_id": "54b8b7ca0dfc41e2b007fbacf9fedd18",
       "version_major": 2,
       "version_minor": 0
      },
      "text/plain": [
       "interactive(children=(Dropdown(description='sensor', index=1, options=('Oxygen', 'Temperature', 'Salinity', 'C…"
      ]
     },
     "metadata": {},
     "output_type": "display_data"
    },
    {
     "data": {
      "application/vnd.jupyter.widget-view+json": {
       "model_id": "52604cf8df1c4e2fbaa680b8efa57137",
       "version_major": 2,
       "version_minor": 0
      },
      "text/plain": [
       "interactive(children=(Dropdown(description='sensor', options=('Oxygen', 'Temperature', 'Salinity', 'Chlor-A', …"
      ]
     },
     "metadata": {},
     "output_type": "display_data"
    },
    {
     "data": {
      "application/vnd.jupyter.widget-view+json": {
       "model_id": "d4f0e1ddabaf4c0cb72ee5c06fffeeab",
       "version_major": 2,
       "version_minor": 0
      },
      "text/plain": [
       "interactive(children=(Dropdown(description='sensor', index=2, options=('Oxygen', 'Temperature', 'Salinity', 'C…"
      ]
     },
     "metadata": {},
     "output_type": "display_data"
    }
   ],
   "source": [
    "Interactor(i_am_fast)"
   ]
  },
  {
   "cell_type": "markdown",
   "id": "3d1bc539",
   "metadata": {},
   "source": [
    "# Stagger chart\n",
    "\n",
    "\n",
    "The idea here is to fan out a time-evolution of nitrate profiles. \n",
    "Time and nitrate concentration are superimposed on the horizontal axis; vertical\n",
    "axis is depth. Each profile is treated as a \"moment\". These \"61\" profiles actually number 50 in practice."
   ]
  },
  {
   "cell_type": "code",
   "execution_count": null,
   "id": "55982561",
   "metadata": {},
   "outputs": [],
   "source": [
    "NitrateStaggerChart()"
   ]
  },
  {
   "cell_type": "code",
   "execution_count": null,
   "id": "abb6a08b-7917-43d3-8bd1-77fc99a25703",
   "metadata": {},
   "outputs": [],
   "source": []
  }
 ],
 "metadata": {
  "kernelspec": {
   "display_name": "Python 3 (ipykernel)",
   "language": "python",
   "name": "python3"
  },
  "language_info": {
   "codemirror_mode": {
    "name": "ipython",
    "version": 3
   },
   "file_extension": ".py",
   "mimetype": "text/x-python",
   "name": "python",
   "nbconvert_exporter": "python",
   "pygments_lexer": "ipython3",
   "version": "3.9.12"
  }
 },
 "nbformat": 4,
 "nbformat_minor": 5
}
