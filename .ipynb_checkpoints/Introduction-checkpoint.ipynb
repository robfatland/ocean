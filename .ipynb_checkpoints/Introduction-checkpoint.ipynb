{
 "cells": [
  {
   "cell_type": "markdown",
   "id": "5f990d13",
   "metadata": {},
   "source": [
    "# Introduction\n",
    "\n",
    "\n",
    "This repository is a guide to working with oceanographic data. It is \n",
    "centered on the Regional Cabled Array Shallow Profilers (more on this below) with\n",
    "excursions into other related data sources. \n",
    "\n",
    "\n",
    "The main purpose of this ***Introduction*** notebook is bootstrapping: Both data\n",
    "and code. \n",
    "\n",
    "\n",
    "*Data bootstrapping* describes how to assemble\n",
    "source data for analysis. This repository has a small capacity (tens of megabytes)\n",
    "so some example data \"lives within\" the repository structure; and then larger datasets \n",
    "that tend to exceed that capacity are presumed to be located nearby: Relative to\n",
    "the repository root directory in **`../data/topic/`**.\n",
    "\n",
    "\n",
    "*Code bootstrapping* describes creating the processing environment (IPython notebooks, \n",
    "libraries, etcetera) and from there working with the code towards data interpretation. \n",
    "Some remarks on code development are provided in the **`HowTo`** subfolder. \n",
    "\n",
    "\n"
   ]
  },
  {
   "cell_type": "markdown",
   "id": "5faa3127",
   "metadata": {},
   "source": [
    "## Data bootstrapping\n",
    "\n",
    "\n",
    "The root directory of this repository will be designated **`./`**.\n",
    "\n",
    "\n",
    "Data that 'fit' within the repository size constraints (say 100MB) are located \n",
    "in **`./RepositoryData/context/sub-context/`**. As an example of context: Regional\n",
    "Cabled Array datasets are in sub-folder **`./RepositoryData/rca/`**. \n",
    "Sub-context: nitrate datasets are found in the sub-sub-folder\n",
    "**`./RepositoryData/rca/nitrate/`**. \n",
    "\n",
    "\n",
    "Data that do not fit within the repository are located in **`./../data/context/subcontext`**.\n",
    "Below is an abbreviated data catalog table. \n",
    "\n",
    "\n",
    "### Data Catalog\n",
    "\n",
    "```\n",
    "./RepositoryData/\n",
    "                 rca/\n",
    "                     ctd/\n",
    "                     current/\n",
    "                     fluor/\n",
    "                     irrad/\n",
    "                     nitrate/\n",
    "                     optaa/\n",
    "                     par/\n",
    "                     pCO2/\n",
    "                     pH/\n",
    "                     redux/\n",
    "./../data/\n",
    "```\n",
    " "
   ]
  },
  {
   "cell_type": "markdown",
   "id": "132a7e1b",
   "metadata": {},
   "source": [
    "## Code bootstrapping\n",
    "\n",
    "\n",
    "This repository was developed and is presumed to be running on a personal computer\n",
    "of some sort; a Mac or a Windows PC or a machine running Linux. Alternatively it may\n",
    "also be running on a Virtual Machine, for example on the public cloud (AWS, Azure, GCP\n",
    "etcetera). Building the working environment will require you to have administrative\n",
    "privileges on this machine, whatever its type. \n",
    "\n",
    "\n",
    "This section concerns building a working environment on this computer. \n",
    "Elements of this working environment are listed below. \n",
    "This repository is cloned into that environment from GitHub; whereupon the code\n",
    "will of course execute flawlessly.\n",
    "\n",
    "\n",
    "- establish a Linux kernel\n",
    "    - On Windows: Use the Windows Subsystem for Linux version 2 (WSL-2) \n",
    "- establish a Python interpreter\n",
    "    - be sure to install the latest stable build of Python 3\n",
    "- establish a Jupyter notebook server\n",
    "- install Python libraries"
   ]
  },
  {
   "cell_type": "code",
   "execution_count": null,
   "id": "293cc28d",
   "metadata": {},
   "outputs": [],
   "source": []
  },
  {
   "cell_type": "code",
   "execution_count": null,
   "id": "fd4bc524",
   "metadata": {},
   "outputs": [],
   "source": []
  }
 ],
 "metadata": {
  "kernelspec": {
   "display_name": "Python 3 (ipykernel)",
   "language": "python",
   "name": "python3"
  },
  "language_info": {
   "codemirror_mode": {
    "name": "ipython",
    "version": 3
   },
   "file_extension": ".py",
   "mimetype": "text/x-python",
   "name": "python",
   "nbconvert_exporter": "python",
   "pygments_lexer": "ipython3",
   "version": "3.9.7"
  }
 },
 "nbformat": 4,
 "nbformat_minor": 5
}
